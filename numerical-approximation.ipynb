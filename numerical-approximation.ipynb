{
 "cells": [
  {
   "cell_type": "code",
   "execution_count": 1,
   "id": "0eec0073",
   "metadata": {},
   "outputs": [],
   "source": [
    "import numpy as np"
   ]
  },
  {
   "cell_type": "markdown",
   "id": "7b72171d",
   "metadata": {},
   "source": [
    " Numerical Integration"
   ]
  },
  {
   "cell_type": "markdown",
   "id": "95b5a987",
   "metadata": {},
   "source": [
    "Trapezoidal rule"
   ]
  },
  {
   "cell_type": "code",
   "execution_count": 5,
   "id": "07293af1",
   "metadata": {},
   "outputs": [],
   "source": [
    "def f(x):\n",
    "    power = -x**2\n",
    "    return np.exp(power)\n",
    "\n",
    "def trapezoidal(f, a, b, n):\n",
    "    h = (b - a) / n\n",
    "    x_values = np.linspace(a, b, n + 1)\n",
    "    f_values = np.apply_along_axis(f, 0, x_values)\n",
    "    integral = 0.5 * (f_values[0] + f_values[-1])\n",
    "    sum_portion = f_values[1:-1].sum()\n",
    "    integral += sum_portion\n",
    "    integral *= h\n",
    "    return integral\n",
    "\n",
    "def max_double_derivative():\n",
    "    def double_derivative(x):\n",
    "        return -2 * np.exp(-x**2) * (1 - 2 * x**2)\n",
    "    soln = np.sqrt(3/2)\n",
    "    return double_derivative(soln)\n",
    "\n",
    "def estimate_error(a, b, n):\n",
    "    max_dd = max_double_derivative()\n",
    "    return -(b-a) **3 * max_dd / (12 * n**2)\n",
    "\n",
    "def iterate_trapezoidal(a, b, error_thres):\n",
    "    n=1\n",
    "    current_estimate = trapezoidal(f, a, b, n)\n",
    "    error = estimate_error(a, b, n)\n",
    "    while abs(error) > error_thres:\n",
    "        n +=1\n",
    "        current_estimate = trapezoidal(f, a, b, n)\n",
    "        error = estimate_error(a, b, n)\n",
    "        print(\"n:\", n, \"error:\", error, \"estimate:\", current_estimate)\n",
    "    return current_estimate, n"
   ]
  },
  {
   "cell_type": "code",
   "execution_count": 6,
   "id": "2a16afd8",
   "metadata": {},
   "outputs": [
    {
     "name": "stdout",
     "output_type": "stream",
     "text": [
      "n: 2 error: -0.018594180012369153 estimate: 0.731370251828563\n",
      "n: 3 error: -0.008264080005497401 estimate: 0.7399864752766817\n",
      "n: 4 error: -0.004648545003092288 estimate: 0.7429840978003812\n",
      "n: 5 error: -0.0029750688019790643 estimate: 0.7443683397636671\n",
      "n: 6 error: -0.0020660200013743503 estimate: 0.7451194124361793\n",
      "n: 7 error: -0.0015178922459076858 estimate: 0.7455719918300938\n",
      "n: 8 error: -0.001162136250773072 estimate: 0.7458656148456952\n",
      "n: 9 error: -0.0009182311117219334 estimate: 0.7460668679126695\n",
      "n: 10 error: -0.0007437672004947661 estimate: 0.7462107961317495\n",
      "n: 11 error: -0.0006146836367725339 estimate: 0.7463172722821153\n",
      "n: 12 error: -0.0005165050003435876 estimate: 0.7463982478934406\n",
      "n: 13 error: -0.0004400989352040036 estimate: 0.7464612610366896\n",
      "n: 14 error: -0.00037947306147692144 estimate: 0.7465112569702593\n",
      "n: 15 error: -0.00033056320021989603 estimate: 0.746551589160412\n",
      "n: 16 error: -0.000290534062693268 estimate: 0.7465845967882216\n",
      "n: 17 error: -0.0002573588929047633 estimate: 0.7466119518058221\n",
      "n: 18 error: -0.00022955777793048335 estimate: 0.7466348749506662\n",
      "n: 19 error: -0.00020602969542791303 estimate: 0.7466542743612603\n",
      "n: 20 error: -0.00018594180012369152 estimate: 0.7466708369398735\n",
      "n: 21 error: -0.00016865469398974286 estimate: 0.7466850900140077\n",
      "n: 22 error: -0.00015367090919313347 estimate: 0.7466974438404157\n",
      "n: 23 error: -0.00014059871464929414 estimate: 0.7467082214640061\n",
      "n: 24 error: -0.0001291262500858969 estimate: 0.7467176800552724\n",
      "n: 25 error: -0.00011900275207916257 estimate: 0.746726026396451\n",
      "n: 26 error: -0.0001100247338010009 estimate: 0.7467334282808928\n",
      "n: 27 error: -0.00010202567908021482 estimate: 0.7467400230133275\n",
      "n: 28 error: -9.486826536923036e-05 estimate: 0.7467459238240443\n",
      "n: 29 error: -8.843843049878313e-05 estimate: 0.7467512247622137\n",
      "n: 30 error: -8.264080005497401e-05 estimate: 0.7467560044669428\n",
      "n: 31 error: -7.73951301243253e-05 estimate: 0.7467603291008701\n",
      "n: 32 error: -7.2633515673317e-05 estimate: 0.7467642546522943\n",
      "n: 33 error: -6.829818186361488e-05 estimate: 0.7467678287565431\n",
      "n: 34 error: -6.433972322619083e-05 estimate: 0.7467710921479862\n",
      "n: 35 error: -6.071568983630743e-05 estimate: 0.746774079825882\n",
      "n: 36 error: -5.738944448262084e-05 estimate: 0.7467768219967451\n",
      "n: 37 error: -5.432923305294127e-05 estimate: 0.7467793448408863\n",
      "n: 38 error: -5.1507423856978256e-05 estimate: 0.7467816711396398\n",
      "n: 39 error: -4.889988168933373e-05 estimate: 0.7467838207914818\n",
      "n: 40 error: -4.648545003092288e-05 estimate: 0.7467858112389795\n",
      "n: 41 error: -4.424552055293076e-05 estimate: 0.7467876578237479\n",
      "n: 42 error: -4.2163673497435715e-05 estimate: 0.7467893740829676\n",
      "n: 43 error: -4.022537590561201e-05 estimate: 0.7467909719981991\n",
      "n: 44 error: -3.841772729828337e-05 estimate: 0.7467924622050727\n",
      "n: 45 error: -3.672924446887734e-05 estimate: 0.7467938541707269\n",
      "n: 46 error: -3.5149678662323535e-05 estimate: 0.746795156344544\n",
      "n: 47 error: -3.366985968740453e-05 estimate: 0.7467963762866784\n",
      "n: 48 error: -3.228156252147422e-05 estimate: 0.7467975207780381\n",
      "n: 49 error: -3.0977392773626244e-05 estimate: 0.7467985959147192\n",
      "n: 50 error: -2.9750688019790644e-05 estimate: 0.7467996071893512\n",
      "n: 51 error: -2.8595432544973705e-05 estimate: 0.7468005595613905\n",
      "n: 52 error: -2.7506183450250224e-05 estimate: 0.7468014575180426\n",
      "n: 53 error: -2.647800642558797e-05 estimate: 0.7468023051272138\n",
      "n: 54 error: -2.5506419770053704e-05 estimate: 0.7468031060836662\n",
      "n: 55 error: -2.4587345470901357e-05 estimate: 0.7468038637493485\n",
      "n: 56 error: -2.371706634230759e-05 estimate: 0.7468045811887346\n",
      "n: 57 error: -2.2892188380879225e-05 estimate: 0.746805261199859\n",
      "n: 58 error: -2.2109607624695782e-05 estimate: 0.7468059063416393\n",
      "n: 59 error: -2.13664809105075e-05 estimate: 0.7468065189579857\n",
      "n: 60 error: -2.0660200013743502e-05 estimate: 0.7468071011991207\n",
      "n: 61 error: -1.9988368731383123e-05 estimate: 0.7468076550404726\n",
      "n: 62 error: -1.9348782531081324e-05 estimate: 0.746808182299454\n",
      "n: 63 error: -1.8739410443304762e-05 estimate: 0.7468086846503904\n",
      "n: 64 error: -1.815837891832925e-05 estimate: 0.7468091636378281\n",
      "n: 65 error: -1.7603957408160144e-05 estimate: 0.7468096206884215\n",
      "n: 66 error: -1.707454546590372e-05 estimate: 0.7468100571215693\n",
      "n: 67 error: -1.6568661182774917e-05 estimate: 0.7468104741589461\n",
      "n: 68 error: -1.6084930806547708e-05 estimate: 0.746810872933062\n",
      "n: 69 error: -1.5622079405477128e-05 estimate: 0.7468112544949589\n",
      "n: 70 error: -1.5178922459076858e-05 estimate: 0.7468116198211436\n",
      "n: 71 error: -1.4754358272064393e-05 estimate: 0.7468119698198419\n",
      "n: 72 error: -1.434736112065521e-05 estimate: 0.7468123053366479\n",
      "n: 73 error: -1.3956975051506212e-05 estimate: 0.7468126271596383\n",
      "n: 74 error: -1.3582308263235318e-05 estimate: 0.746812936024002\n",
      "n: 75 error: -1.3222528008795842e-05 estimate: 0.746813232616244\n",
      "n: 76 error: -1.2876855964244564e-05 estimate: 0.7468135175780033\n",
      "n: 77 error: -1.2544564015765999e-05 estimate: 0.7468137915095259\n",
      "n: 78 error: -1.2224970422333433e-05 estimate: 0.7468140549728283\n",
      "n: 79 error: -1.1917436316211601e-05 estimate: 0.7468143084945823\n",
      "n: 80 error: -1.162136250773072e-05 estimate: 0.74681455256875\n",
      "n: 81 error: -1.1336186564468314e-05 estimate: 0.7468147876589906\n",
      "n: 82 error: -1.106138013823269e-05 estimate: 0.7468150142008647\n",
      "n: 83 error: -1.0796446516109248e-05 estimate: 0.7468152326038532\n",
      "n: 84 error: -1.0540918374358929e-05 estimate: 0.7468154432532087\n",
      "n: 85 error: -1.0294355716190534e-05 estimate: 0.7468156465116561\n",
      "n: 86 error: -1.0056343976403003e-05 estimate: 0.7468158427209547\n",
      "n: 87 error: -9.82649227764257e-06 estimate: 0.7468160322033357\n",
      "n: 88 error: -9.604431824570842e-06 estimate: 0.746816215262826\n",
      "n: 89 error: -9.389814423617802e-06 estimate: 0.746816392186469\n",
      "n: 90 error: -9.182311117219335e-06 estimate: 0.7468165632454504\n",
      "n: 91 error: -8.981610922530686e-06 estimate: 0.7468167286961371\n",
      "n: 92 error: -8.787419665580884e-06 estimate: 0.74681688878104\n",
      "n: 93 error: -8.59945890270281e-06 estimate: 0.7468170437297013\n",
      "n: 94 error: -8.417464921851132e-06 estimate: 0.7468171937595192\n",
      "n: 95 error: -8.241187817116522e-06 estimate: 0.7468173390765099\n",
      "n: 96 error: -8.070390630368556e-06 estimate: 0.7468174798760165\n",
      "n: 97 error: -7.904848554519779e-06 estimate: 0.7468176163433645\n",
      "n: 98 error: -7.744348193406561e-06 estimate: 0.746817748654472\n",
      "n: 99 error: -7.588686873734987e-06 estimate: 0.7468178769764184\n",
      "n: 100 error: -7.437672004947661e-06 estimate: 0.7468180014679701\n",
      "n: 101 error: -7.2911204832346445e-06 estimate: 0.7468181222800729\n",
      "n: 102 error: -7.148858136243426e-06 estimate: 0.7468182395563107\n",
      "n: 103 error: -7.010719205342314e-06 estimate: 0.74681835343333\n",
      "n: 104 error: -6.876545862562556e-06 estimate: 0.7468184640412405\n",
      "n: 105 error: -6.7461877595897146e-06 estimate: 0.7468185715039853\n",
      "n: 106 error: -6.6195016063969925e-06 estimate: 0.7468186759396885\n",
      "n: 107 error: -6.496350777314753e-06 estimate: 0.746818777460981\n",
      "n: 108 error: -6.376604942513426e-06 estimate: 0.746818876175303\n",
      "n: 109 error: -6.260139723043229e-06 estimate: 0.7468189721851889\n",
      "n: 110 error: -6.146836367725339e-06 estimate: 0.7468190655885344\n",
      "n: 111 error: -6.036581450326808e-06 estimate: 0.7468191564788446\n",
      "n: 112 error: -5.9292665855768976e-06 estimate: 0.7468192449454688\n",
      "n: 113 error: -5.824788162696891e-06 estimate: 0.7468193310738217\n",
      "n: 114 error: -5.723047095219806e-06 estimate: 0.7468194149455867\n",
      "n: 115 error: -5.623948585971766e-06 estimate: 0.7468194966389123\n",
      "n: 116 error: -5.5274019061739456e-06 estimate: 0.7468195762285923\n",
      "n: 117 error: -5.433320187703748e-06 estimate: 0.7468196537862386\n",
      "n: 118 error: -5.341620227626875e-06 estimate: 0.7468197293804409\n",
      "n: 119 error: -5.252222304178844e-06 estimate: 0.7468198030769198\n",
      "n: 120 error: -5.1650500034358754e-06 estimate: 0.7468198749386684\n",
      "n: 121 error: -5.0800300559713544e-06 estimate: 0.7468199450260882\n",
      "n: 122 error: -4.997092182845781e-06 estimate: 0.7468200133971148\n",
      "n: 123 error: -4.91616895032564e-06 estimate: 0.7468200801073386\n",
      "n: 124 error: -4.837195632770331e-06 estimate: 0.7468201452101174\n",
      "n: 125 error: -4.760110083166503e-06 estimate: 0.7468202087566832\n",
      "n: 126 error: -4.6848526108261905e-06 estimate: 0.7468202707962437\n",
      "n: 127 error: -4.611365865799281e-06 estimate: 0.7468203313760761\n",
      "n: 128 error: -4.539594729582313e-06 estimate: 0.7468203905416181\n",
      "n: 129 error: -4.4694862117346675e-06 estimate: 0.7468204483365536\n",
      "n: 130 error: -4.400989352040036e-06 estimate: 0.7468205048028929\n",
      "n: 131 error: -4.3340551278758e-06 estimate: 0.7468205599810483\n",
      "n: 132 error: -4.26863636647593e-06 estimate: 0.7468206139099081\n",
      "n: 133 error: -4.204687661794144e-06 estimate: 0.746820666626903\n",
      "n: 134 error: -4.142165295693729e-06 estimate: 0.7468207181680733\n",
      "n: 135 error: -4.081027163208593e-06 estimate: 0.7468207685681288\n",
      "n: 136 error: -4.021232701636927e-06 estimate: 0.7468208178605081\n",
      "n: 137 error: -3.962742823244531e-06 estimate: 0.7468208660774339\n",
      "n: 138 error: -3.905519851369282e-06 estimate: 0.7468209132499658\n",
      "n: 139 error: -3.849527459731722e-06 estimate: 0.7468209594080497\n",
      "n: 140 error: -3.7947306147692145e-06 estimate: 0.7468210045805664\n",
      "n: 141 error: -3.7410955208227255e-06 estimate: 0.7468210487953758\n",
      "n: 142 error: -3.6885895680160983e-06 estimate: 0.7468210920793605\n",
      "n: 143 error: -3.6371812826777155e-06 estimate: 0.7468211344584665\n",
      "n: 144 error: -3.5868402801638023e-06 estimate: 0.7468211759577416\n",
      "n: 145 error: -3.5375372199513248e-06 estimate: 0.7468212166013735\n",
      "n: 146 error: -3.489243762876553e-06 estimate: 0.7468212564127238\n",
      "n: 147 error: -3.441932530402916e-06 estimate: 0.7468212954143626\n",
      "n: 148 error: -3.3955770658088295e-06 estimate: 0.7468213336281\n",
      "n: 149 error: -3.3501517971927666e-06 estimate: 0.7468213710750164\n",
      "n: 150 error: -3.3056320021989604e-06 estimate: 0.7468214077754926\n",
      "n: 151 error: -3.261993774372905e-06 estimate: 0.7468214437492355\n",
      "n: 152 error: -3.219213991061141e-06 estimate: 0.7468214790153073\n",
      "n: 153 error: -3.177270282774856e-06 estimate: 0.7468215135921484\n",
      "n: 154 error: -3.1361410039414997e-06 estimate: 0.7468215474976028\n",
      "n: 155 error: -3.0958052049730116e-06 estimate: 0.7468215807489405\n",
      "n: 156 error: -3.0562426055833583e-06 estimate: 0.74682161336288\n",
      "n: 157 error: -3.017433569291923e-06 estimate: 0.746821645355609\n",
      "n: 158 error: -2.9793590790529003e-06 estimate: 0.7468216767428042\n",
      "n: 159 error: -2.942000713954219e-06 estimate: 0.7468217075396517\n",
      "n: 160 error: -2.90534062693268e-06 estimate: 0.7468217377608635\n",
      "n: 161 error: -2.8693615234549828e-06 estimate: 0.7468217674206967\n",
      "n: 162 error: -2.8340466411170786e-06 estimate: 0.74682179653297\n",
      "n: 163 error: -2.799379730116926e-06 estimate: 0.7468218251110791\n",
      "n: 164 error: -2.7653450345581724e-06 estimate: 0.7468218531680122\n",
      "n: 165 error: -2.7319272745445953e-06 estimate: 0.7468218807163659\n",
      "n: 166 error: -2.699111629027312e-06 estimate: 0.7468219077683582\n",
      "n: 167 error: -2.666883719368805e-06 estimate: 0.7468219343358421\n",
      "n: 168 error: -2.635229593589732e-06 estimate: 0.7468219604303193\n",
      "n: 169 error: -2.6041357112662934e-06 estimate: 0.7468219860629521\n",
      "n: 170 error: -2.5735889290476335e-06 estimate: 0.7468220112445754\n",
      "n: 171 error: -2.5435764867643584e-06 estimate: 0.7468220359857081\n",
      "n: 172 error: -2.5140859941007508e-06 estimate: 0.7468220602965645\n",
      "n: 173 error: -2.4851054178046912e-06 estimate: 0.7468220841870643\n",
      "n: 174 error: -2.4566230694106425e-06 estimate: 0.7468221076668431\n",
      "n: 175 error: -2.4286275934522973e-06 estimate: 0.7468221307452618\n",
      "n: 176 error: -2.4011079561427105e-06 estimate: 0.7468221534314168\n",
      "n: 177 error: -2.3740534345008333e-06 estimate: 0.7468221757341471\n",
      "n: 178 error: -2.3474536059044505e-06 estimate: 0.7468221976620453\n",
      "n: 179 error: -2.321298338050517e-06 estimate: 0.7468222192234636\n",
      "n: 180 error: -2.2955777793048337e-06 estimate: 0.7468222404265236\n",
      "n: 181 error: -2.2702823494239064e-06 estimate: 0.7468222612791228\n",
      "n: 182 error: -2.2454027306326714e-06 estimate: 0.7468222817889428\n",
      "n: 183 error: -2.2209298590425695e-06 estimate: 0.746822301963455\n",
      "n: 184 error: -2.196854916395221e-06 estimate: 0.7468223218099294\n",
      "n: 185 error: -2.173169322117651e-06 estimate: 0.7468223413354391\n",
      "n: 186 error: -2.1498647256757025e-06 estimate: 0.7468223605468683\n",
      "n: 187 error: -2.1269329992129202e-06 estimate: 0.746822379450917\n",
      "n: 188 error: -2.104366230462783e-06 estimate: 0.7468223980541081\n",
      "n: 189 error: -2.0821567159227513e-06 estimate: 0.7468224163627921\n",
      "n: 190 error: -2.0602969542791306e-06 estimate: 0.7468224343831524\n",
      "n: 191 error: -2.038779640072273e-06 estimate: 0.746822452121212\n",
      "n: 192 error: -2.017597657592139e-06 estimate: 0.7468224695828362\n",
      "n: 193 error: -1.996744074994674e-06 estimate: 0.7468224867737397\n",
      "n: 194 error: -1.9762121386299448e-06 estimate: 0.74682250369949\n",
      "n: 195 error: -1.9559952675733493e-06 estimate: 0.746822520365512\n",
      "n: 196 error: -1.9360870483516402e-06 estimate: 0.7468225367770929\n",
      "n: 197 error: -1.9164812298558736e-06 estimate: 0.7468225529393859\n",
      "n: 198 error: -1.8971717184337466e-06 estimate: 0.746822568857414\n",
      "n: 199 error: -1.8781525731541275e-06 estimate: 0.7468225845360755\n",
      "n: 200 error: -1.8594180012369152e-06 estimate: 0.7468225999801449\n",
      "n: 201 error: -1.8409623536416575e-06 estimate: 0.7468226151942795\n",
      "n: 202 error: -1.8227801208086611e-06 estimate: 0.7468226301830211\n",
      "n: 203 error: -1.8048659285465943e-06 estimate: 0.7468226449508\n",
      "n: 204 error: -1.7872145340608566e-06 estimate: 0.746822659501938\n",
      "n: 205 error: -1.7698208221172303e-06 estimate: 0.7468226738406524\n",
      "n: 206 error: -1.7526798013355784e-06 estimate: 0.7468226879710576\n",
      "n: 207 error: -1.7357866006085697e-06 estimate: 0.746822701897169\n",
      "n: 208 error: -1.719136465640639e-06 estimate: 0.7468227156229063\n",
      "n: 209 error: -1.702724755602587e-06 estimate: 0.7468227291520946\n",
      "n: 210 error: -1.6865469398974286e-06 estimate: 0.7468227424884692\n",
      "n: 211 error: -1.670598595033279e-06 estimate: 0.7468227556356767\n",
      "n: 212 error: -1.6548754015992481e-06 estimate: 0.7468227685972778\n",
      "n: 213 error: -1.6393731413404882e-06 estimate: 0.7468227813767498\n",
      "n: 214 error: -1.6240876943286883e-06 estimate: 0.7468227939774891\n",
      "n: 215 error: -1.6090150362244803e-06 estimate: 0.746822806402813\n",
      "n: 216 error: -1.5941512356283565e-06 estimate: 0.7468228186559626\n",
      "n: 217 error: -1.5794924515168427e-06 estimate: 0.7468228307401045\n",
      "n: 218 error: -1.5650349307608072e-06 estimate: 0.7468228426583323\n",
      "n: 219 error: -1.5507750057229125e-06 estimate: 0.7468228544136696\n",
      "n: 220 error: -1.5367090919313348e-06 estimate: 0.7468228660090712\n",
      "n: 221 error: -1.522833685827002e-06 estimate: 0.7468228774474256\n",
      "n: 222 error: -1.509145362581702e-06 estimate: 0.7468228887315558\n",
      "n: 223 error: -1.4956407739845283e-06 estimate: 0.7468228998642218\n",
      "n: 224 error: -1.4823166463942244e-06 estimate: 0.7468229108481228\n",
      "n: 225 error: -1.4691697787550934e-06 estimate: 0.7468229216858974\n",
      "n: 226 error: -1.4561970406742228e-06 estimate: 0.746822932380126\n",
      "n: 227 error: -1.4433953705578724e-06 estimate: 0.7468229429333326\n",
      "n: 228 error: -1.4307617738049516e-06 estimate: 0.7468229533479858\n",
      "n: 229 error: -1.4182933210555978e-06 estimate: 0.7468229636265007\n",
      "n: 230 error: -1.4059871464929415e-06 estimate: 0.7468229737712395\n",
      "n: 231 error: -1.393840446196222e-06 estimate: 0.7468229837845135\n",
      "n: 232 error: -1.3818504765434864e-06 estimate: 0.7468229936685847\n",
      "n: 233 error: -1.370014552662171e-06 estimate: 0.7468230034256665\n",
      "n: 234 error: -1.358330046925937e-06 estimate: 0.746823013057925\n",
      "n: 235 error: -1.3467943874961811e-06 estimate: 0.7468230225674799\n",
      "n: 236 error: -1.3354050569067188e-06 estimate: 0.7468230319564071\n",
      "n: 237 error: -1.324159590690178e-06 estimate: 0.7468230412267377\n",
      "n: 238 error: -1.313055576044711e-06 estimate: 0.7468230503804612\n",
      "n: 239 error: -1.302090650539672e-06 estimate: 0.7468230594195248\n",
      "n: 240 error: -1.2912625008589689e-06 estimate: 0.7468230683458353\n",
      "n: 241 error: -1.2805688615808373e-06 estimate: 0.7468230771612608\n",
      "n: 242 error: -1.2700075139928386e-06 estimate: 0.7468230858676299\n",
      "n: 243 error: -1.2595762849409237e-06 estimate: 0.7468230944667343\n",
      "n: 244 error: -1.2492730457114452e-06 estimate: 0.7468231029603288\n",
      "n: 245 error: -1.2390957109450497e-06 estimate: 0.7468231113501325\n",
      "n: 246 error: -1.22904223758141e-06 estimate: 0.7468231196378293\n",
      "n: 247 error: -1.219110623833805e-06 estimate: 0.7468231278250695\n",
      "n: 248 error: -1.2092989081925828e-06 estimate: 0.7468231359134705\n",
      "n: 249 error: -1.199605168456583e-06 estimate: 0.7468231439046166\n",
      "n: 250 error: -1.1900275207916257e-06 estimate: 0.7468231518000608\n",
      "n: 251 error: -1.180564118815203e-06 estimate: 0.7468231596013252\n",
      "n: 252 error: -1.1712131527065476e-06 estimate: 0.7468231673099015\n",
      "n: 253 error: -1.161972848341274e-06 estimate: 0.7468231749272527\n",
      "n: 254 error: -1.1528414664498203e-06 estimate: 0.7468231824548123\n",
      "n: 255 error: -1.143817301798948e-06 estimate: 0.7468231898939861\n",
      "n: 256 error: -1.1348986823955782e-06 estimate: 0.7468231972461523\n",
      "n: 257 error: -1.1260839687122683e-06 estimate: 0.7468232045126627\n",
      "n: 258 error: -1.1173715529336669e-06 estimate: 0.7468232116948426\n",
      "n: 259 error: -1.1087598582232914e-06 estimate: 0.7468232187939916\n",
      "n: 260 error: -1.100247338010009e-06 estimate: 0.7468232258113852\n",
      "n: 261 error: -1.0918324752936187e-06 estimate: 0.7468232327482736\n",
      "n: 262 error: -1.08351378196895e-06 estimate: 0.7468232396058836\n",
      "n: 263 error: -1.0752897981679164e-06 estimate: 0.7468232463854186\n",
      "n: 264 error: -1.0671590916189825e-06 estimate: 0.7468232530880595\n",
      "n: 265 error: -1.0591202570235188e-06 estimate: 0.7468232597149645\n",
      "n: 266 error: -1.051171915448536e-06 estimate: 0.7468232662672708\n",
      "n: 267 error: -1.0433127137353113e-06 estimate: 0.7468232727460934\n",
      "n: 268 error: -1.0355413239234323e-06 estimate: 0.7468232791525272\n",
      "n: 269 error: -1.0278564426897998e-06 estimate: 0.7468232854876465\n",
      "n: 270 error: -1.0202567908021482e-06 estimate: 0.7468232917525062\n",
      "n: 271 error: -1.012741112586656e-06 estimate: 0.7468232979481411\n",
      "n: 272 error: -1.0053081754092317e-06 estimate: 0.7468233040755675\n",
      "n: 273 error: -9.979567691700762e-07 estimate: 0.7468233101357828\n"
     ]
    },
    {
     "data": {
      "text/plain": [
       "(np.float64(0.7468233101357828), 273)"
      ]
     },
     "execution_count": 6,
     "metadata": {},
     "output_type": "execute_result"
    }
   ],
   "source": [
    "iterate_trapezoidal(0, 1, 1e-6)"
   ]
  },
  {
   "cell_type": "markdown",
   "id": "e2767071",
   "metadata": {},
   "source": [
    "Simpson's rule"
   ]
  },
  {
   "cell_type": "code",
   "execution_count": 7,
   "id": "7e410c25",
   "metadata": {},
   "outputs": [],
   "source": [
    "def simpsons(f, a, b, n):\n",
    "    if n % 2 == 1:\n",
    "        n += 1\n",
    "    h = (b - a) / n\n",
    "    x = np.linspace(a, b, n + 1)\n",
    "    fx = np.apply_along_axis(f, 0, x)\n",
    "    integral = (fx[0] + 4 * fx[1:-1:2].sum() + 2 * fx[2:-2:2].sum()) * h / 3\n",
    "    return integral\n",
    "\n",
    "def estimate_error(a, b, n):\n",
    "    max_fourth_derivative = 5.438865491142\n",
    "    return -(b - a) ** 5 * max_fourth_derivative / (180 * n ** 4)\n",
    "\n",
    "def iterate_simpsons(a, b, error_thres):\n",
    "    n = 2\n",
    "    current_estimate = simpsons(f, a, b, n)\n",
    "    error = estimate_error(a, b, n)\n",
    "    while abs(error) > error_thres:\n",
    "        n += 2\n",
    "        current_estimate = simpsons(f, a, b, n)\n",
    "        error = estimate_error(a, b, n)\n",
    "        print(\"n:\", n, \"error:\", error, \"estimate:\", current_estimate)\n",
    "    return current_estimate, n\n"
   ]
  },
  {
   "cell_type": "code",
   "execution_count": 8,
   "id": "c28c0467",
   "metadata": {},
   "outputs": [
    {
     "name": "stdout",
     "output_type": "stream",
     "text": [
      "n: 4 error: -0.00011803093513763021 estimate: 0.7161987596933671\n",
      "n: 6 error: -2.3314752619778806e-05 estimate: 0.7263926447575981\n",
      "n: 8 error: -7.376933446101888e-06 estimate: 0.7314978104786566\n",
      "n: 10 error: -3.021591939523333e-06 estimate: 0.7345623002153955\n",
      "n: 12 error: -1.4571720387361754e-06 estimate: 0.736605653013321\n",
      "n: 14 error: -7.865451737618007e-07 estimate: 0.7380653110367089\n"
     ]
    },
    {
     "data": {
      "text/plain": [
       "(np.float64(0.7380653110367089), 14)"
      ]
     },
     "execution_count": 8,
     "metadata": {},
     "output_type": "execute_result"
    }
   ],
   "source": [
    "iterate_simpsons(0, 1, 1e-6)"
   ]
  },
  {
   "cell_type": "markdown",
   "id": "7062fe65",
   "metadata": {},
   "source": [
    "Numerical Solver"
   ]
  },
  {
   "cell_type": "markdown",
   "id": "5a9553f8",
   "metadata": {},
   "source": [
    "Binary search"
   ]
  },
  {
   "cell_type": "code",
   "execution_count": 17,
   "id": "a3cfe167",
   "metadata": {},
   "outputs": [],
   "source": [
    "def search_function(x):\n",
    "    return 5*np.exp(-x) +x -5\n",
    "\n",
    "def binary_search(search_function, error_thresh):\n",
    "    low = -10\n",
    "    high = 1\n",
    "    assert(search_function(low) * search_function(high) < 0)\n",
    "    while high - low > error_thresh:\n",
    "        mid = (low + high) / 2\n",
    "        if search_function(mid) == 0:\n",
    "            return mid\n",
    "        elif search_function(low) * search_function(mid) < 0:\n",
    "            high = mid\n",
    "        else:\n",
    "            low = mid\n",
    "    return (low + high) / 2"
   ]
  },
  {
   "cell_type": "code",
   "execution_count": 18,
   "id": "aa9e281e",
   "metadata": {},
   "outputs": [
    {
     "data": {
      "text/plain": [
       "-2.9802322387695312e-08"
      ]
     },
     "execution_count": 18,
     "metadata": {},
     "output_type": "execute_result"
    }
   ],
   "source": [
    "binary_search(search_function, 1e-6)"
   ]
  },
  {
   "cell_type": "markdown",
   "id": "a303c097",
   "metadata": {},
   "source": [
    "Relaxation method"
   ]
  },
  {
   "cell_type": "code",
   "execution_count": 44,
   "id": "1cdb52a6",
   "metadata": {},
   "outputs": [],
   "source": [
    "def rearranged(x):\n",
    "    return 5 - 5 * np.exp(-x) \n",
    "\n",
    "def relaxation(error_thres):\n",
    "    x = 0.5\n",
    "    while True:\n",
    "        x_new = rearranged(x)\n",
    "        if abs(x_new - x) < error_thres:\n",
    "            return x_new\n",
    "        x = x_new"
   ]
  },
  {
   "cell_type": "code",
   "execution_count": 45,
   "id": "3ff5fe5e",
   "metadata": {},
   "outputs": [
    {
     "data": {
      "text/plain": [
       "np.float64(4.965114230015083)"
      ]
     },
     "execution_count": 45,
     "metadata": {},
     "output_type": "execute_result"
    }
   ],
   "source": [
    "relaxation(1e-6)"
   ]
  },
  {
   "cell_type": "markdown",
   "id": "d5f3ebf6",
   "metadata": {},
   "source": [
    "Two different roots are obtained"
   ]
  },
  {
   "cell_type": "markdown",
   "id": "4e104aa2",
   "metadata": {},
   "source": [
    "Newton's method"
   ]
  },
  {
   "cell_type": "code",
   "execution_count": 52,
   "id": "0cf73043",
   "metadata": {},
   "outputs": [],
   "source": [
    "def f1(x):\n",
    "    return float(924*x**6 -2772*x**5 + 3150*x**4 -1680*x**3 + 420*x**2 -42*x +1)\n",
    "\n",
    "def f1_derivative(x):\n",
    "    return float(924*6*x**5 - 2772*5*x**4 + 3150*4*x**3 - 1680*3*x**2 + 420*2*x - 42)\n",
    "\n",
    "def newtons_method(f, f_derivative, x0, dp):\n",
    "    x = x0\n",
    "    while True:\n",
    "        x_new = x - f(x) / f_derivative(x)\n",
    "        if abs(x_new - x) < dp:\n",
    "            return x_new\n",
    "        x = x_new\n",
    "\n",
    "\n",
    "\n"
   ]
  },
  {
   "cell_type": "code",
   "execution_count": 53,
   "id": "7ff2cf7d",
   "metadata": {},
   "outputs": [
    {
     "data": {
      "text/plain": [
       "0.03376524289842398"
      ]
     },
     "execution_count": 53,
     "metadata": {},
     "output_type": "execute_result"
    }
   ],
   "source": [
    "newtons_method(f1, f1_derivative, 0, 1e-10)"
   ]
  },
  {
   "cell_type": "code",
   "execution_count": 54,
   "id": "e01fd73d",
   "metadata": {},
   "outputs": [
    {
     "data": {
      "text/plain": [
       "0.16939530676686765"
      ]
     },
     "execution_count": 54,
     "metadata": {},
     "output_type": "execute_result"
    }
   ],
   "source": [
    "newtons_method(f1, f1_derivative, 0.2, 1e-10)"
   ]
  },
  {
   "cell_type": "code",
   "execution_count": 55,
   "id": "7c91cf3e",
   "metadata": {},
   "outputs": [
    {
     "data": {
      "text/plain": [
       "0.3806904069584"
      ]
     },
     "execution_count": 55,
     "metadata": {},
     "output_type": "execute_result"
    }
   ],
   "source": [
    "newtons_method(f1, f1_derivative, 0.4, 1e-10)"
   ]
  },
  {
   "cell_type": "code",
   "execution_count": 56,
   "id": "0ec0b217",
   "metadata": {},
   "outputs": [
    {
     "data": {
      "text/plain": [
       "0.619309593041593"
      ]
     },
     "execution_count": 56,
     "metadata": {},
     "output_type": "execute_result"
    }
   ],
   "source": [
    "newtons_method(f1, f1_derivative, 0.6, 1e-10)"
   ]
  },
  {
   "cell_type": "code",
   "execution_count": 57,
   "id": "08dbc623",
   "metadata": {},
   "outputs": [
    {
     "data": {
      "text/plain": [
       "0.8306046932331476"
      ]
     },
     "execution_count": 57,
     "metadata": {},
     "output_type": "execute_result"
    }
   ],
   "source": [
    "newtons_method(f1, f1_derivative, 0.8, 1e-10)"
   ]
  },
  {
   "cell_type": "code",
   "execution_count": 58,
   "id": "488912e1",
   "metadata": {},
   "outputs": [
    {
     "data": {
      "text/plain": [
       "0.9662347571016031"
      ]
     },
     "execution_count": 58,
     "metadata": {},
     "output_type": "execute_result"
    }
   ],
   "source": [
    "newtons_method(f1, f1_derivative, 1, 1e-10)"
   ]
  },
  {
   "cell_type": "markdown",
   "id": "5d38922a",
   "metadata": {},
   "source": [
    " Monte Carlo Simulation: volume of a sphere of unit radius in ten dimensions"
   ]
  },
  {
   "cell_type": "code",
   "execution_count": 59,
   "id": "8727c37b",
   "metadata": {},
   "outputs": [],
   "source": [
    "points = np.random.uniform(-1, 1, (1_000_000, 10))\n",
    "dist = np.linalg.norm(points, axis=1, ord=2)\n",
    "inside_sphere = np.sum(dist <= 1)\n",
    "volume = (inside_sphere / 1_000_000) * 2**10"
   ]
  },
  {
   "cell_type": "code",
   "execution_count": 60,
   "id": "69246bc5",
   "metadata": {},
   "outputs": [
    {
     "data": {
      "text/plain": [
       "np.float64(2.514944)"
      ]
     },
     "execution_count": 60,
     "metadata": {},
     "output_type": "execute_result"
    }
   ],
   "source": [
    "volume"
   ]
  },
  {
   "cell_type": "code",
   "execution_count": null,
   "id": "1122e954",
   "metadata": {},
   "outputs": [],
   "source": []
  }
 ],
 "metadata": {
  "kernelspec": {
   "display_name": "aqa2",
   "language": "python",
   "name": "python3"
  },
  "language_info": {
   "codemirror_mode": {
    "name": "ipython",
    "version": 3
   },
   "file_extension": ".py",
   "mimetype": "text/x-python",
   "name": "python",
   "nbconvert_exporter": "python",
   "pygments_lexer": "ipython3",
   "version": "3.13.5"
  }
 },
 "nbformat": 4,
 "nbformat_minor": 5
}
