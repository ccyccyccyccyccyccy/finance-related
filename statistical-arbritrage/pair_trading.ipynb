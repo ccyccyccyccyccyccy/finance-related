{
  "nbformat": 4,
  "nbformat_minor": 0,
  "metadata": {
    "colab": {
      "provenance": []
    },
    "kernelspec": {
      "name": "python3",
      "display_name": "Python 3"
    },
    "language_info": {
      "name": "python"
    }
  },
  "cells": [
    {
      "cell_type": "markdown",
      "source": [],
      "metadata": {
        "id": "5fMsLoU0L_vG"
      }
    },
    {
      "cell_type": "markdown",
      "source": [
        "analysis section"
      ],
      "metadata": {
        "id": "qVAmQsd8aeOF"
      }
    },
    {
      "cell_type": "code",
      "source": [
        "import requests"
      ],
      "metadata": {
        "id": "X3wa4JnnY6Wf"
      },
      "execution_count": null,
      "outputs": []
    },
    {
      "cell_type": "code",
      "source": [
        "base_url= \"https://e2277aeb04e5.ngrok-free.app\""
      ],
      "metadata": {
        "id": "JGd_hQeH_ZVT"
      },
      "execution_count": null,
      "outputs": []
    },
    {
      "cell_type": "code",
      "source": [
        "import requests\n",
        "\n",
        "url = f\"{base_url}/stocks\"\n",
        "params = {\n",
        "    \"StartDate\": \"2010-01-01\",\n",
        "    \"EndDate\": \"2025-08-07\",\n",
        "    \"Ticker\": \"688707.SS\",\n",
        "    \"Fields\": [\"timestamp\",\"close\"]\n",
        "}\n",
        "\n",
        "response = requests.get(url, params=params)\n",
        "\n",
        "# If the response is JSON\n",
        "data = response.json()\n",
        "print(data)\n"
      ],
      "metadata": {
        "colab": {
          "base_uri": "https://localhost:8080/"
        },
        "id": "SXGjerZtQX8Y",
        "outputId": "2b0dff83-2056-4cdd-93b1-5a06baa7ab8c"
      },
      "execution_count": null,
      "outputs": [
        {
          "output_type": "stream",
          "name": "stdout",
          "text": [
            "[{'_id': {'$oid': '68937d2de8cb789dfb8bbd44'}, 'close': 45.41792678833008, 'timestamp': {'$date': '2021-09-13T16:00:00Z'}}, {'_id': {'$oid': '68937d2de8cb789dfb8bbd45'}, 'close': 45.253536224365234, 'timestamp': {'$date': '2021-09-14T16:00:00Z'}}, {'_id': {'$oid': '68937d2de8cb789dfb8bbd46'}, 'close': 39.26808547973633, 'timestamp': {'$date': '2021-09-15T16:00:00Z'}}, {'_id': {'$oid': '68937d2de8cb789dfb8bbd47'}, 'close': 37.672607421875, 'timestamp': {'$date': '2021-09-16T16:00:00Z'}}, {'_id': {'$oid': '68937d2de8cb789dfb8bbd48'}, 'close': 37.69194412231445, 'timestamp': {'$date': '2021-09-21T16:00:00Z'}}, {'_id': {'$oid': '68937d2de8cb789dfb8bbd49'}, 'close': 35.97076416015625, 'timestamp': {'$date': '2021-09-22T16:00:00Z'}}, {'_id': {'$oid': '68937d2de8cb789dfb8bbd4a'}, 'close': 36.00944519042969, 'timestamp': {'$date': '2021-09-23T16:00:00Z'}}, {'_id': {'$oid': '68937d2de8cb789dfb8bbd4b'}, 'close': 33.679080963134766, 'timestamp': {'$date': '2021-09-26T16:00:00Z'}}, {'_id': {'$oid': '68937d2de8cb789dfb8bbd4c'}, 'close': 34.578346252441406, 'timestamp': {'$date': '2021-09-27T16:00:00Z'}}, {'_id': {'$oid': '68937d2de8cb789dfb8bbd4d'}, 'close': 35.00381088256836, 'timestamp': {'$date': '2021-09-28T16:00:00Z'}}, {'_id': {'$oid': '68937d2de8cb789dfb8bbd4e'}, 'close': 37.56624221801758, 'timestamp': {'$date': '2021-09-29T16:00:00Z'}}, {'_id': {'$oid': '68937d2de8cb789dfb8bbd4f'}, 'close': 36.74433135986328, 'timestamp': {'$date': '2021-10-07T16:00:00Z'}}, {'_id': {'$oid': '68937d2de8cb789dfb8bbd50'}, 'close': 36.96672821044922, 'timestamp': {'$date': '2021-10-10T16:00:00Z'}}, {'_id': {'$oid': '68937d2de8cb789dfb8bbd51'}, 'close': 34.23024368286133, 'timestamp': {'$date': '2021-10-11T16:00:00Z'}}, {'_id': {'$oid': '68937d2de8cb789dfb8bbd52'}, 'close': 37.13111114501953, 'timestamp': {'$date': '2021-10-12T16:00:00Z'}}, {'_id': {'$oid': '68937d2de8cb789dfb8bbd53'}, 'close': 37.334171295166016, 'timestamp': {'$date': '2021-10-13T16:00:00Z'}}, {'_id': {'$oid': '68937d2de8cb789dfb8bbd54'}, 'close': 39.33577346801758, 'timestamp': {'$date': '2021-10-14T16:00:00Z'}}, {'_id': {'$oid': '68937d2de8cb789dfb8bbd55'}, 'close': 42.02391052246094, 'timestamp': {'$date': '2021-10-17T16:00:00Z'}}, {'_id': {'$oid': '68937d2de8cb789dfb8bbd56'}, 'close': 42.69110870361328, 'timestamp': {'$date': '2021-10-18T16:00:00Z'}}, {'_id': {'$oid': '68937d2de8cb789dfb8bbd57'}, 'close': 45.15684509277344, 'timestamp': {'$date': '2021-10-19T16:00:00Z'}}, {'_id': {'$oid': '68937d2de8cb789dfb8bbd58'}, 'close': 46.181819915771484, 'timestamp': {'$date': '2021-10-20T16:00:00Z'}}, {'_id': {'$oid': '68937d2de8cb789dfb8bbd59'}, 'close': 43.98683166503906, 'timestamp': {'$date': '2021-10-21T16:00:00Z'}}, {'_id': {'$oid': '68937d2de8cb789dfb8bbd5a'}, 'close': 46.26884460449219, 'timestamp': {'$date': '2021-10-24T16:00:00Z'}}, {'_id': {'$oid': '68937d2de8cb789dfb8bbd5b'}, 'close': 44.76039505004883, 'timestamp': {'$date': '2021-10-25T16:00:00Z'}}, {'_id': {'$oid': '68937d2de8cb789dfb8bbd5c'}, 'close': 44.4316291809082, 'timestamp': {'$date': '2021-10-26T16:00:00Z'}}, {'_id': {'$oid': '68937d2de8cb789dfb8bbd5d'}, 'close': 41.75315856933594, 'timestamp': {'$date': '2021-10-27T16:00:00Z'}}, {'_id': {'$oid': '68937d2de8cb789dfb8bbd5e'}, 'close': 41.56944274902344, 'timestamp': {'$date': '2021-10-28T16:00:00Z'}}, {'_id': {'$oid': '68937d2de8cb789dfb8bbd5f'}, 'close': 48.2511100769043, 'timestamp': {'$date': '2021-10-31T16:00:00Z'}}, {'_id': {'$oid': '68937d2de8cb789dfb8bbd60'}, 'close': 46.781333923339844, 'timestamp': {'$date': '2021-11-01T16:00:00Z'}}, {'_id': {'$oid': '68937d2de8cb789dfb8bbd61'}, 'close': 45.71767807006836, 'timestamp': {'$date': '2021-11-02T16:00:00Z'}}, {'_id': {'$oid': '68937d2de8cb789dfb8bbd62'}, 'close': 46.752323150634766, 'timestamp': {'$date': '2021-11-03T16:00:00Z'}}, {'_id': {'$oid': '68937d2de8cb789dfb8bbd63'}, 'close': 45.78536605834961, 'timestamp': {'$date': '2021-11-04T16:00:00Z'}}, {'_id': {'$oid': '68937d2de8cb789dfb8bbd64'}, 'close': 48.1544075012207, 'timestamp': {'$date': '2021-11-07T16:00:00Z'}}, {'_id': {'$oid': '68937d2de8cb789dfb8bbd65'}, 'close': 47.864322662353516, 'timestamp': {'$date': '2021-11-08T16:00:00Z'}}, {'_id': {'$oid': '68937d2de8cb789dfb8bbd66'}, 'close': 46.220497131347656, 'timestamp': {'$date': '2021-11-09T16:00:00Z'}}, {'_id': {'$oid': '68937d2de8cb789dfb8bbd67'}, 'close': 45.727352142333984, 'timestamp': {'$date': '2021-11-10T16:00:00Z'}}, {'_id': {'$oid': '68937d2de8cb789dfb8bbd68'}, 'close': 45.73701858520508, 'timestamp': {'$date': '2021-11-11T16:00:00Z'}}, {'_id': {'$oid': '68937d2de8cb789dfb8bbd69'}, 'close': 43.92881393432617, 'timestamp': {'$date': '2021-11-14T16:00:00Z'}}, {'_id': {'$oid': '68937d2de8cb789dfb8bbd6a'}, 'close': 42.54606628417969, 'timestamp': {'$date': '2021-11-15T16:00:00Z'}}, {'_id': {'$oid': '68937d2de8cb789dfb8bbd6b'}, 'close': 45.108497619628906, 'timestamp': {'$date': '2021-11-16T16:00:00Z'}}, {'_id': {'$oid': '68937d2de8cb789dfb8bbd6c'}, 'close': 47.303489685058594, 'timestamp': {'$date': '2021-11-17T16:00:00Z'}}, {'_id': {'$oid': '68937d2de8cb789dfb8bbd6d'}, 'close': 49.78856658935547, 'timestamp': {'$date': '2021-11-18T16:00:00Z'}}, {'_id': {'$oid': '68937d2de8cb789dfb8bbd6e'}, 'close': 52.69910430908203, 'timestamp': {'$date': '2021-11-21T16:00:00Z'}}, {'_id': {'$oid': '68937d2de8cb789dfb8bbd6f'}, 'close': 51.355037689208984, 'timestamp': {'$date': '2021-11-22T16:00:00Z'}}, {'_id': {'$oid': '68937d2de8cb789dfb8bbd70'}, 'close': 50.85221862792969, 'timestamp': {'$date': '2021-11-23T16:00:00Z'}}, {'_id': {'$oid': '68937d2de8cb789dfb8bbd71'}, 'close': 51.61611557006836, 'timestamp': {'$date': '2021-11-24T16:00:00Z'}}, {'_id': {'$oid': '68937d2de8cb789dfb8bbd72'}, 'close': 53.182579040527344, 'timestamp': {'$date': '2021-11-25T16:00:00Z'}}, {'_id': {'$oid': '68937d2de8cb789dfb8bbd73'}, 'close': 53.48234176635742, 'timestamp': {'$date': '2021-11-28T16:00:00Z'}}, {'_id': {'$oid': '68937d2de8cb789dfb8bbd74'}, 'close': 51.857852935791016, 'timestamp': {'$date': '2021-11-29T16:00:00Z'}}, {'_id': {'$oid': '68937d2de8cb789dfb8bbd75'}, 'close': 52.09959030151367, 'timestamp': {'$date': '2021-11-30T16:00:00Z'}}, {'_id': {'$oid': '68937d2de8cb789dfb8bbd76'}, 'close': 51.24867248535156, 'timestamp': {'$date': '2021-12-01T16:00:00Z'}}, {'_id': {'$oid': '68937d2de8cb789dfb8bbd77'}, 'close': 51.05527877807617, 'timestamp': {'$date': '2021-12-02T16:00:00Z'}}, {'_id': {'$oid': '68937d2de8cb789dfb8bbd78'}, 'close': 50.20435333251953, 'timestamp': {'$date': '2021-12-05T16:00:00Z'}}, {'_id': {'$oid': '68937d2de8cb789dfb8bbd79'}, 'close': 49.02467346191406, 'timestamp': {'$date': '2021-12-06T16:00:00Z'}}, {'_id': {'$oid': '68937d2de8cb789dfb8bbd7a'}, 'close': 52.515384674072266, 'timestamp': {'$date': '2021-12-07T16:00:00Z'}}, {'_id': {'$oid': '68937d2de8cb789dfb8bbd7b'}, 'close': 52.1576042175293, 'timestamp': {'$date': '2021-12-08T16:00:00Z'}}, {'_id': {'$oid': '68937d2de8cb789dfb8bbd7c'}, 'close': 52.62174606323242, 'timestamp': {'$date': '2021-12-09T16:00:00Z'}}, {'_id': {'$oid': '68937d2de8cb789dfb8bbd7d'}, 'close': 50.890899658203125, 'timestamp': {'$date': '2021-12-12T16:00:00Z'}}, {'_id': {'$oid': '68937d2de8cb789dfb8bbd7e'}, 'close': 50.72651672363281, 'timestamp': {'$date': '2021-12-13T16:00:00Z'}}, {'_id': {'$oid': '68937d2de8cb789dfb8bbd7f'}, 'close': 49.99162673950195, 'timestamp': {'$date': '2021-12-14T16:00:00Z'}}, {'_id': {'$oid': '68937d2de8cb789dfb8bbd80'}, 'close': 50.32039260864258, 'timestamp': {'$date': '2021-12-15T16:00:00Z'}}, {'_id': {'$oid': '68937d2de8cb789dfb8bbd81'}, 'close': 46.317195892333984, 'timestamp': {'$date': '2021-12-16T16:00:00Z'}}, {'_id': {'$oid': '68937d2de8cb789dfb8bbd82'}, 'close': 44.673370361328125, 'timestamp': {'$date': '2021-12-19T16:00:00Z'}}, {'_id': {'$oid': '68937d2de8cb789dfb8bbd83'}, 'close': 46.02710723876953, 'timestamp': {'$date': '2021-12-20T16:00:00Z'}}, {'_id': {'$oid': '68937d2de8cb789dfb8bbd84'}, 'close': 48.58953857421875, 'timestamp': {'$date': '2021-12-21T16:00:00Z'}}, {'_id': {'$oid': '68937d2de8cb789dfb8bbd85'}, 'close': 47.49687957763672, 'timestamp': {'$date': '2021-12-22T16:00:00Z'}}, {'_id': {'$oid': '68937d2de8cb789dfb8bbd86'}, 'close': 45.108497619628906, 'timestamp': {'$date': '2021-12-23T16:00:00Z'}}, {'_id': {'$oid': '68937d2de8cb789dfb8bbd87'}, 'close': 45.195526123046875, 'timestamp': {'$date': '2021-12-26T16:00:00Z'}}, {'_id': {'$oid': '68937d2de8cb789dfb8bbd88'}, 'close': 46.08512496948242, 'timestamp': {'$date': '2021-12-27T16:00:00Z'}}, {'_id': {'$oid': '68937d2de8cb789dfb8bbd89'}, 'close': 45.833717346191406, 'timestamp': {'$date': '2021-12-28T16:00:00Z'}}, {'_id': {'$oid': '68937d2de8cb789dfb8bbd8a'}, 'close': 47.95134735107422, 'timestamp': {'$date': '2021-12-29T16:00:00Z'}}, {'_id': {'$oid': '68937d2de8cb789dfb8bbd8b'}, 'close': 48.71524429321289, 'timestamp': {'$date': '2021-12-30T16:00:00Z'}}, {'_id': {'$oid': '68937d2de8cb789dfb8bbd8c'}, 'close': 47.63225555419922, 'timestamp': {'$date': '2022-01-03T16:00:00Z'}}, {'_id': {'$oid': '68937d2de8cb789dfb8bbd8d'}, 'close': 46.384883880615234, 'timestamp': {'$date': '2022-01-04T16:00:00Z'}}, {'_id': {'$oid': '68937d2de8cb789dfb8bbd8e'}, 'close': 46.79100036621094, 'timestamp': {'$date': '2022-01-05T16:00:00Z'}}, {'_id': {'$oid': '68937d2de8cb789dfb8bbd8f'}, 'close': 44.673370361328125, 'timestamp': {'$date': '2022-01-06T16:00:00Z'}}, {'_id': {'$oid': '68937d2de8cb789dfb8bbd90'}, 'close': 44.944114685058594, 'timestamp': {'$date': '2022-01-09T16:00:00Z'}}, {'_id': {'$oid': '68937d2de8cb789dfb8bbd91'}, 'close': 43.435665130615234, 'timestamp': {'$date': '2022-01-10T16:00:00Z'}}, {'_id': {'$oid': '68937d2de8cb789dfb8bbd92'}, 'close': 46.01744079589844, 'timestamp': {'$date': '2022-01-11T16:00:00Z'}}, {'_id': {'$oid': '68937d2de8cb789dfb8bbd93'}, 'close': 45.55330276489258, 'timestamp': {'$date': '2022-01-12T16:00:00Z'}}, {'_id': {'$oid': '68937d2de8cb789dfb8bbd94'}, 'close': 46.094791412353516, 'timestamp': {'$date': '2022-01-13T16:00:00Z'}}, {'_id': {'$oid': '68937d2de8cb789dfb8bbd95'}, 'close': 47.438865661621094, 'timestamp': {'$date': '2022-01-16T16:00:00Z'}}, {'_id': {'$oid': '68937d2de8cb789dfb8bbd96'}, 'close': 45.978755950927734, 'timestamp': {'$date': '2022-01-17T16:00:00Z'}}, {'_id': {'$oid': '68937d2de8cb789dfb8bbd97'}, 'close': 45.340572357177734, 'timestamp': {'$date': '2022-01-18T16:00:00Z'}}, {'_id': {'$oid': '68937d2de8cb789dfb8bbd98'}, 'close': 44.721717834472656, 'timestamp': {'$date': '2022-01-19T16:00:00Z'}}, {'_id': {'$oid': '68937d2de8cb789dfb8bbd99'}, 'close': 44.95378494262695, 'timestamp': {'$date': '2022-01-20T16:00:00Z'}}, {'_id': {'$oid': '68937d2de8cb789dfb8bbd9a'}, 'close': 45.95941925048828, 'timestamp': {'$date': '2022-01-23T16:00:00Z'}}, {'_id': {'$oid': '68937d2de8cb789dfb8bbd9b'}, 'close': 43.80310821533203, 'timestamp': {'$date': '2022-01-24T16:00:00Z'}}, {'_id': {'$oid': '68937d2de8cb789dfb8bbd9c'}, 'close': 44.015838623046875, 'timestamp': {'$date': '2022-01-25T16:00:00Z'}}, {'_id': {'$oid': '68937d2de8cb789dfb8bbd9d'}, 'close': 42.54606628417969, 'timestamp': {'$date': '2022-01-26T16:00:00Z'}}, {'_id': {'$oid': '68937d2de8cb789dfb8bbd9e'}, 'close': 43.89013671875, 'timestamp': {'$date': '2022-01-27T16:00:00Z'}}, {'_id': {'$oid': '68937d2de8cb789dfb8bbd9f'}, 'close': 45.81438064575195, 'timestamp': {'$date': '2022-02-06T16:00:00Z'}}, {'_id': {'$oid': '68937d2de8cb789dfb8bbda0'}, 'close': 45.920745849609375, 'timestamp': {'$date': '2022-02-07T16:00:00Z'}}, {'_id': {'$oid': '68937d2de8cb789dfb8bbda1'}, 'close': 46.64596176147461, 'timestamp': {'$date': '2022-02-08T16:00:00Z'}}, {'_id': {'$oid': '68937d2de8cb789dfb8bbda2'}, 'close': 49.0633544921875, 'timestamp': {'$date': '2022-02-09T16:00:00Z'}}, {'_id': {'$oid': '68937d2de8cb789dfb8bbda3'}, 'close': 48.54119110107422, 'timestamp': {'$date': '2022-02-10T16:00:00Z'}}, {'_id': {'$oid': '68937d2de8cb789dfb8bbda4'}, 'close': 47.738616943359375, 'timestamp': {'$date': '2022-02-13T16:00:00Z'}}, {'_id': {'$oid': '68937d2de8cb789dfb8bbda5'}, 'close': 51.04561233520508, 'timestamp': {'$date': '2022-02-14T16:00:00Z'}}, {'_id': {'$oid': '68937d2de8cb789dfb8bbda6'}, 'close': 52.70877456665039, 'timestamp': {'$date': '2022-02-15T16:00:00Z'}}, {'_id': {'$oid': '68937d2de8cb789dfb8bbda7'}, 'close': 52.24462890625, 'timestamp': {'$date': '2022-02-16T16:00:00Z'}}, {'_id': {'$oid': '68937d2de8cb789dfb8bbda8'}, 'close': 51.82884216308594, 'timestamp': {'$date': '2022-02-17T16:00:00Z'}}, {'_id': {'$oid': '68937d2de8cb789dfb8bbda9'}, 'close': 52.01256561279297, 'timestamp': {'$date': '2022-02-20T16:00:00Z'}}, {'_id': {'$oid': '68937d2de8cb789dfb8bbdaa'}, 'close': 51.50007629394531, 'timestamp': {'$date': '2022-02-21T16:00:00Z'}}, {'_id': {'$oid': '68937d2de8cb789dfb8bbdab'}, 'close': 56.16080856323242, 'timestamp': {'$date': '2022-02-22T16:00:00Z'}}, {'_id': {'$oid': '68937d2de8cb789dfb8bbdac'}, 'close': 55.93840408325195, 'timestamp': {'$date': '2022-02-23T16:00:00Z'}}, {'_id': {'$oid': '68937d2de8cb789dfb8bbdad'}, 'close': 57.06974411010742, 'timestamp': {'$date': '2022-02-24T16:00:00Z'}}, {'_id': {'$oid': '68937d2de8cb789dfb8bbdae'}, 'close': 59.322750091552734, 'timestamp': {'$date': '2022-02-27T16:00:00Z'}}, {'_id': {'$oid': '68937d2de8cb789dfb8bbdaf'}, 'close': 59.41944885253906, 'timestamp': {'$date': '2022-02-28T16:00:00Z'}}, {'_id': {'$oid': '68937d2de8cb789dfb8bbdb0'}, 'close': 59.41944885253906, 'timestamp': {'$date': '2022-03-01T16:00:00Z'}}, {'_id': {'$oid': '68937d2de8cb789dfb8bbdb1'}, 'close': 59.380767822265625, 'timestamp': {'$date': '2022-03-02T16:00:00Z'}}, {'_id': {'$oid': '68937d2de8cb789dfb8bbdb2'}, 'close': 58.9649772644043, 'timestamp': {'$date': '2022-03-03T16:00:00Z'}}, {'_id': {'$oid': '68937d2de8cb789dfb8bbdb3'}, 'close': 57.08908462524414, 'timestamp': {'$date': '2022-03-06T16:00:00Z'}}, {'_id': {'$oid': '68937d2de8cb789dfb8bbdb4'}, 'close': 52.33165740966797, 'timestamp': {'$date': '2022-03-07T16:00:00Z'}}, {'_id': {'$oid': '68937d2de8cb789dfb8bbdb5'}, 'close': 49.691871643066406, 'timestamp': {'$date': '2022-03-08T16:00:00Z'}}, {'_id': {'$oid': '68937d2de8cb789dfb8bbdb6'}, 'close': 52.57339859008789, 'timestamp': {'$date': '2022-03-09T16:00:00Z'}}, {'_id': {'$oid': '68937d2de8cb789dfb8bbdb7'}, 'close': 55.16484069824219, 'timestamp': {'$date': '2022-03-10T16:00:00Z'}}, {'_id': {'$oid': '68937d2de8cb789dfb8bbdb8'}, 'close': 53.12456512451172, 'timestamp': {'$date': '2022-03-13T16:00:00Z'}}, {'_id': {'$oid': '68937d2de8cb789dfb8bbdb9'}, 'close': 51.54842758178711, 'timestamp': {'$date': '2022-03-14T16:00:00Z'}}, {'_id': {'$oid': '68937d2de8cb789dfb8bbdba'}, 'close': 58.413814544677734, 'timestamp': {'$date': '2022-03-15T16:00:00Z'}}, {'_id': {'$oid': '68937d2de8cb789dfb8bbdbb'}, 'close': 59.41944885253906, 'timestamp': {'$date': '2022-03-16T16:00:00Z'}}, {'_id': {'$oid': '68937d2de8cb789dfb8bbdbc'}, 'close': 58.5008430480957, 'timestamp': {'$date': '2022-03-17T16:00:00Z'}}, {'_id': {'$oid': '68937d2de8cb789dfb8bbdbd'}, 'close': 58.98431396484375, 'timestamp': {'$date': '2022-03-20T16:00:00Z'}}, {'_id': {'$oid': '68937d2de8cb789dfb8bbdbe'}, 'close': 57.92066955566406, 'timestamp': {'$date': '2022-03-21T16:00:00Z'}}, {'_id': {'$oid': '68937d2de8cb789dfb8bbdbf'}, 'close': 57.59189987182617, 'timestamp': {'$date': '2022-03-22T16:00:00Z'}}, {'_id': {'$oid': '68937d2de8cb789dfb8bbdc0'}, 'close': 55.928733825683594, 'timestamp': {'$date': '2022-03-23T16:00:00Z'}}, {'_id': {'$oid': '68937d2de8cb789dfb8bbdc1'}, 'close': 53.41465377807617, 'timestamp': {'$date': '2022-03-24T16:00:00Z'}}, {'_id': {'$oid': '68937d2de8cb789dfb8bbdc2'}, 'close': 51.809505462646484, 'timestamp': {'$date': '2022-03-27T16:00:00Z'}}, {'_id': {'$oid': '68937d2de8cb789dfb8bbdc3'}, 'close': 52.02223205566406, 'timestamp': {'$date': '2022-03-28T16:00:00Z'}}, {'_id': {'$oid': '68937d2de8cb789dfb8bbdc4'}, 'close': 54.526649475097656, 'timestamp': {'$date': '2022-03-29T16:00:00Z'}}, {'_id': {'$oid': '68937d2de8cb789dfb8bbdc5'}, 'close': 53.550025939941406, 'timestamp': {'$date': '2022-03-30T16:00:00Z'}}, {'_id': {'$oid': '68937d2de8cb789dfb8bbdc6'}, 'close': 53.95614242553711, 'timestamp': {'$date': '2022-03-31T16:00:00Z'}}, {'_id': {'$oid': '68937d2de8cb789dfb8bbdc7'}, 'close': 53.95614242553711, 'timestamp': {'$date': '2022-04-05T16:00:00Z'}}, {'_id': {'$oid': '68937d2de8cb789dfb8bbdc8'}, 'close': 53.41465377807617, 'timestamp': {'$date': '2022-04-06T16:00:00Z'}}, {'_id': {'$oid': '68937d2de8cb789dfb8bbdc9'}, 'close': 55.35823059082031, 'timestamp': {'$date': '2022-04-07T16:00:00Z'}}, {'_id': {'$oid': '68937d2de8cb789dfb8bbdca'}, 'close': 50.823211669921875, 'timestamp': {'$date': '2022-04-10T16:00:00Z'}}, {'_id': {'$oid': '68937d2de8cb789dfb8bbdcb'}, 'close': 50.765193939208984, 'timestamp': {'$date': '2022-04-11T16:00:00Z'}}, {'_id': {'$oid': '68937d2de8cb789dfb8bbdcc'}, 'close': 50.097991943359375, 'timestamp': {'$date': '2022-04-12T16:00:00Z'}}, {'_id': {'$oid': '68937d2de8cb789dfb8bbdcd'}, 'close': 48.985992431640625, 'timestamp': {'$date': '2022-04-13T16:00:00Z'}}, {'_id': {'$oid': '68937d2de8cb789dfb8bbdce'}, 'close': 50.45576477050781, 'timestamp': {'$date': '2022-04-14T16:00:00Z'}}, {'_id': {'$oid': '68937d2de8cb789dfb8bbdcf'}, 'close': 51.1519775390625, 'timestamp': {'$date': '2022-04-17T16:00:00Z'}}, {'_id': {'$oid': '68937d2de8cb789dfb8bbdd0'}, 'close': 49.79823684692383, 'timestamp': {'$date': '2022-04-18T16:00:00Z'}}, {'_id': {'$oid': '68937d2de8cb789dfb8bbdd1'}, 'close': 48.0673828125, 'timestamp': {'$date': '2022-04-19T16:00:00Z'}}, {'_id': {'$oid': '68937d2de8cb789dfb8bbdd2'}, 'close': 45.321224212646484, 'timestamp': {'$date': '2022-04-20T16:00:00Z'}}, {'_id': {'$oid': '68937d2de8cb789dfb8bbdd3'}, 'close': 46.12380599975586, 'timestamp': {'$date': '2022-04-21T16:00:00Z'}}, {'_id': {'$oid': '68937d2de8cb789dfb8bbdd4'}, 'close': 45.73701858520508, 'timestamp': {'$date': '2022-04-24T16:00:00Z'}}, {'_id': {'$oid': '68937d2de8cb789dfb8bbdd5'}, 'close': 45.33089828491211, 'timestamp': {'$date': '2022-04-25T16:00:00Z'}}, {'_id': {'$oid': '68937d2de8cb789dfb8bbdd6'}, 'close': 49.33409881591797, 'timestamp': {'$date': '2022-04-26T16:00:00Z'}}, {'_id': {'$oid': '68937d2de8cb789dfb8bbdd7'}, 'close': 49.21806335449219, 'timestamp': {'$date': '2022-04-27T16:00:00Z'}}, {'_id': {'$oid': '68937d2de8cb789dfb8bbdd8'}, 'close': 49.595176696777344, 'timestamp': {'$date': '2022-04-28T16:00:00Z'}}, {'_id': {'$oid': '68937d2de8cb789dfb8bbdd9'}, 'close': 46.90703582763672, 'timestamp': {'$date': '2022-05-04T16:00:00Z'}}, {'_id': {'$oid': '68937d2de8cb789dfb8bbdda'}, 'close': 46.47190856933594, 'timestamp': {'$date': '2022-05-05T16:00:00Z'}}, {'_id': {'$oid': '68937d2de8cb789dfb8bbddb'}, 'close': 45.78536605834961, 'timestamp': {'$date': '2022-05-08T16:00:00Z'}}, {'_id': {'$oid': '68937d2de8cb789dfb8bbddc'}, 'close': 46.433231353759766, 'timestamp': {'$date': '2022-05-09T16:00:00Z'}}, {'_id': {'$oid': '68937d2de8cb789dfb8bbddd'}, 'close': 49.1600456237793, 'timestamp': {'$date': '2022-05-10T16:00:00Z'}}, {'_id': {'$oid': '68937d2de8cb789dfb8bbdde'}, 'close': 48.57019805908203, 'timestamp': {'$date': '2022-05-11T16:00:00Z'}}, {'_id': {'$oid': '68937d2de8cb789dfb8bbddf'}, 'close': 49.179386138916016, 'timestamp': {'$date': '2022-05-12T16:00:00Z'}}, {'_id': {'$oid': '68937d2de8cb789dfb8bbde0'}, 'close': 49.19872283935547, 'timestamp': {'$date': '2022-05-15T16:00:00Z'}}, {'_id': {'$oid': '68937d2de8cb789dfb8bbde1'}, 'close': 50.097991943359375, 'timestamp': {'$date': '2022-05-16T16:00:00Z'}}, {'_id': {'$oid': '68937d2de8cb789dfb8bbde2'}, 'close': 50.146339416503906, 'timestamp': {'$date': '2022-05-17T16:00:00Z'}}, {'_id': {'$oid': '68937d2de8cb789dfb8bbde3'}, 'close': 50.52345275878906, 'timestamp': {'$date': '2022-05-18T16:00:00Z'}}, {'_id': {'$oid': '68937d2de8cb789dfb8bbde4'}, 'close': 49.60042953491211, 'timestamp': {'$date': '2022-05-19T16:00:00Z'}}, {'_id': {'$oid': '68937d2de8cb789dfb8bbde5'}, 'close': 48.84257507324219, 'timestamp': {'$date': '2022-05-22T16:00:00Z'}}, {'_id': {'$oid': '68937d2de8cb789dfb8bbde6'}, 'close': 44.509220123291016, 'timestamp': {'$date': '2022-05-23T16:00:00Z'}}, {'_id': {'$oid': '68937d2de8cb789dfb8bbde7'}, 'close': 45.053314208984375, 'timestamp': {'$date': '2022-05-24T16:00:00Z'}}, {'_id': {'$oid': '68937d2de8cb789dfb8bbde8'}, 'close': 45.072750091552734, 'timestamp': {'$date': '2022-05-25T16:00:00Z'}}, {'_id': {'$oid': '68937d2de8cb789dfb8bbde9'}, 'close': 45.76258850097656, 'timestamp': {'$date': '2022-05-26T16:00:00Z'}}, {'_id': {'$oid': '68937d2de8cb789dfb8bbdea'}, 'close': 45.66543197631836, 'timestamp': {'$date': '2022-05-29T16:00:00Z'}}, {'_id': {'$oid': '68937d2de8cb789dfb8bbdeb'}, 'close': 45.70429611206055, 'timestamp': {'$date': '2022-05-30T16:00:00Z'}}, {'_id': {'$oid': '68937d2de8cb789dfb8bbdec'}, 'close': 47.268577575683594, 'timestamp': {'$date': '2022-05-31T16:00:00Z'}}, {'_id': {'$oid': '68937d2de8cb789dfb8bbded'}, 'close': 53.43826675415039, 'timestamp': {'$date': '2022-06-01T16:00:00Z'}}, {'_id': {'$oid': '68937d2de8cb789dfb8bbdee'}, 'close': 57.23724365234375, 'timestamp': {'$date': '2022-06-05T16:00:00Z'}}, {'_id': {'$oid': '68937d2de8cb789dfb8bbdef'}, 'close': 60.22978973388672, 'timestamp': {'$date': '2022-06-06T16:00:00Z'}}, {'_id': {'$oid': '68937d2de8cb789dfb8bbdf0'}, 'close': 59.07357406616211, 'timestamp': {'$date': '2022-06-07T16:00:00Z'}}, {'_id': {'$oid': '68937d2de8cb789dfb8bbdf1'}, 'close': 57.5578727722168, 'timestamp': {'$date': '2022-06-08T16:00:00Z'}}, {'_id': {'$oid': '68937d2de8cb789dfb8bbdf2'}, 'close': 63.47494888305664, 'timestamp': {'$date': '2022-06-09T16:00:00Z'}}, {'_id': {'$oid': '68937d2de8cb789dfb8bbdf3'}, 'close': 66.3411865234375, 'timestamp': {'$date': '2022-06-12T16:00:00Z'}}, {'_id': {'$oid': '68937d2de8cb789dfb8bbdf4'}, 'close': 64.31053161621094, 'timestamp': {'$date': '2022-06-13T16:00:00Z'}}, {'_id': {'$oid': '68937d2de8cb789dfb8bbdf5'}, 'close': 58.00481033325195, 'timestamp': {'$date': '2022-06-14T16:00:00Z'}}, {'_id': {'$oid': '68937d2de8cb789dfb8bbdf6'}, 'close': 60.43382263183594, 'timestamp': {'$date': '2022-06-15T16:00:00Z'}}, {'_id': {'$oid': '68937d2de8cb789dfb8bbdf7'}, 'close': 70.92715454101562, 'timestamp': {'$date': '2022-06-16T16:00:00Z'}}, {'_id': {'$oid': '68937d2de8cb789dfb8bbdf8'}, 'close': 71.68500518798828, 'timestamp': {'$date': '2022-06-19T16:00:00Z'}}, {'_id': {'$oid': '68937d2de8cb789dfb8bbdf9'}, 'close': 70.27618408203125, 'timestamp': {'$date': '2022-06-20T16:00:00Z'}}, {'_id': {'$oid': '68937d2de8cb789dfb8bbdfa'}, 'close': 70.9854507446289, 'timestamp': {'$date': '2022-06-21T16:00:00Z'}}, {'_id': {'$oid': '68937d2de8cb789dfb8bbdfb'}, 'close': 72.8897933959961, 'timestamp': {'$date': '2022-06-22T16:00:00Z'}}, {'_id': {'$oid': '68937d2de8cb789dfb8bbdfc'}, 'close': 72.50115966796875, 'timestamp': {'$date': '2022-06-23T16:00:00Z'}}, {'_id': {'$oid': '68937d2de8cb789dfb8bbdfd'}, 'close': 73.17155456542969, 'timestamp': {'$date': '2022-06-26T16:00:00Z'}}, {'_id': {'$oid': '68937d2de8cb789dfb8bbdfe'}, 'close': 75.15363311767578, 'timestamp': {'$date': '2022-06-27T16:00:00Z'}}, {'_id': {'$oid': '68937d2de8cb789dfb8bbdff'}, 'close': 71.6072769165039, 'timestamp': {'$date': '2022-06-28T16:00:00Z'}}, {'_id': {'$oid': '68937d2de8cb789dfb8bbe00'}, 'close': 73.5213394165039, 'timestamp': {'$date': '2022-06-29T16:00:00Z'}}, {'_id': {'$oid': '68937d2de8cb789dfb8bbe01'}, 'close': 73.35617065429688, 'timestamp': {'$date': '2022-06-30T16:00:00Z'}}, {'_id': {'$oid': '68937d2de8cb789dfb8bbe02'}, 'close': 74.259765625, 'timestamp': {'$date': '2022-07-03T16:00:00Z'}}, {'_id': {'$oid': '68937d2de8cb789dfb8bbe03'}, 'close': 76.028076171875, 'timestamp': {'$date': '2022-07-04T16:00:00Z'}}, {'_id': {'$oid': '68937d2de8cb789dfb8bbe04'}, 'close': 75.3868179321289, 'timestamp': {'$date': '2022-07-05T16:00:00Z'}}, {'_id': {'$oid': '68937d2de8cb789dfb8bbe05'}, 'close': 77.68952941894531, 'timestamp': {'$date': '2022-07-06T16:00:00Z'}}, {'_id': {'$oid': '68937d2de8cb789dfb8bbe06'}, 'close': 72.85093688964844, 'timestamp': {'$date': '2022-07-07T16:00:00Z'}}, {'_id': {'$oid': '68937d2de8cb789dfb8bbe07'}, 'close': 72.75376892089844, 'timestamp': {'$date': '2022-07-10T16:00:00Z'}}, {'_id': {'$oid': '68937d2de8cb789dfb8bbe08'}, 'close': 69.7320785522461, 'timestamp': {'$date': '2022-07-11T16:00:00Z'}}, {'_id': {'$oid': '68937d2de8cb789dfb8bbe09'}, 'close': 71.21864318847656, 'timestamp': {'$date': '2022-07-12T16:00:00Z'}}, {'_id': {'$oid': '68937d2de8cb789dfb8bbe0a'}, 'close': 75.68801879882812, 'timestamp': {'$date': '2022-07-13T16:00:00Z'}}, {'_id': {'$oid': '68937d2de8cb789dfb8bbe0b'}, 'close': 75.59085845947266, 'timestamp': {'$date': '2022-07-14T16:00:00Z'}}, {'_id': {'$oid': '68937d2de8cb789dfb8bbe0c'}, 'close': 76.3681411743164, 'timestamp': {'$date': '2022-07-17T16:00:00Z'}}, {'_id': {'$oid': '68937d2de8cb789dfb8bbe0d'}, 'close': 76.4070053100586, 'timestamp': {'$date': '2022-07-18T16:00:00Z'}}, {'_id': {'$oid': '68937d2de8cb789dfb8bbe0e'}, 'close': 77.12599182128906, 'timestamp': {'$date': '2022-07-19T16:00:00Z'}}, {'_id': {'$oid': '68937d2de8cb789dfb8bbe0f'}, 'close': 75.99893188476562, 'timestamp': {'$date': '2022-07-20T16:00:00Z'}}, {'_id': {'$oid': '68937d2de8cb789dfb8bbe10'}, 'close': 76.95110321044922, 'timestamp': {'$date': '2022-07-21T16:00:00Z'}}, {'_id': {'$oid': '68937d2de8cb789dfb8bbe11'}, 'close': 73.14241027832031, 'timestamp': {'$date': '2022-07-24T16:00:00Z'}}, {'_id': {'$oid': '68937d2de8cb789dfb8bbe12'}, 'close': 72.42342376708984, 'timestamp': {'$date': '2022-07-25T16:00:00Z'}}, {'_id': {'$oid': '68937d2de8cb789dfb8bbe13'}, 'close': 74.82329559326172, 'timestamp': {'$date': '2022-07-26T16:00:00Z'}}, {'_id': {'$oid': '68937d2de8cb789dfb8bbe14'}, 'close': 73.19099426269531, 'timestamp': {'$date': '2022-07-27T16:00:00Z'}}, {'_id': {'$oid': '68937d2de8cb789dfb8bbe15'}, 'close': 70.07215118408203, 'timestamp': {'$date': '2022-07-28T16:00:00Z'}}, {'_id': {'$oid': '68937d2de8cb789dfb8bbe16'}, 'close': 71.6461410522461, 'timestamp': {'$date': '2022-07-31T16:00:00Z'}}, {'_id': {'$oid': '68937d2de8cb789dfb8bbe17'}, 'close': 67.96376037597656, 'timestamp': {'$date': '2022-08-01T16:00:00Z'}}, {'_id': {'$oid': '68937d2de8cb789dfb8bbe18'}, 'close': 64.30081176757812, 'timestamp': {'$date': '2022-08-02T16:00:00Z'}}, {'_id': {'$oid': '68937d2de8cb789dfb8bbe19'}, 'close': 61.99810791015625, 'timestamp': {'$date': '2022-08-03T16:00:00Z'}}, {'_id': {'$oid': '68937d2de8cb789dfb8bbe1a'}, 'close': 62.47419738769531, 'timestamp': {'$date': '2022-08-04T16:00:00Z'}}, {'_id': {'$oid': '68937d2de8cb789dfb8bbe1b'}, 'close': 62.68794250488281, 'timestamp': {'$date': '2022-08-07T16:00:00Z'}}, {'_id': {'$oid': '68937d2de8cb789dfb8bbe1c'}, 'close': 62.67823028564453, 'timestamp': {'$date': '2022-08-08T16:00:00Z'}}, {'_id': {'$oid': '68937d2de8cb789dfb8bbe1d'}, 'close': 61.376277923583984, 'timestamp': {'$date': '2022-08-09T16:00:00Z'}}, {'_id': {'$oid': '68937d2de8cb789dfb8bbe1e'}, 'close': 62.172996520996094, 'timestamp': {'$date': '2022-08-10T16:00:00Z'}}, {'_id': {'$oid': '68937d2de8cb789dfb8bbe1f'}, 'close': 59.51079559326172, 'timestamp': {'$date': '2022-08-11T16:00:00Z'}}, {'_id': {'$oid': '68937d2de8cb789dfb8bbe20'}, 'close': 60.04518127441406, 'timestamp': {'$date': '2022-08-14T16:00:00Z'}}, {'_id': {'$oid': '68937d2de8cb789dfb8bbe21'}, 'close': 61.220821380615234, 'timestamp': {'$date': '2022-08-15T16:00:00Z'}}, {'_id': {'$oid': '68937d2de8cb789dfb8bbe22'}, 'close': 59.87029266357422, 'timestamp': {'$date': '2022-08-16T16:00:00Z'}}, {'_id': {'$oid': '68937d2de8cb789dfb8bbe23'}, 'close': 60.161773681640625, 'timestamp': {'$date': '2022-08-17T16:00:00Z'}}, {'_id': {'$oid': '68937d2de8cb789dfb8bbe24'}, 'close': 56.96519470214844, 'timestamp': {'$date': '2022-08-18T16:00:00Z'}}, {'_id': {'$oid': '68937d2de8cb789dfb8bbe25'}, 'close': 58.75294876098633, 'timestamp': {'$date': '2022-08-21T16:00:00Z'}}, {'_id': {'$oid': '68937d2de8cb789dfb8bbe26'}, 'close': 59.7342643737793, 'timestamp': {'$date': '2022-08-22T16:00:00Z'}}, {'_id': {'$oid': '68937d2de8cb789dfb8bbe27'}, 'close': 55.91585922241211, 'timestamp': {'$date': '2022-08-23T16:00:00Z'}}, {'_id': {'$oid': '68937d2de8cb789dfb8bbe28'}, 'close': 54.40987014770508, 'timestamp': {'$date': '2022-08-24T16:00:00Z'}}, {'_id': {'$oid': '68937d2de8cb789dfb8bbe29'}, 'close': 54.526466369628906, 'timestamp': {'$date': '2022-08-25T16:00:00Z'}}, {'_id': {'$oid': '68937d2de8cb789dfb8bbe2a'}, 'close': 53.59372329711914, 'timestamp': {'$date': '2022-08-28T16:00:00Z'}}, {'_id': {'$oid': '68937d2de8cb789dfb8bbe2b'}, 'close': 54.798519134521484, 'timestamp': {'$date': '2022-08-29T16:00:00Z'}}, {'_id': {'$oid': '68937d2de8cb789dfb8bbe2c'}, 'close': 52.11688232421875, 'timestamp': {'$date': '2022-08-30T16:00:00Z'}}, {'_id': {'$oid': '68937d2de8cb789dfb8bbe2d'}, 'close': 52.243194580078125, 'timestamp': {'$date': '2022-08-31T16:00:00Z'}}, {'_id': {'$oid': '68937d2de8cb789dfb8bbe2e'}, 'close': 51.68938064575195, 'timestamp': {'$date': '2022-09-01T16:00:00Z'}}, {'_id': {'$oid': '68937d2de8cb789dfb8bbe2f'}, 'close': 53.039913177490234, 'timestamp': {'$date': '2022-09-04T16:00:00Z'}}, {'_id': {'$oid': '68937d2de8cb789dfb8bbe30'}, 'close': 53.34111022949219, 'timestamp': {'$date': '2022-09-05T16:00:00Z'}}, {'_id': {'$oid': '68937d2de8cb789dfb8bbe31'}, 'close': 55.05113220214844, 'timestamp': {'$date': '2022-09-06T16:00:00Z'}}, {'_id': {'$oid': '68937d2de8cb789dfb8bbe32'}, 'close': 52.612403869628906, 'timestamp': {'$date': '2022-09-07T16:00:00Z'}}, {'_id': {'$oid': '68937d2de8cb789dfb8bbe33'}, 'close': 52.369503021240234, 'timestamp': {'$date': '2022-09-08T16:00:00Z'}}, {'_id': {'$oid': '68937d2de8cb789dfb8bbe34'}, 'close': 50.387428283691406, 'timestamp': {'$date': '2022-09-12T16:00:00Z'}}, {'_id': {'$oid': '68937d2de8cb789dfb8bbe35'}, 'close': 48.11387252807617, 'timestamp': {'$date': '2022-09-13T16:00:00Z'}}, {'_id': {'$oid': '68937d2de8cb789dfb8bbe36'}, 'close': 45.47110366821289, 'timestamp': {'$date': '2022-09-14T16:00:00Z'}}, {'_id': {'$oid': '68937d2de8cb789dfb8bbe37'}, 'close': 46.5787353515625, 'timestamp': {'$date': '2022-09-15T16:00:00Z'}}, {'_id': {'$oid': '68937d2de8cb789dfb8bbe38'}, 'close': 46.53987503051758, 'timestamp': {'$date': '2022-09-18T16:00:00Z'}}, {'_id': {'$oid': '68937d2de8cb789dfb8bbe39'}, 'close': 48.60939025878906, 'timestamp': {'$date': '2022-09-19T16:00:00Z'}}, {'_id': {'$oid': '68937d2de8cb789dfb8bbe3a'}, 'close': 50.93152618408203, 'timestamp': {'$date': '2022-09-20T16:00:00Z'}}, {'_id': {'$oid': '68937d2de8cb789dfb8bbe3b'}, 'close': 54.66249084472656, 'timestamp': {'$date': '2022-09-21T16:00:00Z'}}, {'_id': {'$oid': '68937d2de8cb789dfb8bbe3c'}, 'close': 54.06009292602539, 'timestamp': {'$date': '2022-09-22T16:00:00Z'}}, {'_id': {'$oid': '68937d2de8cb789dfb8bbe3d'}, 'close': 53.30224609375, 'timestamp': {'$date': '2022-09-25T16:00:00Z'}}, {'_id': {'$oid': '68937d2de8cb789dfb8bbe3e'}, 'close': 55.35232925415039, 'timestamp': {'$date': '2022-09-26T16:00:00Z'}}, {'_id': {'$oid': '68937d2de8cb789dfb8bbe3f'}, 'close': 51.37846755981445, 'timestamp': {'$date': '2022-09-27T16:00:00Z'}}, {'_id': {'$oid': '68937d2de8cb789dfb8bbe40'}, 'close': 50.91209411621094, 'timestamp': {'$date': '2022-09-28T16:00:00Z'}}, {'_id': {'$oid': '68937d2de8cb789dfb8bbe41'}, 'close': 49.211788177490234, 'timestamp': {'$date': '2022-09-29T16:00:00Z'}}, {'_id': {'$oid': '68937d2de8cb789dfb8bbe42'}, 'close': 48.27904510498047, 'timestamp': {'$date': '2022-10-09T16:00:00Z'}}, {'_id': {'$oid': '68937d2de8cb789dfb8bbe43'}, 'close': 49.19235610961914, 'timestamp': {'$date': '2022-10-10T16:00:00Z'}}, {'_id': {'$oid': '68937d2de8cb789dfb8bbe44'}, 'close': 50.824649810791016, 'timestamp': {'$date': '2022-10-11T16:00:00Z'}}, {'_id': {'$oid': '68937d2de8cb789dfb8bbe45'}, 'close': 49.44497299194336, 'timestamp': {'$date': '2022-10-12T16:00:00Z'}}, {'_id': {'$oid': '68937d2de8cb789dfb8bbe46'}, 'close': 50.542884826660156, 'timestamp': {'$date': '2022-10-13T16:00:00Z'}}, {'_id': {'$oid': '68937d2de8cb789dfb8bbe47'}, 'close': 49.53241729736328, 'timestamp': {'$date': '2022-10-16T16:00:00Z'}}, {'_id': {'$oid': '68937d2de8cb789dfb8bbe48'}, 'close': 52.320919036865234, 'timestamp': {'$date': '2022-10-17T16:00:00Z'}}, {'_id': {'$oid': '68937d2de8cb789dfb8bbe49'}, 'close': 53.924068450927734, 'timestamp': {'$date': '2022-10-18T16:00:00Z'}}, {'_id': {'$oid': '68937d2de8cb789dfb8bbe4a'}, 'close': 52.456947326660156, 'timestamp': {'$date': '2022-10-19T16:00:00Z'}}, {'_id': {'$oid': '68937d2de8cb789dfb8bbe4b'}, 'close': 53.03019714355469, 'timestamp': {'$date': '2022-10-20T16:00:00Z'}}, {'_id': {'$oid': '68937d2de8cb789dfb8bbe4c'}, 'close': 53.44798278808594, 'timestamp': {'$date': '2022-10-23T16:00:00Z'}}, {'_id': {'$oid': '68937d2de8cb789dfb8bbe4d'}, 'close': 54.50703430175781, 'timestamp': {'$date': '2022-10-24T16:00:00Z'}}, {'_id': {'$oid': '68937d2de8cb789dfb8bbe4e'}, 'close': 54.3321418762207, 'timestamp': {'$date': '2022-10-25T16:00:00Z'}}, {'_id': {'$oid': '68937d2de8cb789dfb8bbe4f'}, 'close': 53.67145538330078, 'timestamp': {'$date': '2022-10-26T16:00:00Z'}}, {'_id': {'$oid': '68937d2de8cb789dfb8bbe50'}, 'close': 48.46364974975586, 'timestamp': {'$date': '2022-10-27T16:00:00Z'}}, {'_id': {'$oid': '68937d2de8cb789dfb8bbe51'}, 'close': 49.580997467041016, 'timestamp': {'$date': '2022-10-30T16:00:00Z'}}, {'_id': {'$oid': '68937d2de8cb789dfb8bbe52'}, 'close': 52.71928024291992, 'timestamp': {'$date': '2022-10-31T16:00:00Z'}}, {'_id': {'$oid': '68937d2de8cb789dfb8bbe53'}, 'close': 53.23423385620117, 'timestamp': {'$date': '2022-11-01T16:00:00Z'}}, {'_id': {'$oid': '68937d2de8cb789dfb8bbe54'}, 'close': 53.82691192626953, 'timestamp': {'$date': '2022-11-02T16:00:00Z'}}, {'_id': {'$oid': '68937d2de8cb789dfb8bbe55'}, 'close': 56.790306091308594, 'timestamp': {'$date': '2022-11-03T16:00:00Z'}}, {'_id': {'$oid': '68937d2de8cb789dfb8bbe56'}, 'close': 56.11017990112305, 'timestamp': {'$date': '2022-11-06T16:00:00Z'}}, {'_id': {'$oid': '68937d2de8cb789dfb8bbe57'}, 'close': 55.05113220214844, 'timestamp': {'$date': '2022-11-07T16:00:00Z'}}, {'_id': {'$oid': '68937d2de8cb789dfb8bbe58'}, 'close': 55.13857650756836, 'timestamp': {'$date': '2022-11-08T16:00:00Z'}}, {'_id': {'$oid': '68937d2de8cb789dfb8bbe59'}, 'close': 52.243194580078125, 'timestamp': {'$date': '2022-11-09T16:00:00Z'}}, {'_id': {'$oid': '68937d2de8cb789dfb8bbe5a'}, 'close': 52.65126419067383, 'timestamp': {'$date': '2022-11-10T16:00:00Z'}}, {'_id': {'$oid': '68937d2de8cb789dfb8bbe5b'}, 'close': 50.533164978027344, 'timestamp': {'$date': '2022-11-13T16:00:00Z'}}, {'_id': {'$oid': '68937d2de8cb789dfb8bbe5c'}, 'close': 52.4666633605957, 'timestamp': {'$date': '2022-11-14T16:00:00Z'}}, {'_id': {'$oid': '68937d2de8cb789dfb8bbe5d'}, 'close': 49.74617004394531, 'timestamp': {'$date': '2022-11-15T16:00:00Z'}}, {'_id': {'$oid': '68937d2de8cb789dfb8bbe5e'}, 'close': 48.09444046020508, 'timestamp': {'$date': '2022-11-16T16:00:00Z'}}, {'_id': {'$oid': '68937d2de8cb789dfb8bbe5f'}, 'close': 48.42478561401367, 'timestamp': {'$date': '2022-11-17T16:00:00Z'}}, {'_id': {'$oid': '68937d2de8cb789dfb8bbe60'}, 'close': 50.52345275878906, 'timestamp': {'$date': '2022-11-20T16:00:00Z'}}, {'_id': {'$oid': '68937d2de8cb789dfb8bbe61'}, 'close': 48.900875091552734, 'timestamp': {'$date': '2022-11-21T16:00:00Z'}}, {'_id': {'$oid': '68937d2de8cb789dfb8bbe62'}, 'close': 49.707305908203125, 'timestamp': {'$date': '2022-11-22T16:00:00Z'}}, {'_id': {'$oid': '68937d2de8cb789dfb8bbe63'}, 'close': 51.310455322265625, 'timestamp': {'$date': '2022-11-23T16:00:00Z'}}, {'_id': {'$oid': '68937d2de8cb789dfb8bbe64'}, 'close': 49.26036834716797, 'timestamp': {'$date': '2022-11-24T16:00:00Z'}}, {'_id': {'$oid': '68937d2de8cb789dfb8bbe65'}, 'close': 49.96963882446289, 'timestamp': {'$date': '2022-11-27T16:00:00Z'}}, {'_id': {'$oid': '68937d2de8cb789dfb8bbe66'}, 'close': 50.018218994140625, 'timestamp': {'$date': '2022-11-28T16:00:00Z'}}, {'_id': {'$oid': '68937d2de8cb789dfb8bbe67'}, 'close': 50.18339157104492, 'timestamp': {'$date': '2022-11-29T16:00:00Z'}}, {'_id': {'$oid': '68937d2de8cb789dfb8bbe68'}, 'close': 50.86351013183594, 'timestamp': {'$date': '2022-11-30T16:00:00Z'}}, {'_id': {'$oid': '68937d2de8cb789dfb8bbe69'}, 'close': 51.339603424072266, 'timestamp': {'$date': '2022-12-01T16:00:00Z'}}, {'_id': {'$oid': '68937d2de8cb789dfb8bbe6a'}, 'close': 49.736454010009766, 'timestamp': {'$date': '2022-12-04T16:00:00Z'}}, {'_id': {'$oid': '68937d2de8cb789dfb8bbe6b'}, 'close': 49.425540924072266, 'timestamp': {'$date': '2022-12-05T16:00:00Z'}}, {'_id': {'$oid': '68937d2de8cb789dfb8bbe6c'}, 'close': 50.52345275878906, 'timestamp': {'$date': '2022-12-06T16:00:00Z'}}, {'_id': {'$oid': '68937d2de8cb789dfb8bbe6d'}, 'close': 51.154998779296875, 'timestamp': {'$date': '2022-12-07T16:00:00Z'}}, {'_id': {'$oid': '68937d2de8cb789dfb8bbe6e'}, 'close': 50.65947723388672, 'timestamp': {'$date': '2022-12-08T16:00:00Z'}}, {'_id': {'$oid': '68937d2de8cb789dfb8bbe6f'}, 'close': 50.173675537109375, 'timestamp': {'$date': '2022-12-11T16:00:00Z'}}, {'_id': {'$oid': '68937d2de8cb789dfb8bbe70'}, 'close': 49.338096618652344, 'timestamp': {'$date': '2022-12-12T16:00:00Z'}}, {'_id': {'$oid': '68937d2de8cb789dfb8bbe71'}, 'close': 48.41507339477539, 'timestamp': {'$date': '2022-12-13T16:00:00Z'}}, {'_id': {'$oid': '68937d2de8cb789dfb8bbe72'}, 'close': 49.97935485839844, 'timestamp': {'$date': '2022-12-14T16:00:00Z'}}, {'_id': {'$oid': '68937d2de8cb789dfb8bbe73'}, 'close': 48.22075271606445, 'timestamp': {'$date': '2022-12-15T16:00:00Z'}}, {'_id': {'$oid': '68937d2de8cb789dfb8bbe74'}, 'close': 48.0652961730957, 'timestamp': {'$date': '2022-12-18T16:00:00Z'}}, {'_id': {'$oid': '68937d2de8cb789dfb8bbe75'}, 'close': 47.58920669555664, 'timestamp': {'$date': '2022-12-19T16:00:00Z'}}, {'_id': {'$oid': '68937d2de8cb789dfb8bbe76'}, 'close': 46.5787353515625, 'timestamp': {'$date': '2022-12-20T16:00:00Z'}}, {'_id': {'$oid': '68937d2de8cb789dfb8bbe77'}, 'close': 43.751365661621094, 'timestamp': {'$date': '2022-12-21T16:00:00Z'}}, {'_id': {'$oid': '68937d2de8cb789dfb8bbe78'}, 'close': 43.284996032714844, 'timestamp': {'$date': '2022-12-22T16:00:00Z'}}, {'_id': {'$oid': '68937d2de8cb789dfb8bbe79'}, 'close': 45.024169921875, 'timestamp': {'$date': '2022-12-25T16:00:00Z'}}, {'_id': {'$oid': '68937d2de8cb789dfb8bbe7a'}, 'close': 45.645999908447266, 'timestamp': {'$date': '2022-12-26T16:00:00Z'}}, {'_id': {'$oid': '68937d2de8cb789dfb8bbe7b'}, 'close': 45.15047836303711, 'timestamp': {'$date': '2022-12-27T16:00:00Z'}}, {'_id': {'$oid': '68937d2de8cb789dfb8bbe7c'}, 'close': 45.09218215942383, 'timestamp': {'$date': '2022-12-28T16:00:00Z'}}, {'_id': {'$oid': '68937d2de8cb789dfb8bbe7d'}, 'close': 43.67363739013672, 'timestamp': {'$date': '2022-12-29T16:00:00Z'}}, {'_id': {'$oid': '68937d2de8cb789dfb8bbe7e'}, 'close': 44.110862731933594, 'timestamp': {'$date': '2023-01-02T16:00:00Z'}}, {'_id': {'$oid': '68937d2de8cb789dfb8bbe7f'}, 'close': 42.45913314819336, 'timestamp': {'$date': '2023-01-03T16:00:00Z'}}, {'_id': {'$oid': '68937d2de8cb789dfb8bbe80'}, 'close': 43.557044982910156, 'timestamp': {'$date': '2023-01-04T16:00:00Z'}}, {'_id': {'$oid': '68937d2de8cb789dfb8bbe81'}, 'close': 46.11236572265625, 'timestamp': {'$date': '2023-01-05T16:00:00Z'}}, {'_id': {'$oid': '68937d2de8cb789dfb8bbe82'}, 'close': 45.072750091552734, 'timestamp': {'$date': '2023-01-08T16:00:00Z'}}, {'_id': {'$oid': '68937d2de8cb789dfb8bbe83'}, 'close': 44.77155303955078, 'timestamp': {'$date': '2023-01-09T16:00:00Z'}}, {'_id': {'$oid': '68937d2de8cb789dfb8bbe84'}, 'close': 43.41130447387695, 'timestamp': {'$date': '2023-01-10T16:00:00Z'}}, {'_id': {'$oid': '68937d2de8cb789dfb8bbe85'}, 'close': 45.66543197631836, 'timestamp': {'$date': '2023-01-11T16:00:00Z'}}, {'_id': {'$oid': '68937d2de8cb789dfb8bbe86'}, 'close': 44.68410873413086, 'timestamp': {'$date': '2023-01-12T16:00:00Z'}}, {'_id': {'$oid': '68937d2de8cb789dfb8bbe87'}, 'close': 44.79098129272461, 'timestamp': {'$date': '2023-01-15T16:00:00Z'}}, {'_id': {'$oid': '68937d2de8cb789dfb8bbe88'}, 'close': 44.83956527709961, 'timestamp': {'$date': '2023-01-16T16:00:00Z'}}, {'_id': {'$oid': '68937d2de8cb789dfb8bbe89'}, 'close': 45.37394714355469, 'timestamp': {'$date': '2023-01-17T16:00:00Z'}}, {'_id': {'$oid': '68937d2de8cb789dfb8bbe8a'}, 'close': 45.743160247802734, 'timestamp': {'$date': '2023-01-18T16:00:00Z'}}, {'_id': {'$oid': '68937d2de8cb789dfb8bbe8b'}, 'close': 47.02567672729492, 'timestamp': {'$date': '2023-01-19T16:00:00Z'}}, {'_id': {'$oid': '68937d2de8cb789dfb8bbe8c'}, 'close': 46.364986419677734, 'timestamp': {'$date': '2023-01-29T16:00:00Z'}}, {'_id': {'$oid': '68937d2de8cb789dfb8bbe8d'}, 'close': 46.607887268066406, 'timestamp': {'$date': '2023-01-30T16:00:00Z'}}, {'_id': {'$oid': '68937d2de8cb789dfb8bbe8e'}, 'close': 47.36573791503906, 'timestamp': {'$date': '2023-01-31T16:00:00Z'}}, {'_id': {'$oid': '68937d2de8cb789dfb8bbe8f'}, 'close': 47.122833251953125, 'timestamp': {'$date': '2023-02-01T16:00:00Z'}}, {'_id': {'$oid': '68937d2de8cb789dfb8bbe90'}, 'close': 46.8896484375, 'timestamp': {'$date': '2023-02-02T16:00:00Z'}}, {'_id': {'$oid': '68937d2de8cb789dfb8bbe91'}, 'close': 46.64674758911133, 'timestamp': {'$date': '2023-02-05T16:00:00Z'}}, {'_id': {'$oid': '68937d2de8cb789dfb8bbe92'}, 'close': 46.89936828613281, 'timestamp': {'$date': '2023-02-06T16:00:00Z'}}, {'_id': {'$oid': '68937d2de8cb789dfb8bbe93'}, 'close': 46.79248809814453, 'timestamp': {'$date': '2023-02-07T16:00:00Z'}}, {'_id': {'$oid': '68937d2de8cb789dfb8bbe94'}, 'close': 47.919551849365234, 'timestamp': {'$date': '2023-02-08T16:00:00Z'}}, {'_id': {'$oid': '68937d2de8cb789dfb8bbe95'}, 'close': 49.37696075439453, 'timestamp': {'$date': '2023-02-09T16:00:00Z'}}, {'_id': {'$oid': '68937d2de8cb789dfb8bbe96'}, 'close': 49.649009704589844, 'timestamp': {'$date': '2023-02-12T16:00:00Z'}}, {'_id': {'$oid': '68937d2de8cb789dfb8bbe97'}, 'close': 50.86351013183594, 'timestamp': {'$date': '2023-02-13T16:00:00Z'}}, {'_id': {'$oid': '68937d2de8cb789dfb8bbe98'}, 'close': 51.1744270324707, 'timestamp': {'$date': '2023-02-14T16:00:00Z'}}, {'_id': {'$oid': '68937d2de8cb789dfb8bbe99'}, 'close': 48.58024215698242, 'timestamp': {'$date': '2023-02-15T16:00:00Z'}}, {'_id': {'$oid': '68937d2de8cb789dfb8bbe9a'}, 'close': 47.29772186279297, 'timestamp': {'$date': '2023-02-16T16:00:00Z'}}, {'_id': {'$oid': '68937d2de8cb789dfb8bbe9b'}, 'close': 46.12208557128906, 'timestamp': {'$date': '2023-02-19T16:00:00Z'}}, {'_id': {'$oid': '68937d2de8cb789dfb8bbe9c'}, 'close': 46.34555435180664, 'timestamp': {'$date': '2023-02-20T16:00:00Z'}}, {'_id': {'$oid': '68937d2de8cb789dfb8bbe9d'}, 'close': 45.208770751953125, 'timestamp': {'$date': '2023-02-21T16:00:00Z'}}, {'_id': {'$oid': '68937d2de8cb789dfb8bbe9e'}, 'close': 45.9569091796875, 'timestamp': {'$date': '2023-02-22T16:00:00Z'}}, {'_id': {'$oid': '68937d2de8cb789dfb8bbe9f'}, 'close': 45.1213264465332, 'timestamp': {'$date': '2023-02-23T16:00:00Z'}}, {'_id': {'$oid': '68937d2de8cb789dfb8bbea0'}, 'close': 45.30593490600586, 'timestamp': {'$date': '2023-02-26T16:00:00Z'}}, {'_id': {'$oid': '68937d2de8cb789dfb8bbea1'}, 'close': 45.47110366821289, 'timestamp': {'$date': '2023-02-27T16:00:00Z'}}, {'_id': {'$oid': '68937d2de8cb789dfb8bbea2'}, 'close': 46.248390197753906, 'timestamp': {'$date': '2023-02-28T16:00:00Z'}}, {'_id': {'$oid': '68937d2de8cb789dfb8bbea3'}, 'close': 46.02492141723633, 'timestamp': {'$date': '2023-03-01T16:00:00Z'}}, {'_id': {'$oid': '68937d2de8cb789dfb8bbea4'}, 'close': 45.46139144897461, 'timestamp': {'$date': '2023-03-02T16:00:00Z'}}, {'_id': {'$oid': '68937d2de8cb789dfb8bbea5'}, 'close': 44.83956527709961, 'timestamp': {'$date': '2023-03-05T16:00:00Z'}}, {'_id': {'$oid': '68937d2de8cb789dfb8bbea6'}, 'close': 44.198307037353516, 'timestamp': {'$date': '2023-03-06T16:00:00Z'}}, {'_id': {'$oid': '68937d2de8cb789dfb8bbea7'}, 'close': 43.9262580871582, 'timestamp': {'$date': '2023-03-07T16:00:00Z'}}, {'_id': {'$oid': '68937d2de8cb789dfb8bbea8'}, 'close': 43.527896881103516, 'timestamp': {'$date': '2023-03-08T16:00:00Z'}}, {'_id': {'$oid': '68937d2de8cb789dfb8bbea9'}, 'close': 42.55629348754883, 'timestamp': {'$date': '2023-03-09T16:00:00Z'}}, {'_id': {'$oid': '68937d2de8cb789dfb8bbeaa'}, 'close': 41.6526985168457, 'timestamp': {'$date': '2023-03-12T16:00:00Z'}}, {'_id': {'$oid': '68937d2de8cb789dfb8bbeab'}, 'close': 40.807403564453125, 'timestamp': {'$date': '2023-03-13T16:00:00Z'}}, {'_id': {'$oid': '68937d2de8cb789dfb8bbeac'}, 'close': 40.758827209472656, 'timestamp': {'$date': '2023-03-14T16:00:00Z'}}, {'_id': {'$oid': '68937d2de8cb789dfb8bbead'}, 'close': 39.73863983154297, 'timestamp': {'$date': '2023-03-15T16:00:00Z'}}, {'_id': {'$oid': '68937d2de8cb789dfb8bbeae'}, 'close': 39.73863983154297, 'timestamp': {'$date': '2023-03-16T16:00:00Z'}}, {'_id': {'$oid': '68937d2de8cb789dfb8bbeaf'}, 'close': 39.592899322509766, 'timestamp': {'$date': '2023-03-19T16:00:00Z'}}, {'_id': {'$oid': '68937d2de8cb789dfb8bbeb0'}, 'close': 40.515926361083984, 'timestamp': {'$date': '2023-03-20T16:00:00Z'}}, {'_id': {'$oid': '68937d2de8cb789dfb8bbeb1'}, 'close': 40.515926361083984, 'timestamp': {'$date': '2023-03-21T16:00:00Z'}}, {'_id': {'$oid': '68937d2de8cb789dfb8bbeb2'}, 'close': 39.93295669555664, 'timestamp': {'$date': '2023-03-22T16:00:00Z'}}, {'_id': {'$oid': '68937d2de8cb789dfb8bbeb3'}, 'close': 40.039833068847656, 'timestamp': {'$date': '2023-03-23T16:00:00Z'}}, {'_id': {'$oid': '68937d2de8cb789dfb8bbeb4'}, 'close': 38.660160064697266, 'timestamp': {'$date': '2023-03-26T16:00:00Z'}}, {'_id': {'$oid': '68937d2de8cb789dfb8bbeb5'}, 'close': 37.37763977050781, 'timestamp': {'$date': '2023-03-27T16:00:00Z'}}, {'_id': {'$oid': '68937d2de8cb789dfb8bbeb6'}, 'close': 37.79542922973633, 'timestamp': {'$date': '2023-03-28T16:00:00Z'}}, {'_id': {'$oid': '68937d2de8cb789dfb8bbeb7'}, 'close': 39.21397399902344, 'timestamp': {'$date': '2023-03-29T16:00:00Z'}}, {'_id': {'$oid': '68937d2de8cb789dfb8bbeb8'}, 'close': 39.22368621826172, 'timestamp': {'$date': '2023-03-30T16:00:00Z'}}, {'_id': {'$oid': '68937d2de8cb789dfb8bbeb9'}, 'close': 39.54431915283203, 'timestamp': {'$date': '2023-04-02T16:00:00Z'}}, {'_id': {'$oid': '68937d2de8cb789dfb8bbeba'}, 'close': 38.320091247558594, 'timestamp': {'$date': '2023-04-03T16:00:00Z'}}, {'_id': {'$oid': '68937d2de8cb789dfb8bbebb'}, 'close': 38.06747817993164, 'timestamp': {'$date': '2023-04-05T16:00:00Z'}}, {'_id': {'$oid': '68937d2de8cb789dfb8bbebc'}, 'close': 38.28123092651367, 'timestamp': {'$date': '2023-04-06T16:00:00Z'}}, {'_id': {'$oid': '68937d2de8cb789dfb8bbebd'}, 'close': 39.8066520690918, 'timestamp': {'$date': '2023-04-09T16:00:00Z'}}, {'_id': {'$oid': '68937d2de8cb789dfb8bbebe'}, 'close': 39.69005584716797, 'timestamp': {'$date': '2023-04-10T16:00:00Z'}}, {'_id': {'$oid': '68937d2de8cb789dfb8bbebf'}, 'close': 39.1848258972168, 'timestamp': {'$date': '2023-04-11T16:00:00Z'}}, {'_id': {'$oid': '68937d2de8cb789dfb8bbec0'}, 'close': 38.46583938598633, 'timestamp': {'$date': '2023-04-12T16:00:00Z'}}, {'_id': {'$oid': '68937d2de8cb789dfb8bbec1'}, 'close': 39.89409637451172, 'timestamp': {'$date': '2023-04-13T16:00:00Z'}}, {'_id': {'$oid': '68937d2de8cb789dfb8bbec2'}, 'close': 38.93220901489258, 'timestamp': {'$date': '2023-04-16T16:00:00Z'}}, {'_id': {'$oid': '68937d2de8cb789dfb8bbec3'}, 'close': 39.359710693359375, 'timestamp': {'$date': '2023-04-17T16:00:00Z'}}, {'_id': {'$oid': '68937d2de8cb789dfb8bbec4'}, 'close': 38.74760437011719, 'timestamp': {'$date': '2023-04-18T16:00:00Z'}}, {'_id': {'$oid': '68937d2de8cb789dfb8bbec5'}, 'close': 35.84250259399414, 'timestamp': {'$date': '2023-04-19T16:00:00Z'}}, {'_id': {'$oid': '68937d2de8cb789dfb8bbec6'}, 'close': 35.75505828857422, 'timestamp': {'$date': '2023-04-20T16:00:00Z'}}, {'_id': {'$oid': '68937d2de8cb789dfb8bbec7'}, 'close': 35.240108489990234, 'timestamp': {'$date': '2023-04-23T16:00:00Z'}}, {'_id': {'$oid': '68937d2de8cb789dfb8bbec8'}, 'close': 32.69450378417969, 'timestamp': {'$date': '2023-04-24T16:00:00Z'}}, {'_id': {'$oid': '68937d2de8cb789dfb8bbec9'}, 'close': 34.627994537353516, 'timestamp': {'$date': '2023-04-25T16:00:00Z'}}, {'_id': {'$oid': '68937d2de8cb789dfb8bbeca'}, 'close': 34.96806335449219, 'timestamp': {'$date': '2023-04-26T16:00:00Z'}}, {'_id': {'$oid': '68937d2de8cb789dfb8bbecb'}, 'close': 34.210205078125, 'timestamp': {'$date': '2023-04-27T16:00:00Z'}}, {'_id': {'$oid': '68937d2de8cb789dfb8bbecc'}, 'close': 33.015132904052734, 'timestamp': {'$date': '2023-05-03T16:00:00Z'}}, {'_id': {'$oid': '68937d2de8cb789dfb8bbecd'}, 'close': 31.67431640625, 'timestamp': {'$date': '2023-05-04T16:00:00Z'}}, {'_id': {'$oid': '68937d2de8cb789dfb8bbece'}, 'close': 31.810346603393555, 'timestamp': {'$date': '2023-05-07T16:00:00Z'}}, {'_id': {'$oid': '68937d2de8cb789dfb8bbecf'}, 'close': 30.780441284179688, 'timestamp': {'$date': '2023-05-08T16:00:00Z'}}, {'_id': {'$oid': '68937d2de8cb789dfb8bbed0'}, 'close': 31.3634033203125, 'timestamp': {'$date': '2023-05-09T16:00:00Z'}}, {'_id': {'$oid': '68937d2de8cb789dfb8bbed1'}, 'close': 31.479999542236328, 'timestamp': {'$date': '2023-05-10T16:00:00Z'}}, {'_id': {'$oid': '68937d2de8cb789dfb8bbed2'}, 'close': 30.88732147216797, 'timestamp': {'$date': '2023-05-11T16:00:00Z'}}, {'_id': {'$oid': '68937d2de8cb789dfb8bbed3'}, 'close': 32.02409744262695, 'timestamp': {'$date': '2023-05-14T16:00:00Z'}}, {'_id': {'$oid': '68937d2de8cb789dfb8bbed4'}, 'close': 31.965801239013672, 'timestamp': {'$date': '2023-05-15T16:00:00Z'}}, {'_id': {'$oid': '68937d2de8cb789dfb8bbed5'}, 'close': 32.12125778198242, 'timestamp': {'$date': '2023-05-16T16:00:00Z'}}, {'_id': {'$oid': '68937d2de8cb789dfb8bbed6'}, 'close': 31.479999542236328, 'timestamp': {'$date': '2023-05-17T16:00:00Z'}}, {'_id': {'$oid': '68937d2de8cb789dfb8bbed7'}, 'close': 31.266244888305664, 'timestamp': {'$date': '2023-05-18T16:00:00Z'}}, {'_id': {'$oid': '68937d2de8cb789dfb8bbed8'}, 'close': 31.693748474121094, 'timestamp': {'$date': '2023-05-21T16:00:00Z'}}, {'_id': {'$oid': '68937d2de8cb789dfb8bbed9'}, 'close': 31.334257125854492, 'timestamp': {'$date': '2023-05-22T16:00:00Z'}}, {'_id': {'$oid': '68937d2de8cb789dfb8bbeda'}, 'close': 30.974763870239258, 'timestamp': {'$date': '2023-05-23T16:00:00Z'}}, {'_id': {'$oid': '68937d2de8cb789dfb8bbedb'}, 'close': 30.897035598754883, 'timestamp': {'$date': '2023-05-24T16:00:00Z'}}, {'_id': {'$oid': '68937d2de8cb789dfb8bbedc'}, 'close': 29.847700119018555, 'timestamp': {'$date': '2023-05-25T16:00:00Z'}}, {'_id': {'$oid': '68937d2de8cb789dfb8bbedd'}, 'close': 29.264739990234375, 'timestamp': {'$date': '2023-05-28T16:00:00Z'}}, {'_id': {'$oid': '68937d2de8cb789dfb8bbede'}, 'close': 29.439626693725586, 'timestamp': {'$date': '2023-05-29T16:00:00Z'}}, {'_id': {'$oid': '68937d2de8cb789dfb8bbedf'}, 'close': 29.05098533630371, 'timestamp': {'$date': '2023-05-30T16:00:00Z'}}, {'_id': {'$oid': '68937d2de8cb789dfb8bbee0'}, 'close': 29.4979248046875, 'timestamp': {'$date': '2023-05-31T16:00:00Z'}}, {'_id': {'$oid': '68937d2de8cb789dfb8bbee1'}, 'close': 30.71125602722168, 'timestamp': {'$date': '2023-06-01T16:00:00Z'}}, {'_id': {'$oid': '68937d2de8cb789dfb8bbee2'}, 'close': 30.343278884887695, 'timestamp': {'$date': '2023-06-04T16:00:00Z'}}, {'_id': {'$oid': '68937d2de8cb789dfb8bbee3'}, 'close': 29.8360652923584, 'timestamp': {'$date': '2023-06-05T16:00:00Z'}}, {'_id': {'$oid': '68937d2de8cb789dfb8bbee4'}, 'close': 28.940982818603516, 'timestamp': {'$date': '2023-06-06T16:00:00Z'}}, {'_id': {'$oid': '68937d2de8cb789dfb8bbee5'}, 'close': 28.841529846191406, 'timestamp': {'$date': '2023-06-07T16:00:00Z'}}, {'_id': {'$oid': '68937d2de8cb789dfb8bbee6'}, 'close': 28.950929641723633, 'timestamp': {'$date': '2023-06-08T16:00:00Z'}}, {'_id': {'$oid': '68937d2de8cb789dfb8bbee7'}, 'close': 29.19956398010254, 'timestamp': {'$date': '2023-06-11T16:00:00Z'}}, {'_id': {'$oid': '68937d2de8cb789dfb8bbee8'}, 'close': 29.209508895874023, 'timestamp': {'$date': '2023-06-12T16:00:00Z'}}, {'_id': {'$oid': '68937d2de8cb789dfb8bbee9'}, 'close': 28.632678985595703, 'timestamp': {'$date': '2023-06-13T16:00:00Z'}}, {'_id': {'$oid': '68937d2de8cb789dfb8bbeea'}, 'close': 29.65704917907715, 'timestamp': {'$date': '2023-06-14T16:00:00Z'}}, {'_id': {'$oid': '68937d2de8cb789dfb8bbeeb'}, 'close': 29.786338806152344, 'timestamp': {'$date': '2023-06-15T16:00:00Z'}}, {'_id': {'$oid': '68937d2de8cb789dfb8bbeec'}, 'close': 29.537704467773438, 'timestamp': {'$date': '2023-06-18T16:00:00Z'}}, {'_id': {'$oid': '68937d2de8cb789dfb8bbeed'}, 'close': 29.666994094848633, 'timestamp': {'$date': '2023-06-19T16:00:00Z'}}, {'_id': {'$oid': '68937d2de8cb789dfb8bbeee'}, 'close': 29.77639389038086, 'timestamp': {'$date': '2023-06-20T16:00:00Z'}}, {'_id': {'$oid': '68937d2de8cb789dfb8bbeef'}, 'close': 29.338796615600586, 'timestamp': {'$date': '2023-06-25T16:00:00Z'}}, {'_id': {'$oid': '68937d2de8cb789dfb8bbef0'}, 'close': 29.77639389038086, 'timestamp': {'$date': '2023-06-26T16:00:00Z'}}, {'_id': {'$oid': '68937d2de8cb789dfb8bbef1'}, 'close': 29.428306579589844, 'timestamp': {'$date': '2023-06-27T16:00:00Z'}}, {'_id': {'$oid': '68937d2de8cb789dfb8bbef2'}, 'close': 29.487977981567383, 'timestamp': {'$date': '2023-06-28T16:00:00Z'}}, {'_id': {'$oid': '68937d2de8cb789dfb8bbef3'}, 'close': 30.621749877929688, 'timestamp': {'$date': '2023-06-29T16:00:00Z'}}, {'_id': {'$oid': '68937d2de8cb789dfb8bbef4'}, 'close': 31.864917755126953, 'timestamp': {'$date': '2023-07-02T16:00:00Z'}}, {'_id': {'$oid': '68937d2de8cb789dfb8bbef5'}, 'close': 32.919124603271484, 'timestamp': {'$date': '2023-07-03T16:00:00Z'}}, {'_id': {'$oid': '68937d2de8cb789dfb8bbef6'}, 'close': 33.06830596923828, 'timestamp': {'$date': '2023-07-04T16:00:00Z'}}, {'_id': {'$oid': '68937d2de8cb789dfb8bbef7'}, 'close': 32.68043899536133, 'timestamp': {'$date': '2023-07-05T16:00:00Z'}}, {'_id': {'$oid': '68937d2de8cb789dfb8bbef8'}, 'close': 31.775409698486328, 'timestamp': {'$date': '2023-07-06T16:00:00Z'}}, {'_id': {'$oid': '68937d2de8cb789dfb8bbef9'}, 'close': 32.93901443481445, 'timestamp': {'$date': '2023-07-09T16:00:00Z'}}, {'_id': {'$oid': '68937d2de8cb789dfb8bbefa'}, 'close': 33.34677505493164, 'timestamp': {'$date': '2023-07-10T16:00:00Z'}}, {'_id': {'$oid': '68937d2de8cb789dfb8bbefb'}, 'close': 32.58098220825195, 'timestamp': {'$date': '2023-07-11T16:00:00Z'}}, {'_id': {'$oid': '68937d2de8cb789dfb8bbefc'}, 'close': 32.84950637817383, 'timestamp': {'$date': '2023-07-12T16:00:00Z'}}, {'_id': {'$oid': '68937d2de8cb789dfb8bbefd'}, 'close': 31.984262466430664, 'timestamp': {'$date': '2023-07-13T16:00:00Z'}}, {'_id': {'$oid': '68937d2de8cb789dfb8bbefe'}, 'close': 31.347759246826172, 'timestamp': {'$date': '2023-07-16T16:00:00Z'}}, {'_id': {'$oid': '68937d2de8cb789dfb8bbeff'}, 'close': 31.22841453552246, 'timestamp': {'$date': '2023-07-17T16:00:00Z'}}, {'_id': {'$oid': '68937d2de8cb789dfb8bbf00'}, 'close': 30.959890365600586, 'timestamp': {'$date': '2023-07-18T16:00:00Z'}}, {'_id': {'$oid': '68937d2de8cb789dfb8bbf01'}, 'close': 31.04939842224121, 'timestamp': {'$date': '2023-07-19T16:00:00Z'}}, {'_id': {'$oid': '68937d2de8cb789dfb8bbf02'}, 'close': 30.69136619567871, 'timestamp': {'$date': '2023-07-20T16:00:00Z'}}, {'_id': {'$oid': '68937d2de8cb789dfb8bbf03'}, 'close': 30.61180305480957, 'timestamp': {'$date': '2023-07-23T16:00:00Z'}}, {'_id': {'$oid': '68937d2de8cb789dfb8bbf04'}, 'close': 30.661529541015625, 'timestamp': {'$date': '2023-07-24T16:00:00Z'}}, {'_id': {'$oid': '68937d2de8cb789dfb8bbf05'}, 'close': 30.462621688842773, 'timestamp': {'$date': '2023-07-25T16:00:00Z'}}, {'_id': {'$oid': '68937d2de8cb789dfb8bbf06'}, 'close': 29.975299835205078, 'timestamp': {'$date': '2023-07-26T16:00:00Z'}}, {'_id': {'$oid': '68937d2de8cb789dfb8bbf07'}, 'close': 30.323387145996094, 'timestamp': {'$date': '2023-07-27T16:00:00Z'}}, {'_id': {'$oid': '68937d2de8cb789dfb8bbf08'}, 'close': 31.12895965576172, 'timestamp': {'$date': '2023-07-30T16:00:00Z'}}, {'_id': {'$oid': '68937d2de8cb789dfb8bbf09'}, 'close': 30.402950286865234, 'timestamp': {'$date': '2023-07-31T16:00:00Z'}}, {'_id': {'$oid': '68937d2de8cb789dfb8bbf0a'}, 'close': 30.213987350463867, 'timestamp': {'$date': '2023-08-01T16:00:00Z'}}, {'_id': {'$oid': '68937d2de8cb789dfb8bbf0b'}, 'close': 30.134424209594727, 'timestamp': {'$date': '2023-08-02T16:00:00Z'}}, {'_id': {'$oid': '68937d2de8cb789dfb8bbf0c'}, 'close': 30.204044342041016, 'timestamp': {'$date': '2023-08-03T16:00:00Z'}}, {'_id': {'$oid': '68937d2de8cb789dfb8bbf0d'}, 'close': 29.8360652923584, 'timestamp': {'$date': '2023-08-06T16:00:00Z'}}, {'_id': {'$oid': '68937d2de8cb789dfb8bbf0e'}, 'close': 29.45814323425293, 'timestamp': {'$date': '2023-08-07T16:00:00Z'}}, {'_id': {'$oid': '68937d2de8cb789dfb8bbf0f'}, 'close': 29.59737777709961, 'timestamp': {'$date': '2023-08-08T16:00:00Z'}}, {'_id': {'$oid': '68937d2de8cb789dfb8bbf10'}, 'close': 29.726665496826172, 'timestamp': {'$date': '2023-08-09T16:00:00Z'}}, {'_id': {'$oid': '68937d2de8cb789dfb8bbf11'}, 'close': 28.722185134887695, 'timestamp': {'$date': '2023-08-10T16:00:00Z'}}, {'_id': {'$oid': '68937d2de8cb789dfb8bbf12'}, 'close': 28.085681915283203, 'timestamp': {'$date': '2023-08-13T16:00:00Z'}}, {'_id': {'$oid': '68937d2de8cb789dfb8bbf13'}, 'close': 27.15081787109375, 'timestamp': {'$date': '2023-08-14T16:00:00Z'}}, {'_id': {'$oid': '68937d2de8cb789dfb8bbf14'}, 'close': 26.981746673583984, 'timestamp': {'$date': '2023-08-15T16:00:00Z'}}, {'_id': {'$oid': '68937d2de8cb789dfb8bbf15'}, 'close': 27.160764694213867, 'timestamp': {'$date': '2023-08-16T16:00:00Z'}}, {'_id': {'$oid': '68937d2de8cb789dfb8bbf16'}, 'close': 26.45464515686035, 'timestamp': {'$date': '2023-08-17T16:00:00Z'}}, {'_id': {'$oid': '68937d2de8cb789dfb8bbf17'}, 'close': 25.87781524658203, 'timestamp': {'$date': '2023-08-20T16:00:00Z'}}, {'_id': {'$oid': '68937d2de8cb789dfb8bbf18'}, 'close': 25.55956268310547, 'timestamp': {'$date': '2023-08-21T16:00:00Z'}}, {'_id': {'$oid': '68937d2de8cb789dfb8bbf19'}, 'close': 24.276611328125, 'timestamp': {'$date': '2023-08-22T16:00:00Z'}}, {'_id': {'$oid': '68937d2de8cb789dfb8bbf1a'}, 'close': 24.59486198425293, 'timestamp': {'$date': '2023-08-23T16:00:00Z'}}, {'_id': {'$oid': '68937d2de8cb789dfb8bbf1b'}, 'close': 24.316394805908203, 'timestamp': {'$date': '2023-08-24T16:00:00Z'}}, {'_id': {'$oid': '68937d2de8cb789dfb8bbf1c'}, 'close': 24.027976989746094, 'timestamp': {'$date': '2023-08-27T16:00:00Z'}}, {'_id': {'$oid': '68937d2de8cb789dfb8bbf1d'}, 'close': 23.1826229095459, 'timestamp': {'$date': '2023-08-28T16:00:00Z'}}, {'_id': {'$oid': '68937d2de8cb789dfb8bbf1e'}, 'close': 23.272130966186523, 'timestamp': {'$date': '2023-08-29T16:00:00Z'}}, {'_id': {'$oid': '68937d2de8cb789dfb8bbf1f'}, 'close': 23.023496627807617, 'timestamp': {'$date': '2023-08-30T16:00:00Z'}}, {'_id': {'$oid': '68937d2de8cb789dfb8bbf20'}, 'close': 22.85442543029785, 'timestamp': {'$date': '2023-08-31T16:00:00Z'}}, {'_id': {'$oid': '68937d2de8cb789dfb8bbf21'}, 'close': 23.9185791015625, 'timestamp': {'$date': '2023-09-03T16:00:00Z'}}, {'_id': {'$oid': '68937d2de8cb789dfb8bbf22'}, 'close': 23.669944763183594, 'timestamp': {'$date': '2023-09-04T16:00:00Z'}}, {'_id': {'$oid': '68937d2de8cb789dfb8bbf23'}, 'close': 23.87879753112793, 'timestamp': {'$date': '2023-09-05T16:00:00Z'}}, {'_id': {'$oid': '68937d2de8cb789dfb8bbf24'}, 'close': 23.431255340576172, 'timestamp': {'$date': '2023-09-06T16:00:00Z'}}, {'_id': {'$oid': '68937d2de8cb789dfb8bbf25'}, 'close': 23.550601959228516, 'timestamp': {'$date': '2023-09-07T16:00:00Z'}}, {'_id': {'$oid': '68937d2de8cb789dfb8bbf26'}, 'close': 24.13737678527832, 'timestamp': {'$date': '2023-09-10T16:00:00Z'}}, {'_id': {'$oid': '68937d2de8cb789dfb8bbf27'}, 'close': 24.545137405395508, 'timestamp': {'$date': '2023-09-11T16:00:00Z'}}, {'_id': {'$oid': '68937d2de8cb789dfb8bbf28'}, 'close': 24.366119384765625, 'timestamp': {'$date': '2023-09-12T16:00:00Z'}}, {'_id': {'$oid': '68937d2de8cb789dfb8bbf29'}, 'close': 23.669944763183594, 'timestamp': {'$date': '2023-09-13T16:00:00Z'}}, {'_id': {'$oid': '68937d2de8cb789dfb8bbf2a'}, 'close': 23.38153076171875, 'timestamp': {'$date': '2023-09-14T16:00:00Z'}}, {'_id': {'$oid': '68937d2de8cb789dfb8bbf2b'}, 'close': 24.067760467529297, 'timestamp': {'$date': '2023-09-17T16:00:00Z'}}, {'_id': {'$oid': '68937d2de8cb789dfb8bbf2c'}, 'close': 23.610273361206055, 'timestamp': {'$date': '2023-09-18T16:00:00Z'}}, {'_id': {'$oid': '68937d2de8cb789dfb8bbf2d'}, 'close': 23.212459564208984, 'timestamp': {'$date': '2023-09-19T16:00:00Z'}}, {'_id': {'$oid': '68937d2de8cb789dfb8bbf2e'}, 'close': 22.963825225830078, 'timestamp': {'$date': '2023-09-20T16:00:00Z'}}, {'_id': {'$oid': '68937d2de8cb789dfb8bbf2f'}, 'close': 23.829069137573242, 'timestamp': {'$date': '2023-09-21T16:00:00Z'}}, {'_id': {'$oid': '68937d2de8cb789dfb8bbf30'}, 'close': 23.24229621887207, 'timestamp': {'$date': '2023-09-24T16:00:00Z'}}, {'_id': {'$oid': '68937d2de8cb789dfb8bbf31'}, 'close': 22.69529914855957, 'timestamp': {'$date': '2023-09-25T16:00:00Z'}}, {'_id': {'$oid': '68937d2de8cb789dfb8bbf32'}, 'close': 23.232349395751953, 'timestamp': {'$date': '2023-09-26T16:00:00Z'}}, {'_id': {'$oid': '68937d2de8cb789dfb8bbf33'}, 'close': 23.22240447998047, 'timestamp': {'$date': '2023-09-27T16:00:00Z'}}, {'_id': {'$oid': '68937d2de8cb789dfb8bbf34'}, 'close': 22.735082626342773, 'timestamp': {'$date': '2023-10-08T16:00:00Z'}}, {'_id': {'$oid': '68937d2de8cb789dfb8bbf35'}, 'close': 22.615737915039062, 'timestamp': {'$date': '2023-10-09T16:00:00Z'}}, {'_id': {'$oid': '68937d2de8cb789dfb8bbf36'}, 'close': 22.745027542114258, 'timestamp': {'$date': '2023-10-10T16:00:00Z'}}, {'_id': {'$oid': '68937d2de8cb789dfb8bbf37'}, 'close': 24.067760467529297, 'timestamp': {'$date': '2023-10-11T16:00:00Z'}}, {'_id': {'$oid': '68937d2de8cb789dfb8bbf38'}, 'close': 23.58043670654297, 'timestamp': {'$date': '2023-10-12T16:00:00Z'}}, {'_id': {'$oid': '68937d2de8cb789dfb8bbf39'}, 'close': 22.556066513061523, 'timestamp': {'$date': '2023-10-15T16:00:00Z'}}, {'_id': {'$oid': '68937d2de8cb789dfb8bbf3a'}, 'close': 23.023496627807617, 'timestamp': {'$date': '2023-10-16T16:00:00Z'}}, {'_id': {'$oid': '68937d2de8cb789dfb8bbf3b'}, 'close': 22.386995315551758, 'timestamp': {'$date': '2023-10-17T16:00:00Z'}}, {'_id': {'$oid': '68937d2de8cb789dfb8bbf3c'}, 'close': 22.028961181640625, 'timestamp': {'$date': '2023-10-18T16:00:00Z'}}, {'_id': {'$oid': '68937d2de8cb789dfb8bbf3d'}, 'close': 22.446666717529297, 'timestamp': {'$date': '2023-10-19T16:00:00Z'}}, {'_id': {'$oid': '68937d2de8cb789dfb8bbf3e'}, 'close': 21.38251304626465, 'timestamp': {'$date': '2023-10-22T16:00:00Z'}}, {'_id': {'$oid': '68937d2de8cb789dfb8bbf3f'}, 'close': 21.38251304626465, 'timestamp': {'$date': '2023-10-23T16:00:00Z'}}, {'_id': {'$oid': '68937d2de8cb789dfb8bbf40'}, 'close': 21.54163932800293, 'timestamp': {'$date': '2023-10-24T16:00:00Z'}}, {'_id': {'$oid': '68937d2de8cb789dfb8bbf41'}, 'close': 21.790273666381836, 'timestamp': {'$date': '2023-10-25T16:00:00Z'}}, {'_id': {'$oid': '68937d2de8cb789dfb8bbf42'}, 'close': 22.874317169189453, 'timestamp': {'$date': '2023-10-26T16:00:00Z'}}, {'_id': {'$oid': '68937d2de8cb789dfb8bbf43'}, 'close': 23.122949600219727, 'timestamp': {'$date': '2023-10-29T16:00:00Z'}}, {'_id': {'$oid': '68937d2de8cb789dfb8bbf44'}, 'close': 23.152788162231445, 'timestamp': {'$date': '2023-10-30T16:00:00Z'}}, {'_id': {'$oid': '68937d2de8cb789dfb8bbf45'}, 'close': 22.85442543029785, 'timestamp': {'$date': '2023-10-31T16:00:00Z'}}, {'_id': {'$oid': '68937d2de8cb789dfb8bbf46'}, 'close': 22.207977294921875, 'timestamp': {'$date': '2023-11-01T16:00:00Z'}}, {'_id': {'$oid': '68937d2de8cb789dfb8bbf47'}, 'close': 22.685354232788086, 'timestamp': {'$date': '2023-11-02T16:00:00Z'}}, {'_id': {'$oid': '68937d2de8cb789dfb8bbf48'}, 'close': 23.570491790771484, 'timestamp': {'$date': '2023-11-05T16:00:00Z'}}, {'_id': {'$oid': '68937d2de8cb789dfb8bbf49'}, 'close': 23.490928649902344, 'timestamp': {'$date': '2023-11-06T16:00:00Z'}}, {'_id': {'$oid': '68937d2de8cb789dfb8bbf4a'}, 'close': 23.421310424804688, 'timestamp': {'$date': '2023-11-07T16:00:00Z'}}, {'_id': {'$oid': '68937d2de8cb789dfb8bbf4b'}, 'close': 23.590381622314453, 'timestamp': {'$date': '2023-11-08T16:00:00Z'}}, {'_id': {'$oid': '68937d2de8cb789dfb8bbf4c'}, 'close': 23.77934455871582, 'timestamp': {'$date': '2023-11-09T16:00:00Z'}}, {'_id': {'$oid': '68937d2de8cb789dfb8bbf4d'}, 'close': 23.44120216369629, 'timestamp': {'$date': '2023-11-12T16:00:00Z'}}, {'_id': {'$oid': '68937d2de8cb789dfb8bbf4e'}, 'close': 23.471038818359375, 'timestamp': {'$date': '2023-11-13T16:00:00Z'}}, {'_id': {'$oid': '68937d2de8cb789dfb8bbf4f'}, 'close': 23.71967124938965, 'timestamp': {'$date': '2023-11-14T16:00:00Z'}}, {'_id': {'$oid': '68937d2de8cb789dfb8bbf50'}, 'close': 22.924041748046875, 'timestamp': {'$date': '2023-11-15T16:00:00Z'}}, {'_id': {'$oid': '68937d2de8cb789dfb8bbf51'}, 'close': 23.16273307800293, 'timestamp': {'$date': '2023-11-16T16:00:00Z'}}, {'_id': {'$oid': '68937d2de8cb789dfb8bbf52'}, 'close': 23.371583938598633, 'timestamp': {'$date': '2023-11-19T16:00:00Z'}}, {'_id': {'$oid': '68937d2de8cb789dfb8bbf53'}, 'close': 23.272130966186523, 'timestamp': {'$date': '2023-11-20T16:00:00Z'}}, {'_id': {'$oid': '68937d2de8cb789dfb8bbf54'}, 'close': 22.556066513061523, 'timestamp': {'$date': '2023-11-21T16:00:00Z'}}, {'_id': {'$oid': '68937d2de8cb789dfb8bbf55'}, 'close': 22.914098739624023, 'timestamp': {'$date': '2023-11-22T16:00:00Z'}}, {'_id': {'$oid': '68937d2de8cb789dfb8bbf56'}, 'close': 22.396940231323242, 'timestamp': {'$date': '2023-11-23T16:00:00Z'}}, {'_id': {'$oid': '68937d2de8cb789dfb8bbf57'}, 'close': 22.13836097717285, 'timestamp': {'$date': '2023-11-26T16:00:00Z'}}, {'_id': {'$oid': '68937d2de8cb789dfb8bbf58'}, 'close': 22.27759552001953, 'timestamp': {'$date': '2023-11-27T16:00:00Z'}}, {'_id': {'$oid': '68937d2de8cb789dfb8bbf59'}, 'close': 21.790273666381836, 'timestamp': {'$date': '2023-11-28T16:00:00Z'}}, {'_id': {'$oid': '68937d2de8cb789dfb8bbf5a'}, 'close': 21.491912841796875, 'timestamp': {'$date': '2023-11-29T16:00:00Z'}}, {'_id': {'$oid': '68937d2de8cb789dfb8bbf5b'}, 'close': 21.432239532470703, 'timestamp': {'$date': '2023-11-30T16:00:00Z'}}, {'_id': {'$oid': '68937d2de8cb789dfb8bbf5c'}, 'close': 20.974754333496094, 'timestamp': {'$date': '2023-12-03T16:00:00Z'}}, {'_id': {'$oid': '68937d2de8cb789dfb8bbf5d'}, 'close': 20.566993713378906, 'timestamp': {'$date': '2023-12-04T16:00:00Z'}}, {'_id': {'$oid': '68937d2de8cb789dfb8bbf5e'}, 'close': 20.994646072387695, 'timestamp': {'$date': '2023-12-05T16:00:00Z'}}, {'_id': {'$oid': '68937d2de8cb789dfb8bbf5f'}, 'close': 20.497377395629883, 'timestamp': {'$date': '2023-12-06T16:00:00Z'}}, {'_id': {'$oid': '68937d2de8cb789dfb8bbf60'}, 'close': 19.910600662231445, 'timestamp': {'$date': '2023-12-07T16:00:00Z'}}, {'_id': {'$oid': '68937d2de8cb789dfb8bbf61'}, 'close': 19.840984344482422, 'timestamp': {'$date': '2023-12-10T16:00:00Z'}}, {'_id': {'$oid': '68937d2de8cb789dfb8bbf62'}, 'close': 20.049835205078125, 'timestamp': {'$date': '2023-12-11T16:00:00Z'}}, {'_id': {'$oid': '68937d2de8cb789dfb8bbf63'}, 'close': 19.58240509033203, 'timestamp': {'$date': '2023-12-12T16:00:00Z'}}, {'_id': {'$oid': '68937d2de8cb789dfb8bbf64'}, 'close': 19.70174789428711, 'timestamp': {'$date': '2023-12-13T16:00:00Z'}}, {'_id': {'$oid': '68937d2de8cb789dfb8bbf65'}, 'close': 19.62218475341797, 'timestamp': {'$date': '2023-12-14T16:00:00Z'}}, {'_id': {'$oid': '68937d2de8cb789dfb8bbf66'}, 'close': 19.293989181518555, 'timestamp': {'$date': '2023-12-17T16:00:00Z'}}, {'_id': {'$oid': '68937d2de8cb789dfb8bbf67'}, 'close': 19.393442153930664, 'timestamp': {'$date': '2023-12-18T16:00:00Z'}}, {'_id': {'$oid': '68937d2de8cb789dfb8bbf68'}, 'close': 19.105026245117188, 'timestamp': {'$date': '2023-12-19T16:00:00Z'}}, {'_id': {'$oid': '68937d2de8cb789dfb8bbf69'}, 'close': 19.333770751953125, 'timestamp': {'$date': '2023-12-20T16:00:00Z'}}, {'_id': {'$oid': '68937d2de8cb789dfb8bbf6a'}, 'close': 19.52273178100586, 'timestamp': {'$date': '2023-12-21T16:00:00Z'}}, {'_id': {'$oid': '68937d2de8cb789dfb8bbf6b'}, 'close': 19.105026245117188, 'timestamp': {'$date': '2023-12-24T16:00:00Z'}}, {'_id': {'$oid': '68937d2de8cb789dfb8bbf6c'}, 'close': 18.707212448120117, 'timestamp': {'$date': '2023-12-25T16:00:00Z'}}, {'_id': {'$oid': '68937d2de8cb789dfb8bbf6d'}, 'close': 18.577922821044922, 'timestamp': {'$date': '2023-12-26T16:00:00Z'}}, {'_id': {'$oid': '68937d2de8cb789dfb8bbf6e'}, 'close': 20.01999855041504, 'timestamp': {'$date': '2023-12-27T16:00:00Z'}}, {'_id': {'$oid': '68937d2de8cb789dfb8bbf6f'}, 'close': 20.387977600097656, 'timestamp': {'$date': '2023-12-28T16:00:00Z'}}, {'_id': {'$oid': '68937d2de8cb789dfb8bbf70'}, 'close': 19.78131103515625, 'timestamp': {'$date': '2024-01-01T16:00:00Z'}}, {'_id': {'$oid': '68937d2de8cb789dfb8bbf71'}, 'close': 19.890710830688477, 'timestamp': {'$date': '2024-01-02T16:00:00Z'}}, {'_id': {'$oid': '68937d2de8cb789dfb8bbf72'}, 'close': 19.353660583496094, 'timestamp': {'$date': '2024-01-03T16:00:00Z'}}, {'_id': {'$oid': '68937d2de8cb789dfb8bbf73'}, 'close': 19.005573272705078, 'timestamp': {'$date': '2024-01-04T16:00:00Z'}}, {'_id': {'$oid': '68937d2de8cb789dfb8bbf74'}, 'close': 18.408851623535156, 'timestamp': {'$date': '2024-01-07T16:00:00Z'}}, {'_id': {'$oid': '68937d2de8cb789dfb8bbf75'}, 'close': 18.229835510253906, 'timestamp': {'$date': '2024-01-08T16:00:00Z'}}, {'_id': {'$oid': '68937d2de8cb789dfb8bbf76'}, 'close': 18.627649307250977, 'timestamp': {'$date': '2024-01-09T16:00:00Z'}}, {'_id': {'$oid': '68937d2de8cb789dfb8bbf77'}, 'close': 19.18459129333496, 'timestamp': {'$date': '2024-01-10T16:00:00Z'}}, {'_id': {'$oid': '68937d2de8cb789dfb8bbf78'}, 'close': 19.16469955444336, 'timestamp': {'$date': '2024-01-11T16:00:00Z'}}, {'_id': {'$oid': '68937d2de8cb789dfb8bbf79'}, 'close': 19.16469955444336, 'timestamp': {'$date': '2024-01-14T16:00:00Z'}}, {'_id': {'$oid': '68937d2de8cb789dfb8bbf7a'}, 'close': 18.697267532348633, 'timestamp': {'$date': '2024-01-15T16:00:00Z'}}, {'_id': {'$oid': '68937d2de8cb789dfb8bbf7b'}, 'close': 18.110490798950195, 'timestamp': {'$date': '2024-01-16T16:00:00Z'}}, {'_id': {'$oid': '68937d2de8cb789dfb8bbf7c'}, 'close': 17.832021713256836, 'timestamp': {'$date': '2024-01-17T16:00:00Z'}}, {'_id': {'$oid': '68937d2de8cb789dfb8bbf7d'}, 'close': 17.48393440246582, 'timestamp': {'$date': '2024-01-18T16:00:00Z'}}, {'_id': {'$oid': '68937d2de8cb789dfb8bbf7e'}, 'close': 16.240764617919922, 'timestamp': {'$date': '2024-01-21T16:00:00Z'}}, {'_id': {'$oid': '68937d2de8cb789dfb8bbf7f'}, 'close': 16.330272674560547, 'timestamp': {'$date': '2024-01-22T16:00:00Z'}}, {'_id': {'$oid': '68937d2de8cb789dfb8bbf80'}, 'close': 16.11147689819336, 'timestamp': {'$date': '2024-01-23T16:00:00Z'}}, {'_id': {'$oid': '68937d2de8cb789dfb8bbf81'}, 'close': 16.817594528198242, 'timestamp': {'$date': '2024-01-24T16:00:00Z'}}, {'_id': {'$oid': '68937d2de8cb789dfb8bbf82'}, 'close': 16.250709533691406, 'timestamp': {'$date': '2024-01-25T16:00:00Z'}}, {'_id': {'$oid': '68937d2de8cb789dfb8bbf83'}, 'close': 15.743496894836426, 'timestamp': {'$date': '2024-01-28T16:00:00Z'}}, {'_id': {'$oid': '68937d2de8cb789dfb8bbf84'}, 'close': 14.947868347167969, 'timestamp': {'$date': '2024-01-29T16:00:00Z'}}, {'_id': {'$oid': '68937d2de8cb789dfb8bbf85'}, 'close': 14.192022323608398, 'timestamp': {'$date': '2024-01-30T16:00:00Z'}}, {'_id': {'$oid': '68937d2de8cb789dfb8bbf86'}, 'close': 13.933443069458008, 'timestamp': {'$date': '2024-01-31T16:00:00Z'}}, {'_id': {'$oid': '68937d2de8cb789dfb8bbf87'}, 'close': 13.04830551147461, 'timestamp': {'$date': '2024-02-01T16:00:00Z'}}, {'_id': {'$oid': '68937d2de8cb789dfb8bbf88'}, 'close': 11.894644737243652, 'timestamp': {'$date': '2024-02-04T16:00:00Z'}}, {'_id': {'$oid': '68937d2de8cb789dfb8bbf89'}, 'close': 12.849398612976074, 'timestamp': {'$date': '2024-02-05T16:00:00Z'}}, {'_id': {'$oid': '68937d2de8cb789dfb8bbf8a'}, 'close': 13.446120262145996, 'timestamp': {'$date': '2024-02-06T16:00:00Z'}}, {'_id': {'$oid': '68937d2de8cb789dfb8bbf8b'}, 'close': 14.311366081237793, 'timestamp': {'$date': '2024-02-07T16:00:00Z'}}, {'_id': {'$oid': '68937d2de8cb789dfb8bbf8c'}, 'close': 14.152239799499512, 'timestamp': {'$date': '2024-02-18T16:00:00Z'}}, {'_id': {'$oid': '68937d2de8cb789dfb8bbf8d'}, 'close': 14.072676658630371, 'timestamp': {'$date': '2024-02-19T16:00:00Z'}}, {'_id': {'$oid': '68937d2de8cb789dfb8bbf8e'}, 'close': 14.371037483215332, 'timestamp': {'$date': '2024-02-20T16:00:00Z'}}, {'_id': {'$oid': '68937d2de8cb789dfb8bbf8f'}, 'close': 14.430710792541504, 'timestamp': {'$date': '2024-02-21T16:00:00Z'}}, {'_id': {'$oid': '68937d2de8cb789dfb8bbf90'}, 'close': 14.788743019104004, 'timestamp': {'$date': '2024-02-22T16:00:00Z'}}, {'_id': {'$oid': '68937d2de8cb789dfb8bbf91'}, 'close': 14.709179878234863, 'timestamp': {'$date': '2024-02-25T16:00:00Z'}}, {'_id': {'$oid': '68937d2de8cb789dfb8bbf92'}, 'close': 15.2959566116333, 'timestamp': {'$date': '2024-02-26T16:00:00Z'}}, {'_id': {'$oid': '68937d2de8cb789dfb8bbf93'}, 'close': 14.172130584716797, 'timestamp': {'$date': '2024-02-27T16:00:00Z'}}, {'_id': {'$oid': '68937d2de8cb789dfb8bbf94'}, 'close': 14.868305206298828, 'timestamp': {'$date': '2024-02-28T16:00:00Z'}}, {'_id': {'$oid': '68937d2de8cb789dfb8bbf95'}, 'close': 14.768852233886719, 'timestamp': {'$date': '2024-02-29T16:00:00Z'}}, {'_id': {'$oid': '68937d2de8cb789dfb8bbf96'}, 'close': 14.540108680725098, 'timestamp': {'$date': '2024-03-03T16:00:00Z'}}, {'_id': {'$oid': '68937d2de8cb789dfb8bbf97'}, 'close': 14.172130584716797, 'timestamp': {'$date': '2024-03-04T16:00:00Z'}}, {'_id': {'$oid': '68937d2de8cb789dfb8bbf98'}, 'close': 14.341201782226562, 'timestamp': {'$date': '2024-03-05T16:00:00Z'}}, {'_id': {'$oid': '68937d2de8cb789dfb8bbf99'}, 'close': 13.833989143371582, 'timestamp': {'$date': '2024-03-06T16:00:00Z'}}, {'_id': {'$oid': '68937d2de8cb789dfb8bbf9a'}, 'close': 13.893661499023438, 'timestamp': {'$date': '2024-03-07T16:00:00Z'}}, {'_id': {'$oid': '68937d2de8cb789dfb8bbf9b'}, 'close': 14.9180326461792, 'timestamp': {'$date': '2024-03-10T16:00:00Z'}}, {'_id': {'$oid': '68937d2de8cb789dfb8bbf9c'}, 'close': 14.898141860961914, 'timestamp': {'$date': '2024-03-11T16:00:00Z'}}, {'_id': {'$oid': '68937d2de8cb789dfb8bbf9d'}, 'close': 14.818578720092773, 'timestamp': {'$date': '2024-03-12T16:00:00Z'}}, {'_id': {'$oid': '68937d2de8cb789dfb8bbf9e'}, 'close': 14.530163764953613, 'timestamp': {'$date': '2024-03-13T16:00:00Z'}}, {'_id': {'$oid': '68937d2de8cb789dfb8bbf9f'}, 'close': 14.659453392028809, 'timestamp': {'$date': '2024-03-14T16:00:00Z'}}, {'_id': {'$oid': '68937d2de8cb789dfb8bbfa0'}, 'close': 15.017486572265625, 'timestamp': {'$date': '2024-03-17T16:00:00Z'}}, {'_id': {'$oid': '68937d2de8cb789dfb8bbfa1'}, 'close': 14.818578720092773, 'timestamp': {'$date': '2024-03-18T16:00:00Z'}}, {'_id': {'$oid': '68937d2de8cb789dfb8bbfa2'}, 'close': 14.838469505310059, 'timestamp': {'$date': '2024-03-19T16:00:00Z'}}, {'_id': {'$oid': '68937d2de8cb789dfb8bbfa3'}, 'close': 14.450600624084473, 'timestamp': {'$date': '2024-03-20T16:00:00Z'}}, {'_id': {'$oid': '68937d2de8cb789dfb8bbfa4'}, 'close': 13.635082244873047, 'timestamp': {'$date': '2024-03-21T16:00:00Z'}}, {'_id': {'$oid': '68937d2de8cb789dfb8bbfa5'}, 'close': 13.02841567993164, 'timestamp': {'$date': '2024-03-24T16:00:00Z'}}, {'_id': {'$oid': '68937d2de8cb789dfb8bbfa6'}, 'close': 13.257158279418945, 'timestamp': {'$date': '2024-03-25T16:00:00Z'}}, {'_id': {'$oid': '68937d2de8cb789dfb8bbfa7'}, 'close': 12.600765228271484, 'timestamp': {'$date': '2024-03-26T16:00:00Z'}}, {'_id': {'$oid': '68937d2de8cb789dfb8bbfa8'}, 'close': 12.650491714477539, 'timestamp': {'$date': '2024-03-27T16:00:00Z'}}, {'_id': {'$oid': '68937d2de8cb789dfb8bbfa9'}, 'close': 12.9488525390625, 'timestamp': {'$date': '2024-03-28T16:00:00Z'}}, {'_id': {'$oid': '68937d2de8cb789dfb8bbfaa'}, 'close': 13.654972076416016, 'timestamp': {'$date': '2024-03-31T16:00:00Z'}}, {'_id': {'$oid': '68937d2de8cb789dfb8bbfab'}, 'close': 14.211912155151367, 'timestamp': {'$date': '2024-04-01T16:00:00Z'}}, {'_id': {'$oid': '68937d2de8cb789dfb8bbfac'}, 'close': 14.082622528076172, 'timestamp': {'$date': '2024-04-02T16:00:00Z'}}, {'_id': {'$oid': '68937d2de8cb789dfb8bbfad'}, 'close': 13.45606517791748, 'timestamp': {'$date': '2024-04-07T16:00:00Z'}}, {'_id': {'$oid': '68937d2de8cb789dfb8bbfae'}, 'close': 14.480437278747559, 'timestamp': {'$date': '2024-04-08T16:00:00Z'}}, {'_id': {'$oid': '68937d2de8cb789dfb8bbfaf'}, 'close': 14.550054550170898, 'timestamp': {'$date': '2024-04-09T16:00:00Z'}}, {'_id': {'$oid': '68937d2de8cb789dfb8bbfb0'}, 'close': 14.967759132385254, 'timestamp': {'$date': '2024-04-10T16:00:00Z'}}, {'_id': {'$oid': '68937d2de8cb789dfb8bbfb1'}, 'close': 14.082622528076172, 'timestamp': {'$date': '2024-04-11T16:00:00Z'}}, {'_id': {'$oid': '68937d2de8cb789dfb8bbfb2'}, 'close': 13.436175346374512, 'timestamp': {'$date': '2024-04-14T16:00:00Z'}}, {'_id': {'$oid': '68937d2de8cb789dfb8bbfb3'}, 'close': 11.944371223449707, 'timestamp': {'$date': '2024-04-15T16:00:00Z'}}, {'_id': {'$oid': '68937d2de8cb789dfb8bbfb4'}, 'close': 13.475955963134766, 'timestamp': {'$date': '2024-04-16T16:00:00Z'}}, {'_id': {'$oid': '68937d2de8cb789dfb8bbfb5'}, 'close': 13.40633773803711, 'timestamp': {'$date': '2024-04-17T16:00:00Z'}}, {'_id': {'$oid': '68937d2de8cb789dfb8bbfb6'}, 'close': 12.909070014953613, 'timestamp': {'$date': '2024-04-18T16:00:00Z'}}, {'_id': {'$oid': '68937d2de8cb789dfb8bbfb7'}, 'close': 11.795190811157227, 'timestamp': {'$date': '2024-04-21T16:00:00Z'}}, {'_id': {'$oid': '68937d2de8cb789dfb8bbfb8'}, 'close': 11.854863166809082, 'timestamp': {'$date': '2024-04-22T16:00:00Z'}}, {'_id': {'$oid': '68937d2de8cb789dfb8bbfb9'}, 'close': 11.805136680603027, 'timestamp': {'$date': '2024-04-23T16:00:00Z'}}, {'_id': {'$oid': '68937d2de8cb789dfb8bbfba'}, 'close': 12.013988494873047, 'timestamp': {'$date': '2024-04-24T16:00:00Z'}}, {'_id': {'$oid': '68937d2de8cb789dfb8bbfbb'}, 'close': 12.391912460327148, 'timestamp': {'$date': '2024-04-25T16:00:00Z'}}, {'_id': {'$oid': '68937d2de8cb789dfb8bbfbc'}, 'close': 13.286993980407715, 'timestamp': {'$date': '2024-04-28T16:00:00Z'}}, {'_id': {'$oid': '68937d2de8cb789dfb8bbfbd'}, 'close': 12.879234313964844, 'timestamp': {'$date': '2024-04-29T16:00:00Z'}}, {'_id': {'$oid': '68937d2de8cb789dfb8bbfbe'}, 'close': 13.446120262145996, 'timestamp': {'$date': '2024-05-05T16:00:00Z'}}, {'_id': {'$oid': '68937d2de8cb789dfb8bbfbf'}, 'close': 13.764371871948242, 'timestamp': {'$date': '2024-05-06T16:00:00Z'}}, {'_id': {'$oid': '68937d2de8cb789dfb8bbfc0'}, 'close': 13.326775550842285, 'timestamp': {'$date': '2024-05-07T16:00:00Z'}}, {'_id': {'$oid': '68937d2de8cb789dfb8bbfc1'}, 'close': 13.824043273925781, 'timestamp': {'$date': '2024-05-08T16:00:00Z'}}, {'_id': {'$oid': '68937d2de8cb789dfb8bbfc2'}, 'close': 13.217376708984375, 'timestamp': {'$date': '2024-05-09T16:00:00Z'}}, {'_id': {'$oid': '68937d2de8cb789dfb8bbfc3'}, 'close': 12.710163116455078, 'timestamp': {'$date': '2024-05-12T16:00:00Z'}}, {'_id': {'$oid': '68937d2de8cb789dfb8bbfc4'}, 'close': 12.630600929260254, 'timestamp': {'$date': '2024-05-13T16:00:00Z'}}, {'_id': {'$oid': '68937d2de8cb789dfb8bbfc5'}, 'close': 12.600765228271484, 'timestamp': {'$date': '2024-05-14T16:00:00Z'}}, {'_id': {'$oid': '68937d2de8cb789dfb8bbfc6'}, 'close': 12.461529731750488, 'timestamp': {'$date': '2024-05-15T16:00:00Z'}}, {'_id': {'$oid': '68937d2de8cb789dfb8bbfc7'}, 'close': 12.610710144042969, 'timestamp': {'$date': '2024-05-16T16:00:00Z'}}, {'_id': {'$oid': '68937d2de8cb789dfb8bbfc8'}, 'close': 12.580873489379883, 'timestamp': {'$date': '2024-05-19T16:00:00Z'}}, {'_id': {'$oid': '68937d2de8cb789dfb8bbfc9'}, 'close': 12.272568702697754, 'timestamp': {'$date': '2024-05-20T16:00:00Z'}}, {'_id': {'$oid': '68937d2de8cb789dfb8bbfca'}, 'close': 12.471475601196289, 'timestamp': {'$date': '2024-05-21T16:00:00Z'}}, {'_id': {'$oid': '68937d2de8cb789dfb8bbfcb'}, 'close': 12.083605766296387, 'timestamp': {'$date': '2024-05-22T16:00:00Z'}}, {'_id': {'$oid': '68937d2de8cb789dfb8bbfcc'}, 'close': 11.775300979614258, 'timestamp': {'$date': '2024-05-23T16:00:00Z'}}, {'_id': {'$oid': '68937d2de8cb789dfb8bbfcd'}, 'close': 11.735519409179688, 'timestamp': {'$date': '2024-05-26T16:00:00Z'}}, {'_id': {'$oid': '68937d2de8cb789dfb8bbfce'}, 'close': 11.636065483093262, 'timestamp': {'$date': '2024-05-27T16:00:00Z'}}, {'_id': {'$oid': '68937d2de8cb789dfb8bbfcf'}, 'close': 11.874753952026367, 'timestamp': {'$date': '2024-05-28T16:00:00Z'}}, {'_id': {'$oid': '68937d2de8cb789dfb8bbfd0'}, 'close': 11.854863166809082, 'timestamp': {'$date': '2024-05-29T16:00:00Z'}}, {'_id': {'$oid': '68937d2de8cb789dfb8bbfd1'}, 'close': 11.844917297363281, 'timestamp': {'$date': '2024-05-30T16:00:00Z'}}, {'_id': {'$oid': '68937d2de8cb789dfb8bbfd2'}, 'close': 11.566448211669922, 'timestamp': {'$date': '2024-06-02T16:00:00Z'}}, {'_id': {'$oid': '68937d2de8cb789dfb8bbfd3'}, 'close': 11.238251686096191, 'timestamp': {'$date': '2024-06-03T16:00:00Z'}}, {'_id': {'$oid': '68937d2de8cb789dfb8bbfd4'}, 'close': 11.18852424621582, 'timestamp': {'$date': '2024-06-04T16:00:00Z'}}, {'_id': {'$oid': '68937d2de8cb789dfb8bbfd5'}, 'close': 10.402841567993164, 'timestamp': {'$date': '2024-06-05T16:00:00Z'}}, {'_id': {'$oid': '68937d2de8cb789dfb8bbfd6'}, 'close': 10.472458839416504, 'timestamp': {'$date': '2024-06-06T16:00:00Z'}}, {'_id': {'$oid': '68937d2de8cb789dfb8bbfd7'}, 'close': 10.800655364990234, 'timestamp': {'$date': '2024-06-10T16:00:00Z'}}, {'_id': {'$oid': '68937d2de8cb789dfb8bbfd8'}, 'close': 10.740983963012695, 'timestamp': {'$date': '2024-06-11T16:00:00Z'}}, {'_id': {'$oid': '68937d2de8cb789dfb8bbfd9'}, 'close': 10.87027359008789, 'timestamp': {'$date': '2024-06-12T16:00:00Z'}}, {'_id': {'$oid': '68937d2de8cb789dfb8bbfda'}, 'close': 10.79071044921875, 'timestamp': {'$date': '2024-06-13T16:00:00Z'}}, {'_id': {'$oid': '68937d2de8cb789dfb8bbfdb'}, 'close': 10.770819664001465, 'timestamp': {'$date': '2024-06-16T16:00:00Z'}}, {'_id': {'$oid': '68937d2de8cb789dfb8bbfdc'}, 'close': 11.039344787597656, 'timestamp': {'$date': '2024-06-17T16:00:00Z'}}, {'_id': {'$oid': '68937d2de8cb789dfb8bbfdd'}, 'close': 10.651474952697754, 'timestamp': {'$date': '2024-06-18T16:00:00Z'}}, {'_id': {'$oid': '68937d2de8cb789dfb8bbfde'}, 'close': 10.353114128112793, 'timestamp': {'$date': '2024-06-19T16:00:00Z'}}, {'_id': {'$oid': '68937d2de8cb789dfb8bbfdf'}, 'close': 10.174098014831543, 'timestamp': {'$date': '2024-06-20T16:00:00Z'}}, {'_id': {'$oid': '68937d2de8cb789dfb8bbfe0'}, 'close': 9.696721076965332, 'timestamp': {'$date': '2024-06-23T16:00:00Z'}}, {'_id': {'$oid': '68937d2de8cb789dfb8bbfe1'}, 'close': 9.627103805541992, 'timestamp': {'$date': '2024-06-24T16:00:00Z'}}, {'_id': {'$oid': '68937d2de8cb789dfb8bbfe2'}, 'close': 10.114426612854004, 'timestamp': {'$date': '2024-06-25T16:00:00Z'}}, {'_id': {'$oid': '68937d2de8cb789dfb8bbfe3'}, 'close': 9.875738143920898, 'timestamp': {'$date': '2024-06-26T16:00:00Z'}}, {'_id': {'$oid': '68937d2de8cb789dfb8bbfe4'}, 'close': 9.686775207519531, 'timestamp': {'$date': '2024-06-27T16:00:00Z'}}, {'_id': {'$oid': '68937d2de8cb789dfb8bbfe5'}, 'close': 9.567431449890137, 'timestamp': {'$date': '2024-06-30T16:00:00Z'}}, {'_id': {'$oid': '68937d2de8cb789dfb8bbfe6'}, 'close': 9.517704010009766, 'timestamp': {'$date': '2024-07-01T16:00:00Z'}}, {'_id': {'$oid': '68937d2de8cb789dfb8bbfe7'}, 'close': 9.557485580444336, 'timestamp': {'$date': '2024-07-02T16:00:00Z'}}, {'_id': {'$oid': '68937d2de8cb789dfb8bbfe8'}, 'close': 9.09999942779541, 'timestamp': {'$date': '2024-07-03T16:00:00Z'}}, {'_id': {'$oid': '68937d2de8cb789dfb8bbfe9'}, 'close': 9.09999942779541, 'timestamp': {'$date': '2024-07-04T16:00:00Z'}}, {'_id': {'$oid': '68937d2de8cb789dfb8bbfea'}, 'close': 8.890000343322754, 'timestamp': {'$date': '2024-07-07T16:00:00Z'}}, {'_id': {'$oid': '68937d2de8cb789dfb8bbfeb'}, 'close': 9.029999732971191, 'timestamp': {'$date': '2024-07-08T16:00:00Z'}}, {'_id': {'$oid': '68937d2de8cb789dfb8bbfec'}, 'close': 8.960000038146973, 'timestamp': {'$date': '2024-07-09T16:00:00Z'}}, {'_id': {'$oid': '68937d2de8cb789dfb8bbfed'}, 'close': 9.4399995803833, 'timestamp': {'$date': '2024-07-10T16:00:00Z'}}, {'_id': {'$oid': '68937d2de8cb789dfb8bbfee'}, 'close': 9.489999771118164, 'timestamp': {'$date': '2024-07-11T16:00:00Z'}}, {'_id': {'$oid': '68937d2de8cb789dfb8bbfef'}, 'close': 8.890000343322754, 'timestamp': {'$date': '2024-07-14T16:00:00Z'}}, {'_id': {'$oid': '68937d2de8cb789dfb8bbff0'}, 'close': 8.850000381469727, 'timestamp': {'$date': '2024-07-15T16:00:00Z'}}, {'_id': {'$oid': '68937d2de8cb789dfb8bbff1'}, 'close': 8.819999694824219, 'timestamp': {'$date': '2024-07-16T16:00:00Z'}}, {'_id': {'$oid': '68937d2de8cb789dfb8bbff2'}, 'close': 8.720000267028809, 'timestamp': {'$date': '2024-07-17T16:00:00Z'}}, {'_id': {'$oid': '68937d2de8cb789dfb8bbff3'}, 'close': 8.779999732971191, 'timestamp': {'$date': '2024-07-18T16:00:00Z'}}, {'_id': {'$oid': '68937d2de8cb789dfb8bbff4'}, 'close': 8.739999771118164, 'timestamp': {'$date': '2024-07-21T16:00:00Z'}}, {'_id': {'$oid': '68937d2de8cb789dfb8bbff5'}, 'close': 8.420000076293945, 'timestamp': {'$date': '2024-07-22T16:00:00Z'}}, {'_id': {'$oid': '68937d2de8cb789dfb8bbff6'}, 'close': 8.119999885559082, 'timestamp': {'$date': '2024-07-23T16:00:00Z'}}, {'_id': {'$oid': '68937d2de8cb789dfb8bbff7'}, 'close': 8.329999923706055, 'timestamp': {'$date': '2024-07-24T16:00:00Z'}}, {'_id': {'$oid': '68937d2de8cb789dfb8bbff8'}, 'close': 8.350000381469727, 'timestamp': {'$date': '2024-07-25T16:00:00Z'}}, {'_id': {'$oid': '68937d2de8cb789dfb8bbff9'}, 'close': 8.220000267028809, 'timestamp': {'$date': '2024-07-28T16:00:00Z'}}, {'_id': {'$oid': '68937d2de8cb789dfb8bbffa'}, 'close': 8.270000457763672, 'timestamp': {'$date': '2024-07-29T16:00:00Z'}}, {'_id': {'$oid': '68937d2de8cb789dfb8bbffb'}, 'close': 8.8100004196167, 'timestamp': {'$date': '2024-07-30T16:00:00Z'}}, {'_id': {'$oid': '68937d2de8cb789dfb8bbffc'}, 'close': 9.239999771118164, 'timestamp': {'$date': '2024-07-31T16:00:00Z'}}, {'_id': {'$oid': '68937d2de8cb789dfb8bbffd'}, 'close': 8.829999923706055, 'timestamp': {'$date': '2024-08-01T16:00:00Z'}}, {'_id': {'$oid': '68937d2de8cb789dfb8bbffe'}, 'close': 8.510000228881836, 'timestamp': {'$date': '2024-08-04T16:00:00Z'}}, {'_id': {'$oid': '68937d2de8cb789dfb8bbfff'}, 'close': 8.770000457763672, 'timestamp': {'$date': '2024-08-05T16:00:00Z'}}, {'_id': {'$oid': '68937d2de8cb789dfb8bc000'}, 'close': 8.729999542236328, 'timestamp': {'$date': '2024-08-06T16:00:00Z'}}, {'_id': {'$oid': '68937d2de8cb789dfb8bc001'}, 'close': 8.729999542236328, 'timestamp': {'$date': '2024-08-07T16:00:00Z'}}, {'_id': {'$oid': '68937d2de8cb789dfb8bc002'}, 'close': 8.529999732971191, 'timestamp': {'$date': '2024-08-08T16:00:00Z'}}, {'_id': {'$oid': '68937d2de8cb789dfb8bc003'}, 'close': 8.34000015258789, 'timestamp': {'$date': '2024-08-11T16:00:00Z'}}, {'_id': {'$oid': '68937d2de8cb789dfb8bc004'}, 'close': 8.520000457763672, 'timestamp': {'$date': '2024-08-12T16:00:00Z'}}, {'_id': {'$oid': '68937d2de8cb789dfb8bc005'}, 'close': 8.329999923706055, 'timestamp': {'$date': '2024-08-13T16:00:00Z'}}, {'_id': {'$oid': '68937d2de8cb789dfb8bc006'}, 'close': 8.460000038146973, 'timestamp': {'$date': '2024-08-14T16:00:00Z'}}, {'_id': {'$oid': '68937d2de8cb789dfb8bc007'}, 'close': 8.319999694824219, 'timestamp': {'$date': '2024-08-15T16:00:00Z'}}, {'_id': {'$oid': '68937d2de8cb789dfb8bc008'}, 'close': 8.3100004196167, 'timestamp': {'$date': '2024-08-18T16:00:00Z'}}, {'_id': {'$oid': '68937d2de8cb789dfb8bc009'}, 'close': 8.180000305175781, 'timestamp': {'$date': '2024-08-19T16:00:00Z'}}, {'_id': {'$oid': '68937d2de8cb789dfb8bc00a'}, 'close': 8.34000015258789, 'timestamp': {'$date': '2024-08-20T16:00:00Z'}}, {'_id': {'$oid': '68937d2de8cb789dfb8bc00b'}, 'close': 8.289999961853027, 'timestamp': {'$date': '2024-08-21T16:00:00Z'}}, {'_id': {'$oid': '68937d2de8cb789dfb8bc00c'}, 'close': 8.0600004196167, 'timestamp': {'$date': '2024-08-22T16:00:00Z'}}, {'_id': {'$oid': '68937d2de8cb789dfb8bc00d'}, 'close': 8.529999732971191, 'timestamp': {'$date': '2024-08-25T16:00:00Z'}}, {'_id': {'$oid': '68937d2de8cb789dfb8bc00e'}, 'close': 8.239999771118164, 'timestamp': {'$date': '2024-08-26T16:00:00Z'}}, {'_id': {'$oid': '68937d2de8cb789dfb8bc00f'}, 'close': 8.260000228881836, 'timestamp': {'$date': '2024-08-27T16:00:00Z'}}, {'_id': {'$oid': '68937d2de8cb789dfb8bc010'}, 'close': 8.579999923706055, 'timestamp': {'$date': '2024-08-28T16:00:00Z'}}, {'_id': {'$oid': '68937d2de8cb789dfb8bc011'}, 'close': 8.649999618530273, 'timestamp': {'$date': '2024-08-29T16:00:00Z'}}, {'_id': {'$oid': '68937d2de8cb789dfb8bc012'}, 'close': 8.760000228881836, 'timestamp': {'$date': '2024-09-01T16:00:00Z'}}, {'_id': {'$oid': '68937d2de8cb789dfb8bc013'}, 'close': 8.800000190734863, 'timestamp': {'$date': '2024-09-02T16:00:00Z'}}, {'_id': {'$oid': '68937d2de8cb789dfb8bc014'}, 'close': 8.989999771118164, 'timestamp': {'$date': '2024-09-03T16:00:00Z'}}, {'_id': {'$oid': '68937d2de8cb789dfb8bc015'}, 'close': 8.880000114440918, 'timestamp': {'$date': '2024-09-04T16:00:00Z'}}, {'_id': {'$oid': '68937d2de8cb789dfb8bc016'}, 'close': 8.65999984741211, 'timestamp': {'$date': '2024-09-05T16:00:00Z'}}, {'_id': {'$oid': '68937d2de8cb789dfb8bc017'}, 'close': 8.850000381469727, 'timestamp': {'$date': '2024-09-08T16:00:00Z'}}, {'_id': {'$oid': '68937d2de8cb789dfb8bc018'}, 'close': 8.600000381469727, 'timestamp': {'$date': '2024-09-09T16:00:00Z'}}, {'_id': {'$oid': '68937d2de8cb789dfb8bc019'}, 'close': 8.760000228881836, 'timestamp': {'$date': '2024-09-10T16:00:00Z'}}, {'_id': {'$oid': '68937d2de8cb789dfb8bc01a'}, 'close': 8.470000267028809, 'timestamp': {'$date': '2024-09-11T16:00:00Z'}}, {'_id': {'$oid': '68937d2de8cb789dfb8bc01b'}, 'close': 8.220000267028809, 'timestamp': {'$date': '2024-09-12T16:00:00Z'}}, {'_id': {'$oid': '68937d2de8cb789dfb8bc01c'}, 'close': 7.929999828338623, 'timestamp': {'$date': '2024-09-17T16:00:00Z'}}, {'_id': {'$oid': '68937d2de8cb789dfb8bc01d'}, 'close': 8.180000305175781, 'timestamp': {'$date': '2024-09-18T16:00:00Z'}}, {'_id': {'$oid': '68937d2de8cb789dfb8bc01e'}, 'close': 8.0, 'timestamp': {'$date': '2024-09-19T16:00:00Z'}}, {'_id': {'$oid': '68937d2de8cb789dfb8bc01f'}, 'close': 7.920000076293945, 'timestamp': {'$date': '2024-09-22T16:00:00Z'}}, {'_id': {'$oid': '68937d2de8cb789dfb8bc020'}, 'close': 8.619999885559082, 'timestamp': {'$date': '2024-09-23T16:00:00Z'}}, {'_id': {'$oid': '68937d2de8cb789dfb8bc021'}, 'close': 8.760000228881836, 'timestamp': {'$date': '2024-09-24T16:00:00Z'}}, {'_id': {'$oid': '68937d2de8cb789dfb8bc022'}, 'close': 9.210000038146973, 'timestamp': {'$date': '2024-09-25T16:00:00Z'}}, {'_id': {'$oid': '68937d2de8cb789dfb8bc023'}, 'close': 9.899999618530273, 'timestamp': {'$date': '2024-09-26T16:00:00Z'}}, {'_id': {'$oid': '68937d2de8cb789dfb8bc024'}, 'close': 11.720000267028809, 'timestamp': {'$date': '2024-09-29T16:00:00Z'}}, {'_id': {'$oid': '68937d2de8cb789dfb8bc025'}, 'close': 13.479999542236328, 'timestamp': {'$date': '2024-10-07T16:00:00Z'}}, {'_id': {'$oid': '68937d2de8cb789dfb8bc026'}, 'close': 11.949999809265137, 'timestamp': {'$date': '2024-10-08T16:00:00Z'}}, {'_id': {'$oid': '68937d2de8cb789dfb8bc027'}, 'close': 11.5, 'timestamp': {'$date': '2024-10-09T16:00:00Z'}}, {'_id': {'$oid': '68937d2de8cb789dfb8bc028'}, 'close': 10.890000343322754, 'timestamp': {'$date': '2024-10-10T16:00:00Z'}}, {'_id': {'$oid': '68937d2de8cb789dfb8bc029'}, 'close': 10.949999809265137, 'timestamp': {'$date': '2024-10-13T16:00:00Z'}}, {'_id': {'$oid': '68937d2de8cb789dfb8bc02a'}, 'close': 10.510000228881836, 'timestamp': {'$date': '2024-10-14T16:00:00Z'}}, {'_id': {'$oid': '68937d2de8cb789dfb8bc02b'}, 'close': 10.380000114440918, 'timestamp': {'$date': '2024-10-15T16:00:00Z'}}, {'_id': {'$oid': '68937d2de8cb789dfb8bc02c'}, 'close': 10.15999984741211, 'timestamp': {'$date': '2024-10-16T16:00:00Z'}}, {'_id': {'$oid': '68937d2de8cb789dfb8bc02d'}, 'close': 10.84000015258789, 'timestamp': {'$date': '2024-10-17T16:00:00Z'}}, {'_id': {'$oid': '68937d2de8cb789dfb8bc02e'}, 'close': 11.15999984741211, 'timestamp': {'$date': '2024-10-20T16:00:00Z'}}, {'_id': {'$oid': '68937d2de8cb789dfb8bc02f'}, 'close': 11.229999542236328, 'timestamp': {'$date': '2024-10-21T16:00:00Z'}}, {'_id': {'$oid': '68937d2de8cb789dfb8bc030'}, 'close': 11.359999656677246, 'timestamp': {'$date': '2024-10-22T16:00:00Z'}}, {'_id': {'$oid': '68937d2de8cb789dfb8bc031'}, 'close': 11.119999885559082, 'timestamp': {'$date': '2024-10-23T16:00:00Z'}}, {'_id': {'$oid': '68937d2de8cb789dfb8bc032'}, 'close': 12.029999732971191, 'timestamp': {'$date': '2024-10-24T16:00:00Z'}}, {'_id': {'$oid': '68937d2de8cb789dfb8bc033'}, 'close': 12.329999923706055, 'timestamp': {'$date': '2024-10-27T16:00:00Z'}}, {'_id': {'$oid': '68937d2de8cb789dfb8bc034'}, 'close': 11.739999771118164, 'timestamp': {'$date': '2024-10-28T16:00:00Z'}}, {'_id': {'$oid': '68937d2de8cb789dfb8bc035'}, 'close': 11.510000228881836, 'timestamp': {'$date': '2024-10-29T16:00:00Z'}}, {'_id': {'$oid': '68937d2de8cb789dfb8bc036'}, 'close': 11.770000457763672, 'timestamp': {'$date': '2024-10-30T16:00:00Z'}}, {'_id': {'$oid': '68937d2de8cb789dfb8bc037'}, 'close': 11.279999732971191, 'timestamp': {'$date': '2024-10-31T16:00:00Z'}}, {'_id': {'$oid': '68937d2de8cb789dfb8bc038'}, 'close': 11.539999961853027, 'timestamp': {'$date': '2024-11-03T16:00:00Z'}}, {'_id': {'$oid': '68937d2de8cb789dfb8bc039'}, 'close': 12.329999923706055, 'timestamp': {'$date': '2024-11-04T16:00:00Z'}}, {'_id': {'$oid': '68937d2de8cb789dfb8bc03a'}, 'close': 12.260000228881836, 'timestamp': {'$date': '2024-11-05T16:00:00Z'}}, {'_id': {'$oid': '68937d2de8cb789dfb8bc03b'}, 'close': 12.65999984741211, 'timestamp': {'$date': '2024-11-06T16:00:00Z'}}, {'_id': {'$oid': '68937d2de8cb789dfb8bc03c'}, 'close': 12.800000190734863, 'timestamp': {'$date': '2024-11-07T16:00:00Z'}}, {'_id': {'$oid': '68937d2de8cb789dfb8bc03d'}, 'close': 13.789999961853027, 'timestamp': {'$date': '2024-11-10T16:00:00Z'}}, {'_id': {'$oid': '68937d2de8cb789dfb8bc03e'}, 'close': 13.1899995803833, 'timestamp': {'$date': '2024-11-11T16:00:00Z'}}, {'_id': {'$oid': '68937d2de8cb789dfb8bc03f'}, 'close': 13.260000228881836, 'timestamp': {'$date': '2024-11-12T16:00:00Z'}}, {'_id': {'$oid': '68937d2de8cb789dfb8bc040'}, 'close': 13.880000114440918, 'timestamp': {'$date': '2024-11-13T16:00:00Z'}}, {'_id': {'$oid': '68937d2de8cb789dfb8bc041'}, 'close': 14.40999984741211, 'timestamp': {'$date': '2024-11-14T16:00:00Z'}}, {'_id': {'$oid': '68937d2de8cb789dfb8bc042'}, 'close': 12.819999694824219, 'timestamp': {'$date': '2024-11-17T16:00:00Z'}}, {'_id': {'$oid': '68937d2de8cb789dfb8bc043'}, 'close': 12.859999656677246, 'timestamp': {'$date': '2024-11-18T16:00:00Z'}}, {'_id': {'$oid': '68937d2de8cb789dfb8bc044'}, 'close': 13.319999694824219, 'timestamp': {'$date': '2024-11-19T16:00:00Z'}}, {'_id': {'$oid': '68937d2de8cb789dfb8bc045'}, 'close': 13.0, 'timestamp': {'$date': '2024-11-20T16:00:00Z'}}, {'_id': {'$oid': '68937d2de8cb789dfb8bc046'}, 'close': 12.149999618530273, 'timestamp': {'$date': '2024-11-21T16:00:00Z'}}, {'_id': {'$oid': '68937d2de8cb789dfb8bc047'}, 'close': 12.65999984741211, 'timestamp': {'$date': '2024-11-24T16:00:00Z'}}, {'_id': {'$oid': '68937d2de8cb789dfb8bc048'}, 'close': 12.130000114440918, 'timestamp': {'$date': '2024-11-25T16:00:00Z'}}, {'_id': {'$oid': '68937d2de8cb789dfb8bc049'}, 'close': 12.300000190734863, 'timestamp': {'$date': '2024-11-26T16:00:00Z'}}, {'_id': {'$oid': '68937d2de8cb789dfb8bc04a'}, 'close': 12.140000343322754, 'timestamp': {'$date': '2024-11-27T16:00:00Z'}}, {'_id': {'$oid': '68937d2de8cb789dfb8bc04b'}, 'close': 12.319999694824219, 'timestamp': {'$date': '2024-11-28T16:00:00Z'}}, {'_id': {'$oid': '68937d2de8cb789dfb8bc04c'}, 'close': 13.15999984741211, 'timestamp': {'$date': '2024-12-01T16:00:00Z'}}, {'_id': {'$oid': '68937d2de8cb789dfb8bc04d'}, 'close': 12.970000267028809, 'timestamp': {'$date': '2024-12-02T16:00:00Z'}}, {'_id': {'$oid': '68937d2de8cb789dfb8bc04e'}, 'close': 12.619999885559082, 'timestamp': {'$date': '2024-12-03T16:00:00Z'}}, {'_id': {'$oid': '68937d2de8cb789dfb8bc04f'}, 'close': 12.899999618530273, 'timestamp': {'$date': '2024-12-04T16:00:00Z'}}, {'_id': {'$oid': '68937d2de8cb789dfb8bc050'}, 'close': 13.65999984741211, 'timestamp': {'$date': '2024-12-05T16:00:00Z'}}, {'_id': {'$oid': '68937d2de8cb789dfb8bc051'}, 'close': 13.319999694824219, 'timestamp': {'$date': '2024-12-08T16:00:00Z'}}, {'_id': {'$oid': '68937d2de8cb789dfb8bc052'}, 'close': 13.5, 'timestamp': {'$date': '2024-12-09T16:00:00Z'}}, {'_id': {'$oid': '68937d2de8cb789dfb8bc053'}, 'close': 13.449999809265137, 'timestamp': {'$date': '2024-12-10T16:00:00Z'}}, {'_id': {'$oid': '68937d2de8cb789dfb8bc054'}, 'close': 13.300000190734863, 'timestamp': {'$date': '2024-12-11T16:00:00Z'}}, {'_id': {'$oid': '68937d2de8cb789dfb8bc055'}, 'close': 12.800000190734863, 'timestamp': {'$date': '2024-12-12T16:00:00Z'}}, {'_id': {'$oid': '68937d2de8cb789dfb8bc056'}, 'close': 12.489999771118164, 'timestamp': {'$date': '2024-12-15T16:00:00Z'}}, {'_id': {'$oid': '68937d2de8cb789dfb8bc057'}, 'close': 12.239999771118164, 'timestamp': {'$date': '2024-12-16T16:00:00Z'}}, {'_id': {'$oid': '68937d2de8cb789dfb8bc058'}, 'close': 12.25, 'timestamp': {'$date': '2024-12-17T16:00:00Z'}}, {'_id': {'$oid': '68937d2de8cb789dfb8bc059'}, 'close': 12.319999694824219, 'timestamp': {'$date': '2024-12-18T16:00:00Z'}}, {'_id': {'$oid': '68937d2de8cb789dfb8bc05a'}, 'close': 12.359999656677246, 'timestamp': {'$date': '2024-12-19T16:00:00Z'}}, {'_id': {'$oid': '68937d2de8cb789dfb8bc05b'}, 'close': 11.720000267028809, 'timestamp': {'$date': '2024-12-22T16:00:00Z'}}, {'_id': {'$oid': '68937d2de8cb789dfb8bc05c'}, 'close': 11.84000015258789, 'timestamp': {'$date': '2024-12-23T16:00:00Z'}}, {'_id': {'$oid': '68937d2de8cb789dfb8bc05d'}, 'close': 11.40999984741211, 'timestamp': {'$date': '2024-12-24T16:00:00Z'}}, {'_id': {'$oid': '68937d2de8cb789dfb8bc05e'}, 'close': 11.399999618530273, 'timestamp': {'$date': '2024-12-25T16:00:00Z'}}, {'_id': {'$oid': '68937d2de8cb789dfb8bc05f'}, 'close': 11.4399995803833, 'timestamp': {'$date': '2024-12-26T16:00:00Z'}}, {'_id': {'$oid': '68937d2de8cb789dfb8bc060'}, 'close': 11.329999923706055, 'timestamp': {'$date': '2024-12-29T16:00:00Z'}}, {'_id': {'$oid': '68937d2de8cb789dfb8bc061'}, 'close': 10.949999809265137, 'timestamp': {'$date': '2024-12-30T16:00:00Z'}}, {'_id': {'$oid': '68937d2de8cb789dfb8bc062'}, 'close': 10.630000114440918, 'timestamp': {'$date': '2025-01-01T16:00:00Z'}}, {'_id': {'$oid': '68937d2de8cb789dfb8bc063'}, 'close': 10.130000114440918, 'timestamp': {'$date': '2025-01-02T16:00:00Z'}}, {'_id': {'$oid': '68937d2de8cb789dfb8bc064'}, 'close': 10.039999961853027, 'timestamp': {'$date': '2025-01-05T16:00:00Z'}}, {'_id': {'$oid': '68937d2de8cb789dfb8bc065'}, 'close': 10.239999771118164, 'timestamp': {'$date': '2025-01-06T16:00:00Z'}}, {'_id': {'$oid': '68937d2de8cb789dfb8bc066'}, 'close': 10.0, 'timestamp': {'$date': '2025-01-07T16:00:00Z'}}, {'_id': {'$oid': '68937d2de8cb789dfb8bc067'}, 'close': 10.029999732971191, 'timestamp': {'$date': '2025-01-08T16:00:00Z'}}, {'_id': {'$oid': '68937d2de8cb789dfb8bc068'}, 'close': 9.729999542236328, 'timestamp': {'$date': '2025-01-09T16:00:00Z'}}, {'_id': {'$oid': '68937d2de8cb789dfb8bc069'}, 'close': 9.90999984741211, 'timestamp': {'$date': '2025-01-12T16:00:00Z'}}, {'_id': {'$oid': '68937d2de8cb789dfb8bc06a'}, 'close': 10.319999694824219, 'timestamp': {'$date': '2025-01-13T16:00:00Z'}}, {'_id': {'$oid': '68937d2de8cb789dfb8bc06b'}, 'close': 10.260000228881836, 'timestamp': {'$date': '2025-01-14T16:00:00Z'}}, {'_id': {'$oid': '68937d2de8cb789dfb8bc06c'}, 'close': 10.260000228881836, 'timestamp': {'$date': '2025-01-15T16:00:00Z'}}, {'_id': {'$oid': '68937d2de8cb789dfb8bc06d'}, 'close': 10.300000190734863, 'timestamp': {'$date': '2025-01-16T16:00:00Z'}}, {'_id': {'$oid': '68937d2de8cb789dfb8bc06e'}, 'close': 10.300000190734863, 'timestamp': {'$date': '2025-01-19T16:00:00Z'}}, {'_id': {'$oid': '68937d2de8cb789dfb8bc06f'}, 'close': 10.170000076293945, 'timestamp': {'$date': '2025-01-20T16:00:00Z'}}, {'_id': {'$oid': '68937d2de8cb789dfb8bc070'}, 'close': 10.010000228881836, 'timestamp': {'$date': '2025-01-21T16:00:00Z'}}, {'_id': {'$oid': '68937d2de8cb789dfb8bc071'}, 'close': 9.9399995803833, 'timestamp': {'$date': '2025-01-22T16:00:00Z'}}, {'_id': {'$oid': '68937d2de8cb789dfb8bc072'}, 'close': 10.149999618530273, 'timestamp': {'$date': '2025-01-23T16:00:00Z'}}, {'_id': {'$oid': '68937d2de8cb789dfb8bc073'}, 'close': 9.979999542236328, 'timestamp': {'$date': '2025-01-26T16:00:00Z'}}, {'_id': {'$oid': '68937d2de8cb789dfb8bc074'}, 'close': 10.229999542236328, 'timestamp': {'$date': '2025-02-04T16:00:00Z'}}, {'_id': {'$oid': '68937d2de8cb789dfb8bc075'}, 'close': 10.579999923706055, 'timestamp': {'$date': '2025-02-05T16:00:00Z'}}, {'_id': {'$oid': '68937d2de8cb789dfb8bc076'}, 'close': 10.800000190734863, 'timestamp': {'$date': '2025-02-06T16:00:00Z'}}, {'_id': {'$oid': '68937d2de8cb789dfb8bc077'}, 'close': 10.829999923706055, 'timestamp': {'$date': '2025-02-09T16:00:00Z'}}, {'_id': {'$oid': '68937d2de8cb789dfb8bc078'}, 'close': 10.619999885559082, 'timestamp': {'$date': '2025-02-10T16:00:00Z'}}, {'_id': {'$oid': '68937d2de8cb789dfb8bc079'}, 'close': 10.930000305175781, 'timestamp': {'$date': '2025-02-11T16:00:00Z'}}, {'_id': {'$oid': '68937d2de8cb789dfb8bc07a'}, 'close': 11.09000015258789, 'timestamp': {'$date': '2025-02-12T16:00:00Z'}}, {'_id': {'$oid': '68937d2de8cb789dfb8bc07b'}, 'close': 11.220000267028809, 'timestamp': {'$date': '2025-02-13T16:00:00Z'}}, {'_id': {'$oid': '68937d2de8cb789dfb8bc07c'}, 'close': 11.020000457763672, 'timestamp': {'$date': '2025-02-16T16:00:00Z'}}, {'_id': {'$oid': '68937d2de8cb789dfb8bc07d'}, 'close': 10.890000343322754, 'timestamp': {'$date': '2025-02-17T16:00:00Z'}}, {'_id': {'$oid': '68937d2de8cb789dfb8bc07e'}, 'close': 11.010000228881836, 'timestamp': {'$date': '2025-02-18T16:00:00Z'}}, {'_id': {'$oid': '68937d2de8cb789dfb8bc07f'}, 'close': 10.979999542236328, 'timestamp': {'$date': '2025-02-19T16:00:00Z'}}, {'_id': {'$oid': '68937d2de8cb789dfb8bc080'}, 'close': 11.470000267028809, 'timestamp': {'$date': '2025-02-20T16:00:00Z'}}, {'_id': {'$oid': '68937d2de8cb789dfb8bc081'}, 'close': 11.40999984741211, 'timestamp': {'$date': '2025-02-23T16:00:00Z'}}, {'_id': {'$oid': '68937d2de8cb789dfb8bc082'}, 'close': 11.390000343322754, 'timestamp': {'$date': '2025-02-24T16:00:00Z'}}, {'_id': {'$oid': '68937d2de8cb789dfb8bc083'}, 'close': 11.800000190734863, 'timestamp': {'$date': '2025-02-25T16:00:00Z'}}, {'_id': {'$oid': '68937d2de8cb789dfb8bc084'}, 'close': 12.479999542236328, 'timestamp': {'$date': '2025-02-26T16:00:00Z'}}, {'_id': {'$oid': '68937d2de8cb789dfb8bc085'}, 'close': 12.289999961853027, 'timestamp': {'$date': '2025-02-27T16:00:00Z'}}, {'_id': {'$oid': '68937d2de8cb789dfb8bc086'}, 'close': 12.489999771118164, 'timestamp': {'$date': '2025-03-02T16:00:00Z'}}, {'_id': {'$oid': '68937d2de8cb789dfb8bc087'}, 'close': 12.1899995803833, 'timestamp': {'$date': '2025-03-03T16:00:00Z'}}, {'_id': {'$oid': '68937d2de8cb789dfb8bc088'}, 'close': 12.039999961853027, 'timestamp': {'$date': '2025-03-04T16:00:00Z'}}, {'_id': {'$oid': '68937d2de8cb789dfb8bc089'}, 'close': 12.09000015258789, 'timestamp': {'$date': '2025-03-05T16:00:00Z'}}, {'_id': {'$oid': '68937d2de8cb789dfb8bc08a'}, 'close': 11.65999984741211, 'timestamp': {'$date': '2025-03-06T16:00:00Z'}}, {'_id': {'$oid': '68937d2de8cb789dfb8bc08b'}, 'close': 11.84000015258789, 'timestamp': {'$date': '2025-03-09T16:00:00Z'}}, {'_id': {'$oid': '68937d2de8cb789dfb8bc08c'}, 'close': 11.850000381469727, 'timestamp': {'$date': '2025-03-10T16:00:00Z'}}, {'_id': {'$oid': '68937d2de8cb789dfb8bc08d'}, 'close': 11.819999694824219, 'timestamp': {'$date': '2025-03-11T16:00:00Z'}}, {'_id': {'$oid': '68937d2de8cb789dfb8bc08e'}, 'close': 11.649999618530273, 'timestamp': {'$date': '2025-03-12T16:00:00Z'}}, {'_id': {'$oid': '68937d2de8cb789dfb8bc08f'}, 'close': 11.84000015258789, 'timestamp': {'$date': '2025-03-13T16:00:00Z'}}, {'_id': {'$oid': '68937d2de8cb789dfb8bc090'}, 'close': 12.010000228881836, 'timestamp': {'$date': '2025-03-16T16:00:00Z'}}, {'_id': {'$oid': '68937d2de8cb789dfb8bc091'}, 'close': 13.050000190734863, 'timestamp': {'$date': '2025-03-17T16:00:00Z'}}, {'_id': {'$oid': '68937d2de8cb789dfb8bc092'}, 'close': 12.619999885559082, 'timestamp': {'$date': '2025-03-18T16:00:00Z'}}, {'_id': {'$oid': '68937d2de8cb789dfb8bc093'}, 'close': 12.970000267028809, 'timestamp': {'$date': '2025-03-19T16:00:00Z'}}, {'_id': {'$oid': '68937d2de8cb789dfb8bc094'}, 'close': 12.520000457763672, 'timestamp': {'$date': '2025-03-20T16:00:00Z'}}, {'_id': {'$oid': '68937d2de8cb789dfb8bc095'}, 'close': 12.479999542236328, 'timestamp': {'$date': '2025-03-23T16:00:00Z'}}, {'_id': {'$oid': '68937d2de8cb789dfb8bc096'}, 'close': 12.600000381469727, 'timestamp': {'$date': '2025-03-24T16:00:00Z'}}, {'_id': {'$oid': '68937d2de8cb789dfb8bc097'}, 'close': 12.920000076293945, 'timestamp': {'$date': '2025-03-25T16:00:00Z'}}, {'_id': {'$oid': '68937d2de8cb789dfb8bc098'}, 'close': 12.579999923706055, 'timestamp': {'$date': '2025-03-26T16:00:00Z'}}, {'_id': {'$oid': '68937d2de8cb789dfb8bc099'}, 'close': 12.520000457763672, 'timestamp': {'$date': '2025-03-27T16:00:00Z'}}, {'_id': {'$oid': '68937d2de8cb789dfb8bc09a'}, 'close': 11.65999984741211, 'timestamp': {'$date': '2025-03-30T16:00:00Z'}}, {'_id': {'$oid': '68937d2de8cb789dfb8bc09b'}, 'close': 11.829999923706055, 'timestamp': {'$date': '2025-03-31T16:00:00Z'}}, {'_id': {'$oid': '68937d2de8cb789dfb8bc09c'}, 'close': 11.800000190734863, 'timestamp': {'$date': '2025-04-01T16:00:00Z'}}, {'_id': {'$oid': '68937d2de8cb789dfb8bc09d'}, 'close': 11.649999618530273, 'timestamp': {'$date': '2025-04-02T16:00:00Z'}}, {'_id': {'$oid': '68937d2de8cb789dfb8bc09e'}, 'close': 9.880000114440918, 'timestamp': {'$date': '2025-04-06T16:00:00Z'}}, {'_id': {'$oid': '68937d2de8cb789dfb8bc09f'}, 'close': 10.359999656677246, 'timestamp': {'$date': '2025-04-07T16:00:00Z'}}, {'_id': {'$oid': '68937d2de8cb789dfb8bc0a0'}, 'close': 10.569999694824219, 'timestamp': {'$date': '2025-04-08T16:00:00Z'}}, {'_id': {'$oid': '68937d2de8cb789dfb8bc0a1'}, 'close': 10.869999885559082, 'timestamp': {'$date': '2025-04-09T16:00:00Z'}}, {'_id': {'$oid': '68937d2de8cb789dfb8bc0a2'}, 'close': 11.279999732971191, 'timestamp': {'$date': '2025-04-10T16:00:00Z'}}, {'_id': {'$oid': '68937d2de8cb789dfb8bc0a3'}, 'close': 11.220000267028809, 'timestamp': {'$date': '2025-04-13T16:00:00Z'}}, {'_id': {'$oid': '68937d2de8cb789dfb8bc0a4'}, 'close': 11.229999542236328, 'timestamp': {'$date': '2025-04-14T16:00:00Z'}}, {'_id': {'$oid': '68937d2de8cb789dfb8bc0a5'}, 'close': 11.010000228881836, 'timestamp': {'$date': '2025-04-15T16:00:00Z'}}, {'_id': {'$oid': '68937d2de8cb789dfb8bc0a6'}, 'close': 11.100000381469727, 'timestamp': {'$date': '2025-04-16T16:00:00Z'}}, {'_id': {'$oid': '68937d2de8cb789dfb8bc0a7'}, 'close': 11.989999771118164, 'timestamp': {'$date': '2025-04-17T16:00:00Z'}}, {'_id': {'$oid': '68937d2de8cb789dfb8bc0a8'}, 'close': 11.869999885559082, 'timestamp': {'$date': '2025-04-20T16:00:00Z'}}, {'_id': {'$oid': '68937d2de8cb789dfb8bc0a9'}, 'close': 11.510000228881836, 'timestamp': {'$date': '2025-04-21T16:00:00Z'}}, {'_id': {'$oid': '68937d2de8cb789dfb8bc0aa'}, 'close': 11.470000267028809, 'timestamp': {'$date': '2025-04-22T16:00:00Z'}}, {'_id': {'$oid': '68937d2de8cb789dfb8bc0ab'}, 'close': 11.210000038146973, 'timestamp': {'$date': '2025-04-23T16:00:00Z'}}, {'_id': {'$oid': '68937d2de8cb789dfb8bc0ac'}, 'close': 11.050000190734863, 'timestamp': {'$date': '2025-04-24T16:00:00Z'}}, {'_id': {'$oid': '68937d2de8cb789dfb8bc0ad'}, 'close': 10.90999984741211, 'timestamp': {'$date': '2025-04-27T16:00:00Z'}}, {'_id': {'$oid': '68937d2de8cb789dfb8bc0ae'}, 'close': 11.34000015258789, 'timestamp': {'$date': '2025-04-28T16:00:00Z'}}, {'_id': {'$oid': '68937d2de8cb789dfb8bc0af'}, 'close': 11.380000114440918, 'timestamp': {'$date': '2025-04-29T16:00:00Z'}}, {'_id': {'$oid': '68937d2de8cb789dfb8bc0b0'}, 'close': 11.539999961853027, 'timestamp': {'$date': '2025-05-05T16:00:00Z'}}, {'_id': {'$oid': '68937d2de8cb789dfb8bc0b1'}, 'close': 11.640000343322754, 'timestamp': {'$date': '2025-05-06T16:00:00Z'}}, {'_id': {'$oid': '68937d2de8cb789dfb8bc0b2'}, 'close': 11.680000305175781, 'timestamp': {'$date': '2025-05-07T16:00:00Z'}}, {'_id': {'$oid': '68937d2de8cb789dfb8bc0b3'}, 'close': 11.5600004196167, 'timestamp': {'$date': '2025-05-08T16:00:00Z'}}, {'_id': {'$oid': '68937d2de8cb789dfb8bc0b4'}, 'close': 11.930000305175781, 'timestamp': {'$date': '2025-05-11T16:00:00Z'}}, {'_id': {'$oid': '68937d2de8cb789dfb8bc0b5'}, 'close': 11.8100004196167, 'timestamp': {'$date': '2025-05-12T16:00:00Z'}}, {'_id': {'$oid': '68937d2de8cb789dfb8bc0b6'}, 'close': 11.6899995803833, 'timestamp': {'$date': '2025-05-13T16:00:00Z'}}, {'_id': {'$oid': '68937d2de8cb789dfb8bc0b7'}, 'close': 11.5, 'timestamp': {'$date': '2025-05-14T16:00:00Z'}}, {'_id': {'$oid': '68937d2de8cb789dfb8bc0b8'}, 'close': 11.550000190734863, 'timestamp': {'$date': '2025-05-15T16:00:00Z'}}, {'_id': {'$oid': '68937d2de8cb789dfb8bc0b9'}, 'close': 11.550000190734863, 'timestamp': {'$date': '2025-05-18T16:00:00Z'}}, {'_id': {'$oid': '68937d2de8cb789dfb8bc0ba'}, 'close': 12.020000457763672, 'timestamp': {'$date': '2025-05-19T16:00:00Z'}}, {'_id': {'$oid': '68937d2de8cb789dfb8bc0bb'}, 'close': 11.859999656677246, 'timestamp': {'$date': '2025-05-20T16:00:00Z'}}, {'_id': {'$oid': '68937d2de8cb789dfb8bc0bc'}, 'close': 11.609999656677246, 'timestamp': {'$date': '2025-05-21T16:00:00Z'}}, {'_id': {'$oid': '68937d2de8cb789dfb8bc0bd'}, 'close': 11.430000305175781, 'timestamp': {'$date': '2025-05-22T16:00:00Z'}}, {'_id': {'$oid': '68937d2de8cb789dfb8bc0be'}, 'close': 11.640000343322754, 'timestamp': {'$date': '2025-05-25T16:00:00Z'}}, {'_id': {'$oid': '68937d2de8cb789dfb8bc0bf'}, 'close': 11.770000457763672, 'timestamp': {'$date': '2025-05-26T16:00:00Z'}}, {'_id': {'$oid': '68937d2de8cb789dfb8bc0c0'}, 'close': 11.829999923706055, 'timestamp': {'$date': '2025-05-27T16:00:00Z'}}, {'_id': {'$oid': '68937d2de8cb789dfb8bc0c1'}, 'close': 11.979999542236328, 'timestamp': {'$date': '2025-05-28T16:00:00Z'}}, {'_id': {'$oid': '68937d2de8cb789dfb8bc0c2'}, 'close': 11.819999694824219, 'timestamp': {'$date': '2025-05-29T16:00:00Z'}}, {'_id': {'$oid': '68937d2de8cb789dfb8bc0c3'}, 'close': 11.75, 'timestamp': {'$date': '2025-06-02T16:00:00Z'}}, {'_id': {'$oid': '68937d2de8cb789dfb8bc0c4'}, 'close': 12.1899995803833, 'timestamp': {'$date': '2025-06-03T16:00:00Z'}}, {'_id': {'$oid': '68937d2de8cb789dfb8bc0c5'}, 'close': 12.020000457763672, 'timestamp': {'$date': '2025-06-04T16:00:00Z'}}, {'_id': {'$oid': '68937d2de8cb789dfb8bc0c6'}, 'close': 12.130000114440918, 'timestamp': {'$date': '2025-06-05T16:00:00Z'}}, {'_id': {'$oid': '68937d2de8cb789dfb8bc0c7'}, 'close': 12.369999885559082, 'timestamp': {'$date': '2025-06-08T16:00:00Z'}}, {'_id': {'$oid': '68937d2de8cb789dfb8bc0c8'}, 'close': 12.229999542236328, 'timestamp': {'$date': '2025-06-09T16:00:00Z'}}, {'_id': {'$oid': '68937d2de8cb789dfb8bc0c9'}, 'close': 12.020000457763672, 'timestamp': {'$date': '2025-06-10T16:00:00Z'}}, {'_id': {'$oid': '68937d2de8cb789dfb8bc0ca'}, 'close': 11.9399995803833, 'timestamp': {'$date': '2025-06-11T16:00:00Z'}}, {'_id': {'$oid': '68937d2de8cb789dfb8bc0cb'}, 'close': 11.699999809265137, 'timestamp': {'$date': '2025-06-12T16:00:00Z'}}, {'_id': {'$oid': '68937d2de8cb789dfb8bc0cc'}, 'close': 11.789999961853027, 'timestamp': {'$date': '2025-06-15T16:00:00Z'}}, {'_id': {'$oid': '68937d2de8cb789dfb8bc0cd'}, 'close': 11.859999656677246, 'timestamp': {'$date': '2025-06-16T16:00:00Z'}}, {'_id': {'$oid': '68937d2de8cb789dfb8bc0ce'}, 'close': 11.75, 'timestamp': {'$date': '2025-06-17T16:00:00Z'}}, {'_id': {'$oid': '68937d2de8cb789dfb8bc0cf'}, 'close': 11.869999885559082, 'timestamp': {'$date': '2025-06-18T16:00:00Z'}}, {'_id': {'$oid': '68937d2de8cb789dfb8bc0d0'}, 'close': 12.199999809265137, 'timestamp': {'$date': '2025-06-19T16:00:00Z'}}, {'_id': {'$oid': '68937d2de8cb789dfb8bc0d1'}, 'close': 12.390000343322754, 'timestamp': {'$date': '2025-06-22T16:00:00Z'}}, {'_id': {'$oid': '68937d2de8cb789dfb8bc0d2'}, 'close': 14.350000381469727, 'timestamp': {'$date': '2025-06-23T16:00:00Z'}}, {'_id': {'$oid': '68937d2de8cb789dfb8bc0d3'}, 'close': 13.789999961853027, 'timestamp': {'$date': '2025-06-24T16:00:00Z'}}, {'_id': {'$oid': '68937d2de8cb789dfb8bc0d4'}, 'close': 13.600000381469727, 'timestamp': {'$date': '2025-06-25T16:00:00Z'}}, {'_id': {'$oid': '68937d2de8cb789dfb8bc0d5'}, 'close': 13.550000190734863, 'timestamp': {'$date': '2025-06-26T16:00:00Z'}}, {'_id': {'$oid': '68937d2de8cb789dfb8bc0d6'}, 'close': 13.550000190734863, 'timestamp': {'$date': '2025-06-29T16:00:00Z'}}, {'_id': {'$oid': '68937d2de8cb789dfb8bc0d7'}, 'close': 13.699999809265137, 'timestamp': {'$date': '2025-06-30T16:00:00Z'}}, {'_id': {'$oid': '68937d2de8cb789dfb8bc0d8'}, 'close': 13.350000381469727, 'timestamp': {'$date': '2025-07-01T16:00:00Z'}}, {'_id': {'$oid': '68937d2de8cb789dfb8bc0d9'}, 'close': 13.40999984741211, 'timestamp': {'$date': '2025-07-02T16:00:00Z'}}, {'_id': {'$oid': '68937d2de8cb789dfb8bc0da'}, 'close': 13.109999656677246, 'timestamp': {'$date': '2025-07-03T16:00:00Z'}}, {'_id': {'$oid': '68937d2de8cb789dfb8bc0db'}, 'close': 13.180000305175781, 'timestamp': {'$date': '2025-07-06T16:00:00Z'}}, {'_id': {'$oid': '68937d2de8cb789dfb8bc0dc'}, 'close': 13.34000015258789, 'timestamp': {'$date': '2025-07-07T16:00:00Z'}}, {'_id': {'$oid': '68937d2de8cb789dfb8bc0dd'}, 'close': 13.210000038146973, 'timestamp': {'$date': '2025-07-08T16:00:00Z'}}, {'_id': {'$oid': '68937d2de8cb789dfb8bc0de'}, 'close': 13.25, 'timestamp': {'$date': '2025-07-09T16:00:00Z'}}, {'_id': {'$oid': '68937d2de8cb789dfb8bc0df'}, 'close': 13.300000190734863, 'timestamp': {'$date': '2025-07-10T16:00:00Z'}}, {'_id': {'$oid': '68937d2de8cb789dfb8bc0e0'}, 'close': 13.300000190734863, 'timestamp': {'$date': '2025-07-13T16:00:00Z'}}, {'_id': {'$oid': '68937d2de8cb789dfb8bc0e1'}, 'close': 13.0, 'timestamp': {'$date': '2025-07-14T16:00:00Z'}}, {'_id': {'$oid': '68937d2de8cb789dfb8bc0e2'}, 'close': 13.0600004196167, 'timestamp': {'$date': '2025-07-15T16:00:00Z'}}, {'_id': {'$oid': '68937d2de8cb789dfb8bc0e3'}, 'close': 13.470000267028809, 'timestamp': {'$date': '2025-07-16T16:00:00Z'}}, {'_id': {'$oid': '68937d2de8cb789dfb8bc0e4'}, 'close': 13.479999542236328, 'timestamp': {'$date': '2025-07-17T16:00:00Z'}}, {'_id': {'$oid': '68937d2de8cb789dfb8bc0e5'}, 'close': 13.489999771118164, 'timestamp': {'$date': '2025-07-20T16:00:00Z'}}, {'_id': {'$oid': '68937d2de8cb789dfb8bc0e6'}, 'close': 13.800000190734863, 'timestamp': {'$date': '2025-07-21T16:00:00Z'}}, {'_id': {'$oid': '68937d2de8cb789dfb8bc0e7'}, 'close': 13.539999961853027, 'timestamp': {'$date': '2025-07-22T16:00:00Z'}}, {'_id': {'$oid': '68937d2de8cb789dfb8bc0e8'}, 'close': 14.0600004196167, 'timestamp': {'$date': '2025-07-23T16:00:00Z'}}, {'_id': {'$oid': '68937d2de8cb789dfb8bc0e9'}, 'close': 13.960000038146973, 'timestamp': {'$date': '2025-07-24T16:00:00Z'}}, {'_id': {'$oid': '68937d2de8cb789dfb8bc0ea'}, 'close': 14.5600004196167, 'timestamp': {'$date': '2025-07-27T16:00:00Z'}}, {'_id': {'$oid': '68937d2de8cb789dfb8bc0eb'}, 'close': 14.649999618530273, 'timestamp': {'$date': '2025-07-28T16:00:00Z'}}, {'_id': {'$oid': '68937d2de8cb789dfb8bc0ec'}, 'close': 14.149999618530273, 'timestamp': {'$date': '2025-07-29T16:00:00Z'}}, {'_id': {'$oid': '68937d2de8cb789dfb8bc0ed'}, 'close': 13.75, 'timestamp': {'$date': '2025-07-30T16:00:00Z'}}, {'_id': {'$oid': '68937d2de8cb789dfb8bc0ee'}, 'close': 13.710000038146973, 'timestamp': {'$date': '2025-07-31T16:00:00Z'}}, {'_id': {'$oid': '68937d2de8cb789dfb8bc0ef'}, 'close': 14.479999542236328, 'timestamp': {'$date': '2025-08-03T16:00:00Z'}}, {'_id': {'$oid': '68937d2de8cb789dfb8bc0f0'}, 'close': 15.029999732971191, 'timestamp': {'$date': '2025-08-04T16:00:00Z'}}, {'_id': {'$oid': '68937d2de8cb789dfb8bc0f1'}, 'close': 16.299999237060547, 'timestamp': {'$date': '2025-08-05T16:00:00Z'}}]\n"
          ]
        }
      ]
    },
    {
      "cell_type": "code",
      "source": [
        "import numpy as np\n",
        "import pandas as pd\n",
        "from datetime import datetime\n",
        "from tqdm import tqdm\n",
        "\n",
        "def build_daily_close_array(documents):\n",
        "    # Convert list of dicts to DataFrame\n",
        "    records = []\n",
        "    for doc in documents:\n",
        "        ts_str = doc[\"timestamp\"][\"$date\"]\n",
        "        ts = pd.to_datetime(ts_str).date()\n",
        "        close = doc[\"close\"]\n",
        "        records.append((ts, close))\n",
        "    #print(records)\n",
        "    df = pd.DataFrame(records, columns=[\"timestamp\", \"close\"])\n",
        "    df.set_index(\"timestamp\", inplace=True)\n",
        "\n",
        "    # Create full date range from 2010-01-01 to today\n",
        "    full_range = pd.date_range(start=\"2010-01-01\", end=datetime.today(), freq=\"D\")\n",
        "\n",
        "    # # Reindex to full range, fill missing with NaN\n",
        "    df_full = df.reindex(full_range)\n",
        "    df_full.index.name = \"timestamp\"\n",
        "\n",
        "    # Return as 1D NumPy array\n",
        "    return df_full[\"close\"].to_numpy()\n",
        "    #return df_full\n"
      ],
      "metadata": {
        "id": "wNp5NnPqagkv"
      },
      "execution_count": null,
      "outputs": []
    },
    {
      "cell_type": "code",
      "source": [
        "all_stocks = pd.read_csv(\"/content/sse_stock.csv\")\n",
        "all_stocks= all_stocks[all_stocks[\"Validated\"]==1]"
      ],
      "metadata": {
        "id": "XOKoHUqiBVuM"
      },
      "execution_count": null,
      "outputs": []
    },
    {
      "cell_type": "code",
      "source": [
        "def get_all_stock_data(base_url):\n",
        "  print(\"Only getting 120 stocks for now\")\n",
        "  all_stocks = pd.read_csv(\"/content/sse_stock.csv\")\n",
        "  all_stocks= all_stocks[all_stocks[\"Validated\"]==1]\n",
        "  unique_stocks = all_stocks[\"SSE Code\"].to_list()[:120]\n",
        "  array= np.zeros((pd.date_range(start=\"2010-01-01\", end=datetime.today(), freq=\"D\").shape[0], len(unique_stocks)))\n",
        "  for i, stock in tqdm(enumerate(unique_stocks)):\n",
        "    url = f\"{base_url}/stocks\"\n",
        "    params = {\n",
        "        \"StartDate\": \"2010-01-01\",\n",
        "        \"EndDate\": \"2025-08-07\",\n",
        "        \"Ticker\": stock,\n",
        "        \"Fields\": [\"timestamp\",\"close\"]\n",
        "    }\n",
        "\n",
        "    response = requests.get(url, params=params)\n",
        "\n",
        "    # If the response is JSON\n",
        "    data = response.json()\n",
        "    arr= build_daily_close_array(data)\n",
        "    array[:, i]= arr\n",
        "  return array\n"
      ],
      "metadata": {
        "id": "O25hGeCdvGgB"
      },
      "execution_count": null,
      "outputs": []
    },
    {
      "cell_type": "code",
      "source": [
        "all_stock_data= get_all_stock_data(base_url)"
      ],
      "metadata": {
        "colab": {
          "base_uri": "https://localhost:8080/"
        },
        "id": "NLdkWsM-CPPE",
        "outputId": "10b24747-eb5f-4a6a-c8de-9ad26c485025"
      },
      "execution_count": null,
      "outputs": [
        {
          "output_type": "stream",
          "name": "stdout",
          "text": [
            "Only getting 120 stocks for now\n"
          ]
        },
        {
          "output_type": "stream",
          "name": "stderr",
          "text": [
            "120it [05:20,  2.67s/it]\n"
          ]
        }
      ]
    },
    {
      "cell_type": "code",
      "source": [
        "all_stock_data.shape"
      ],
      "metadata": {
        "colab": {
          "base_uri": "https://localhost:8080/"
        },
        "id": "BRRqxX9NCWzb",
        "outputId": "bd052f6f-b2ec-4da7-901f-37dc32b3a232"
      },
      "execution_count": null,
      "outputs": [
        {
          "output_type": "execute_result",
          "data": {
            "text/plain": [
              "(5698, 120)"
            ]
          },
          "metadata": {},
          "execution_count": 66
        }
      ]
    },
    {
      "cell_type": "code",
      "source": [
        "\n",
        "plt.imshow(all_stock_data[5000:], cmap='viridis', interpolation='nearest')\n",
        "plt.colorbar()  # Add a color bar to show the scale"
      ],
      "metadata": {
        "colab": {
          "base_uri": "https://localhost:8080/",
          "height": 452
        },
        "id": "AMG4JyCZCrbr",
        "outputId": "40a0448e-670d-4af4-9206-c11dc5bfb80c"
      },
      "execution_count": null,
      "outputs": [
        {
          "output_type": "execute_result",
          "data": {
            "text/plain": [
              "<matplotlib.colorbar.Colorbar at 0x79b48a456bd0>"
            ]
          },
          "metadata": {},
          "execution_count": 71
        },
        {
          "output_type": "display_data",
          "data": {
            "text/plain": [
              "<Figure size 640x480 with 2 Axes>"
            ],
            "image/png": "[encoded data removed]"
          },
          "metadata": {}
        }
      ]
    },
    {
      "cell_type": "code",
      "source": [
        "np.savetxt(\"subset.csv\", all_stock_data, delimiter= \",\", fmt= \"%.2f\")"
      ],
      "metadata": {
        "id": "yni6HRcaIC04"
      },
      "execution_count": null,
      "outputs": []
    },
    {
      "cell_type": "markdown",
      "source": [
        "Loading subset"
      ],
      "metadata": {
        "id": "yUlcKhONh32K"
      }
    },
    {
      "cell_type": "code",
      "source": [
        "import numpy as np\n",
        "import pandas as pd\n",
        "from datetime import datetime\n",
        "from tqdm import tqdm\n",
        "import matplotlib.pyplot as plt"
      ],
      "metadata": {
        "id": "9_S3S8A-Qprj"
      },
      "execution_count": null,
      "outputs": []
    },
    {
      "cell_type": "code",
      "source": [
        "all_stock_data = np.genfromtxt(\"subset.csv\",delimiter= \",\",dtype= np.float32, filling_values=np.nan)[2500:]"
      ],
      "metadata": {
        "id": "KsAwxBcbOE3X"
      },
      "execution_count": null,
      "outputs": []
    },
    {
      "cell_type": "code",
      "source": [
        "normalized= (all_stock_data- np.nanmin(all_stock_data, axis=0))/ (np.nanmax(all_stock_data, axis=0)- np.nanmin(all_stock_data, axis=0))"
      ],
      "metadata": {
        "id": "wRyGCUVhIX5s"
      },
      "execution_count": null,
      "outputs": []
    },
    {
      "cell_type": "code",
      "source": [
        "normalized2= np.expand_dims(normalized, axis=1)\n",
        "normalized= np.expand_dims(normalized, axis=2)\n",
        "#(normalized-normalized2).shape"
      ],
      "metadata": {
        "id": "_E804LWiNY_9"
      },
      "execution_count": null,
      "outputs": []
    },
    {
      "cell_type": "code",
      "source": [
        "npd = np.nansum((normalized-normalized2)**2, axis=0)"
      ],
      "metadata": {
        "id": "cqGHL_xiNqoj"
      },
      "execution_count": null,
      "outputs": []
    },
    {
      "cell_type": "code",
      "source": [
        "plt.imshow(npd, cmap='viridis', interpolation='nearest')\n",
        "plt.colorbar()"
      ],
      "metadata": {
        "colab": {
          "base_uri": "https://localhost:8080/",
          "height": 451
        },
        "id": "B25gKU48RgOC",
        "outputId": "27c0bfa6-6445-4736-a355-8fad54fb9103"
      },
      "execution_count": null,
      "outputs": [
        {
          "output_type": "execute_result",
          "data": {
            "text/plain": [
              "<matplotlib.colorbar.Colorbar at 0x7999e6798d50>"
            ]
          },
          "metadata": {},
          "execution_count": 6
        },
        {
          "output_type": "display_data",
          "data": {
            "text/plain": [
              "<Figure size 640x480 with 2 Axes>"
            ],
            "image/png": "[encoded data removed]"
          },
          "metadata": {}
        }
      ]
    },
    {
      "cell_type": "code",
      "source": [
        "#prepare for clustering\n",
        "#from itertools import combinations\n",
        "\n",
        "def prepare_clustering_data(diff_matrix):\n",
        "    n = diff_matrix.shape[0]\n",
        "    assert diff_matrix.shape[1] == n, \"Matrix must be square\"\n",
        "\n",
        "    labels = []\n",
        "    X = []\n",
        "\n",
        "    for i in range(n):\n",
        "        for j in range(i + 1, n):\n",
        "            labels.append((i, j))\n",
        "            X.append(diff_matrix[i, j])\n",
        "\n",
        "    return labels, np.array(X)\n",
        "\n",
        "labels, X= prepare_clustering_data(npd)\n"
      ],
      "metadata": {
        "id": "5YTO5Rm2Udoc"
      },
      "execution_count": null,
      "outputs": []
    },
    {
      "cell_type": "code",
      "source": [
        "\n",
        "\n",
        "from sklearn.cluster import KMeans\n",
        "from sklearn.datasets import make_blobs\n",
        "\n",
        "\n",
        "\n",
        "# Calculate distortions for different numbers of clusters\n",
        "distortions = []\n",
        "K = range(8, 20)  # Test cluster numbers from 1 to 10\n",
        "for k in K:\n",
        "    kmeans = KMeans(n_clusters=k, random_state=42, n_init=10)\n",
        "    kmeans.fit(X.reshape(-1, 1))\n",
        "    distortions.append(kmeans.inertia_)  # Inertia measures within-cluster sum of squares\n",
        "\n",
        "# Plot the Elbow Curve\n",
        "plt.figure(figsize=(8, 5))\n",
        "plt.plot(K, distortions, 'bo-', markersize=8)\n",
        "plt.xlabel('Number of Clusters (k)')\n",
        "plt.ylabel('Distortion (Inertia)')\n",
        "plt.title('Elbow Method for Optimal k')\n",
        "plt.grid(True)\n",
        "plt.show()\n",
        "\n"
      ],
      "metadata": {
        "colab": {
          "base_uri": "https://localhost:8080/",
          "height": 487
        },
        "id": "ZhF2_KlcUEtx",
        "outputId": "a3c8acc7-a5e2-4d9d-9bf7-a622f1630e06"
      },
      "execution_count": null,
      "outputs": [
        {
          "output_type": "display_data",
          "data": {
            "text/plain": [
              "<Figure size 800x500 with 1 Axes>"
            ],
            "image/png": "[encoded data removed]"
          },
          "metadata": {}
        }
      ]
    },
    {
      "cell_type": "code",
      "source": [
        "kmeans = KMeans(n_clusters=13, random_state=42, n_init=10)\n",
        "kmeans.fit(X.reshape(-1, 1))"
      ],
      "metadata": {
        "colab": {
          "base_uri": "https://localhost:8080/",
          "height": 80
        },
        "id": "lctNdHnsYiyN",
        "outputId": "04ea0499-4074-4efd-f2f9-ca012d7dd01f"
      },
      "execution_count": null,
      "outputs": [
        {
          "output_type": "execute_result",
          "data": {
            "text/plain": [
              "KMeans(n_clusters=13, n_init=10, random_state=42)"
            ],
            "text/html": [
              "<style>#sk-container-id-1 {\n",
              "  /* Definition of color scheme common for light and dark mode */\n",
              "  --sklearn-color-text: #000;\n",
              "  --sklearn-color-text-muted: #666;\n",
              "  --sklearn-color-line: gray;\n",
              "  /* Definition of color scheme for unfitted estimators */\n",
              "  --sklearn-color-unfitted-level-0: #fff5e6;\n",
              "  --sklearn-color-unfitted-level-1: #f6e4d2;\n",
              "  --sklearn-color-unfitted-level-2: #ffe0b3;\n",
              "  --sklearn-color-unfitted-level-3: chocolate;\n",
              "  /* Definition of color scheme for fitted estimators */\n",
              "  --sklearn-color-fitted-level-0: #f0f8ff;\n",
              "  --sklearn-color-fitted-level-1: #d4ebff;\n",
              "  --sklearn-color-fitted-level-2: #b3dbfd;\n",
              "  --sklearn-color-fitted-level-3: cornflowerblue;\n",
              "\n",
              "  /* Specific color for light theme */\n",
              "  --sklearn-color-text-on-default-background: var(--sg-text-color, var(--theme-code-foreground, var(--jp-content-font-color1, black)));\n",
              "  --sklearn-color-background: var(--sg-background-color, var(--theme-background, var(--jp-layout-color0, white)));\n",
              "  --sklearn-color-border-box: var(--sg-text-color, var(--theme-code-foreground, var(--jp-content-font-color1, black)));\n",
              "  --sklearn-color-icon: #696969;\n",
              "\n",
              "  @media (prefers-color-scheme: dark) {\n",
              "    /* Redefinition of color scheme for dark theme */\n",
              "    --sklearn-color-text-on-default-background: var(--sg-text-color, var(--theme-code-foreground, var(--jp-content-font-color1, white)));\n",
              "    --sklearn-color-background: var(--sg-background-color, var(--theme-background, var(--jp-layout-color0, #111)));\n",
              "    --sklearn-color-border-box: var(--sg-text-color, var(--theme-code-foreground, var(--jp-content-font-color1, white)));\n",
              "    --sklearn-color-icon: #878787;\n",
              "  }\n",
              "}\n",
              "\n",
              "#sk-container-id-1 {\n",
              "  color: var(--sklearn-color-text);\n",
              "}\n",
              "\n",
              "#sk-container-id-1 pre {\n",
              "  padding: 0;\n",
              "}\n",
              "\n",
              "#sk-container-id-1 input.sk-hidden--visually {\n",
              "  border: 0;\n",
              "  clip: rect(1px 1px 1px 1px);\n",
              "  clip: rect(1px, 1px, 1px, 1px);\n",
              "  height: 1px;\n",
              "  margin: -1px;\n",
              "  overflow: hidden;\n",
              "  padding: 0;\n",
              "  position: absolute;\n",
              "  width: 1px;\n",
              "}\n",
              "\n",
              "#sk-container-id-1 div.sk-dashed-wrapped {\n",
              "  border: 1px dashed var(--sklearn-color-line);\n",
              "  margin: 0 0.4em 0.5em 0.4em;\n",
              "  box-sizing: border-box;\n",
              "  padding-bottom: 0.4em;\n",
              "  background-color: var(--sklearn-color-background);\n",
              "}\n",
              "\n",
              "#sk-container-id-1 div.sk-container {\n",
              "  /* jupyter's `normalize.less` sets `[hidden] { display: none; }`\n",
              "     but bootstrap.min.css set `[hidden] { display: none !important; }`\n",
              "     so we also need the `!important` here to be able to override the\n",
              "     default hidden behavior on the sphinx rendered scikit-learn.org.\n",
              "     See: https://github.com/scikit-learn/scikit-learn/issues/21755 */\n",
              "  display: inline-block !important;\n",
              "  position: relative;\n",
              "}\n",
              "\n",
              "#sk-container-id-1 div.sk-text-repr-fallback {\n",
              "  display: none;\n",
              "}\n",
              "\n",
              "div.sk-parallel-item,\n",
              "div.sk-serial,\n",
              "div.sk-item {\n",
              "  /* draw centered vertical line to link estimators */\n",
              "  background-image: linear-gradient(var(--sklearn-color-text-on-default-background), var(--sklearn-color-text-on-default-background));\n",
              "  background-size: 2px 100%;\n",
              "  background-repeat: no-repeat;\n",
              "  background-position: center center;\n",
              "}\n",
              "\n",
              "/* Parallel-specific style estimator block */\n",
              "\n",
              "#sk-container-id-1 div.sk-parallel-item::after {\n",
              "  content: \"\";\n",
              "  width: 100%;\n",
              "  border-bottom: 2px solid var(--sklearn-color-text-on-default-background);\n",
              "  flex-grow: 1;\n",
              "}\n",
              "\n",
              "#sk-container-id-1 div.sk-parallel {\n",
              "  display: flex;\n",
              "  align-items: stretch;\n",
              "  justify-content: center;\n",
              "  background-color: var(--sklearn-color-background);\n",
              "  position: relative;\n",
              "}\n",
              "\n",
              "#sk-container-id-1 div.sk-parallel-item {\n",
              "  display: flex;\n",
              "  flex-direction: column;\n",
              "}\n",
              "\n",
              "#sk-container-id-1 div.sk-parallel-item:first-child::after {\n",
              "  align-self: flex-end;\n",
              "  width: 50%;\n",
              "}\n",
              "\n",
              "#sk-container-id-1 div.sk-parallel-item:last-child::after {\n",
              "  align-self: flex-start;\n",
              "  width: 50%;\n",
              "}\n",
              "\n",
              "#sk-container-id-1 div.sk-parallel-item:only-child::after {\n",
              "  width: 0;\n",
              "}\n",
              "\n",
              "/* Serial-specific style estimator block */\n",
              "\n",
              "#sk-container-id-1 div.sk-serial {\n",
              "  display: flex;\n",
              "  flex-direction: column;\n",
              "  align-items: center;\n",
              "  background-color: var(--sklearn-color-background);\n",
              "  padding-right: 1em;\n",
              "  padding-left: 1em;\n",
              "}\n",
              "\n",
              "\n",
              "/* Toggleable style: style used for estimator/Pipeline/ColumnTransformer box that is\n",
              "clickable and can be expanded/collapsed.\n",
              "- Pipeline and ColumnTransformer use this feature and define the default style\n",
              "- Estimators will overwrite some part of the style using the `sk-estimator` class\n",
              "*/\n",
              "\n",
              "/* Pipeline and ColumnTransformer style (default) */\n",
              "\n",
              "#sk-container-id-1 div.sk-toggleable {\n",
              "  /* Default theme specific background. It is overwritten whether we have a\n",
              "  specific estimator or a Pipeline/ColumnTransformer */\n",
              "  background-color: var(--sklearn-color-background);\n",
              "}\n",
              "\n",
              "/* Toggleable label */\n",
              "#sk-container-id-1 label.sk-toggleable__label {\n",
              "  cursor: pointer;\n",
              "  display: flex;\n",
              "  width: 100%;\n",
              "  margin-bottom: 0;\n",
              "  padding: 0.5em;\n",
              "  box-sizing: border-box;\n",
              "  text-align: center;\n",
              "  align-items: start;\n",
              "  justify-content: space-between;\n",
              "  gap: 0.5em;\n",
              "}\n",
              "\n",
              "#sk-container-id-1 label.sk-toggleable__label .caption {\n",
              "  font-size: 0.6rem;\n",
              "  font-weight: lighter;\n",
              "  color: var(--sklearn-color-text-muted);\n",
              "}\n",
              "\n",
              "#sk-container-id-1 label.sk-toggleable__label-arrow:before {\n",
              "  /* Arrow on the left of the label */\n",
              "  content: \"▸\";\n",
              "  float: left;\n",
              "  margin-right: 0.25em;\n",
              "  color: var(--sklearn-color-icon);\n",
              "}\n",
              "\n",
              "#sk-container-id-1 label.sk-toggleable__label-arrow:hover:before {\n",
              "  color: var(--sklearn-color-text);\n",
              "}\n",
              "\n",
              "/* Toggleable content - dropdown */\n",
              "\n",
              "#sk-container-id-1 div.sk-toggleable__content {\n",
              "  max-height: 0;\n",
              "  max-width: 0;\n",
              "  overflow: hidden;\n",
              "  text-align: left;\n",
              "  /* unfitted */\n",
              "  background-color: var(--sklearn-color-unfitted-level-0);\n",
              "}\n",
              "\n",
              "#sk-container-id-1 div.sk-toggleable__content.fitted {\n",
              "  /* fitted */\n",
              "  background-color: var(--sklearn-color-fitted-level-0);\n",
              "}\n",
              "\n",
              "#sk-container-id-1 div.sk-toggleable__content pre {\n",
              "  margin: 0.2em;\n",
              "  border-radius: 0.25em;\n",
              "  color: var(--sklearn-color-text);\n",
              "  /* unfitted */\n",
              "  background-color: var(--sklearn-color-unfitted-level-0);\n",
              "}\n",
              "\n",
              "#sk-container-id-1 div.sk-toggleable__content.fitted pre {\n",
              "  /* unfitted */\n",
              "  background-color: var(--sklearn-color-fitted-level-0);\n",
              "}\n",
              "\n",
              "#sk-container-id-1 input.sk-toggleable__control:checked~div.sk-toggleable__content {\n",
              "  /* Expand drop-down */\n",
              "  max-height: 200px;\n",
              "  max-width: 100%;\n",
              "  overflow: auto;\n",
              "}\n",
              "\n",
              "#sk-container-id-1 input.sk-toggleable__control:checked~label.sk-toggleable__label-arrow:before {\n",
              "  content: \"▾\";\n",
              "}\n",
              "\n",
              "/* Pipeline/ColumnTransformer-specific style */\n",
              "\n",
              "#sk-container-id-1 div.sk-label input.sk-toggleable__control:checked~label.sk-toggleable__label {\n",
              "  color: var(--sklearn-color-text);\n",
              "  background-color: var(--sklearn-color-unfitted-level-2);\n",
              "}\n",
              "\n",
              "#sk-container-id-1 div.sk-label.fitted input.sk-toggleable__control:checked~label.sk-toggleable__label {\n",
              "  background-color: var(--sklearn-color-fitted-level-2);\n",
              "}\n",
              "\n",
              "/* Estimator-specific style */\n",
              "\n",
              "/* Colorize estimator box */\n",
              "#sk-container-id-1 div.sk-estimator input.sk-toggleable__control:checked~label.sk-toggleable__label {\n",
              "  /* unfitted */\n",
              "  background-color: var(--sklearn-color-unfitted-level-2);\n",
              "}\n",
              "\n",
              "#sk-container-id-1 div.sk-estimator.fitted input.sk-toggleable__control:checked~label.sk-toggleable__label {\n",
              "  /* fitted */\n",
              "  background-color: var(--sklearn-color-fitted-level-2);\n",
              "}\n",
              "\n",
              "#sk-container-id-1 div.sk-label label.sk-toggleable__label,\n",
              "#sk-container-id-1 div.sk-label label {\n",
              "  /* The background is the default theme color */\n",
              "  color: var(--sklearn-color-text-on-default-background);\n",
              "}\n",
              "\n",
              "/* On hover, darken the color of the background */\n",
              "#sk-container-id-1 div.sk-label:hover label.sk-toggleable__label {\n",
              "  color: var(--sklearn-color-text);\n",
              "  background-color: var(--sklearn-color-unfitted-level-2);\n",
              "}\n",
              "\n",
              "/* Label box, darken color on hover, fitted */\n",
              "#sk-container-id-1 div.sk-label.fitted:hover label.sk-toggleable__label.fitted {\n",
              "  color: var(--sklearn-color-text);\n",
              "  background-color: var(--sklearn-color-fitted-level-2);\n",
              "}\n",
              "\n",
              "/* Estimator label */\n",
              "\n",
              "#sk-container-id-1 div.sk-label label {\n",
              "  font-family: monospace;\n",
              "  font-weight: bold;\n",
              "  display: inline-block;\n",
              "  line-height: 1.2em;\n",
              "}\n",
              "\n",
              "#sk-container-id-1 div.sk-label-container {\n",
              "  text-align: center;\n",
              "}\n",
              "\n",
              "/* Estimator-specific */\n",
              "#sk-container-id-1 div.sk-estimator {\n",
              "  font-family: monospace;\n",
              "  border: 1px dotted var(--sklearn-color-border-box);\n",
              "  border-radius: 0.25em;\n",
              "  box-sizing: border-box;\n",
              "  margin-bottom: 0.5em;\n",
              "  /* unfitted */\n",
              "  background-color: var(--sklearn-color-unfitted-level-0);\n",
              "}\n",
              "\n",
              "#sk-container-id-1 div.sk-estimator.fitted {\n",
              "  /* fitted */\n",
              "  background-color: var(--sklearn-color-fitted-level-0);\n",
              "}\n",
              "\n",
              "/* on hover */\n",
              "#sk-container-id-1 div.sk-estimator:hover {\n",
              "  /* unfitted */\n",
              "  background-color: var(--sklearn-color-unfitted-level-2);\n",
              "}\n",
              "\n",
              "#sk-container-id-1 div.sk-estimator.fitted:hover {\n",
              "  /* fitted */\n",
              "  background-color: var(--sklearn-color-fitted-level-2);\n",
              "}\n",
              "\n",
              "/* Specification for estimator info (e.g. \"i\" and \"?\") */\n",
              "\n",
              "/* Common style for \"i\" and \"?\" */\n",
              "\n",
              ".sk-estimator-doc-link,\n",
              "a:link.sk-estimator-doc-link,\n",
              "a:visited.sk-estimator-doc-link {\n",
              "  float: right;\n",
              "  font-size: smaller;\n",
              "  line-height: 1em;\n",
              "  font-family: monospace;\n",
              "  background-color: var(--sklearn-color-background);\n",
              "  border-radius: 1em;\n",
              "  height: 1em;\n",
              "  width: 1em;\n",
              "  text-decoration: none !important;\n",
              "  margin-left: 0.5em;\n",
              "  text-align: center;\n",
              "  /* unfitted */\n",
              "  border: var(--sklearn-color-unfitted-level-1) 1pt solid;\n",
              "  color: var(--sklearn-color-unfitted-level-1);\n",
              "}\n",
              "\n",
              ".sk-estimator-doc-link.fitted,\n",
              "a:link.sk-estimator-doc-link.fitted,\n",
              "a:visited.sk-estimator-doc-link.fitted {\n",
              "  /* fitted */\n",
              "  border: var(--sklearn-color-fitted-level-1) 1pt solid;\n",
              "  color: var(--sklearn-color-fitted-level-1);\n",
              "}\n",
              "\n",
              "/* On hover */\n",
              "div.sk-estimator:hover .sk-estimator-doc-link:hover,\n",
              ".sk-estimator-doc-link:hover,\n",
              "div.sk-label-container:hover .sk-estimator-doc-link:hover,\n",
              ".sk-estimator-doc-link:hover {\n",
              "  /* unfitted */\n",
              "  background-color: var(--sklearn-color-unfitted-level-3);\n",
              "  color: var(--sklearn-color-background);\n",
              "  text-decoration: none;\n",
              "}\n",
              "\n",
              "div.sk-estimator.fitted:hover .sk-estimator-doc-link.fitted:hover,\n",
              ".sk-estimator-doc-link.fitted:hover,\n",
              "div.sk-label-container:hover .sk-estimator-doc-link.fitted:hover,\n",
              ".sk-estimator-doc-link.fitted:hover {\n",
              "  /* fitted */\n",
              "  background-color: var(--sklearn-color-fitted-level-3);\n",
              "  color: var(--sklearn-color-background);\n",
              "  text-decoration: none;\n",
              "}\n",
              "\n",
              "/* Span, style for the box shown on hovering the info icon */\n",
              ".sk-estimator-doc-link span {\n",
              "  display: none;\n",
              "  z-index: 9999;\n",
              "  position: relative;\n",
              "  font-weight: normal;\n",
              "  right: .2ex;\n",
              "  padding: .5ex;\n",
              "  margin: .5ex;\n",
              "  width: min-content;\n",
              "  min-width: 20ex;\n",
              "  max-width: 50ex;\n",
              "  color: var(--sklearn-color-text);\n",
              "  box-shadow: 2pt 2pt 4pt #999;\n",
              "  /* unfitted */\n",
              "  background: var(--sklearn-color-unfitted-level-0);\n",
              "  border: .5pt solid var(--sklearn-color-unfitted-level-3);\n",
              "}\n",
              "\n",
              ".sk-estimator-doc-link.fitted span {\n",
              "  /* fitted */\n",
              "  background: var(--sklearn-color-fitted-level-0);\n",
              "  border: var(--sklearn-color-fitted-level-3);\n",
              "}\n",
              "\n",
              ".sk-estimator-doc-link:hover span {\n",
              "  display: block;\n",
              "}\n",
              "\n",
              "/* \"?\"-specific style due to the `<a>` HTML tag */\n",
              "\n",
              "#sk-container-id-1 a.estimator_doc_link {\n",
              "  float: right;\n",
              "  font-size: 1rem;\n",
              "  line-height: 1em;\n",
              "  font-family: monospace;\n",
              "  background-color: var(--sklearn-color-background);\n",
              "  border-radius: 1rem;\n",
              "  height: 1rem;\n",
              "  width: 1rem;\n",
              "  text-decoration: none;\n",
              "  /* unfitted */\n",
              "  color: var(--sklearn-color-unfitted-level-1);\n",
              "  border: var(--sklearn-color-unfitted-level-1) 1pt solid;\n",
              "}\n",
              "\n",
              "#sk-container-id-1 a.estimator_doc_link.fitted {\n",
              "  /* fitted */\n",
              "  border: var(--sklearn-color-fitted-level-1) 1pt solid;\n",
              "  color: var(--sklearn-color-fitted-level-1);\n",
              "}\n",
              "\n",
              "/* On hover */\n",
              "#sk-container-id-1 a.estimator_doc_link:hover {\n",
              "  /* unfitted */\n",
              "  background-color: var(--sklearn-color-unfitted-level-3);\n",
              "  color: var(--sklearn-color-background);\n",
              "  text-decoration: none;\n",
              "}\n",
              "\n",
              "#sk-container-id-1 a.estimator_doc_link.fitted:hover {\n",
              "  /* fitted */\n",
              "  background-color: var(--sklearn-color-fitted-level-3);\n",
              "}\n",
              "</style><div id=\"sk-container-id-1\" class=\"sk-top-container\"><div class=\"sk-text-repr-fallback\"><pre>KMeans(n_clusters=13, n_init=10, random_state=42)</pre><b>In a Jupyter environment, please rerun this cell to show the HTML representation or trust the notebook. <br />On GitHub, the HTML representation is unable to render, please try loading this page with nbviewer.org.</b></div><div class=\"sk-container\" hidden><div class=\"sk-item\"><div class=\"sk-estimator fitted sk-toggleable\"><input class=\"sk-toggleable__control sk-hidden--visually\" id=\"sk-estimator-id-1\" type=\"checkbox\" checked><label for=\"sk-estimator-id-1\" class=\"sk-toggleable__label fitted sk-toggleable__label-arrow\"><div><div>KMeans</div></div><div><a class=\"sk-estimator-doc-link fitted\" rel=\"noreferrer\" target=\"_blank\" href=\"https://scikit-learn.org/1.6/modules/generated/sklearn.cluster.KMeans.html\">?<span>Documentation for KMeans</span></a><span class=\"sk-estimator-doc-link fitted\">i<span>Fitted</span></span></div></label><div class=\"sk-toggleable__content fitted\"><pre>KMeans(n_clusters=13, n_init=10, random_state=42)</pre></div> </div></div></div></div>"
            ]
          },
          "metadata": {},
          "execution_count": 9
        }
      ]
    },
    {
      "cell_type": "code",
      "source": [
        "clusters= pd.DataFrame({\"labels\":labels, \"npd\": X, \"cluster\": list(kmeans.predict(X.reshape(-1, 1)))})"
      ],
      "metadata": {
        "id": "QNVisSRmY5KH"
      },
      "execution_count": null,
      "outputs": []
    },
    {
      "cell_type": "code",
      "source": [
        "def get_min_npd_labels_per_cluster(clusters_df):\n",
        "    # Find index of min npd for each cluster\n",
        "    min_indices = clusters_df.groupby(\"cluster\")[\"npd\"].idxmin()\n",
        "\n",
        "    # Extract corresponding rows\n",
        "    return clusters_df.loc[min_indices, [\"labels\", \"npd\", \"cluster\"]]\n",
        "selected_pair = get_min_npd_labels_per_cluster(clusters)"
      ],
      "metadata": {
        "id": "iBxXwV_UZe_G"
      },
      "execution_count": null,
      "outputs": []
    },
    {
      "cell_type": "code",
      "source": [
        "selected_pair"
      ],
      "metadata": {
        "colab": {
          "base_uri": "https://localhost:8080/",
          "height": 457
        },
        "id": "tJIAnNLBaV3v",
        "outputId": "971c1500-3b52-42b9-9053-583fff0338f0"
      },
      "execution_count": null,
      "outputs": [
        {
          "output_type": "execute_result",
          "data": {
            "text/plain": [
              "         labels         npd  cluster\n",
              "6784  (92, 115)  231.884232        0\n",
              "6447   (82, 93)   60.701874        1\n",
              "550     (4, 85)  133.356354        2\n",
              "2097   (19, 27)  275.357788        3\n",
              "42      (0, 43)  396.349762        4\n",
              "3462   (33, 97)   83.971916        5\n",
              "6008  (71, 116)  194.767380        6\n",
              "4799   (51, 57)    5.856598        7\n",
              "273     (2, 39)  330.127594        8\n",
              "1098    (9, 73)   37.718597        9\n",
              "6381  (80, 102)  490.738770       10\n",
              "6044  (72, 105)  107.877403       11\n",
              "2098   (19, 28)  162.143799       12"
            ],
            "text/html": [
              "\n",
              "  <div id=\"df-e9790303-42f5-4ca2-9275-4932b0952633\" class=\"colab-df-container\">\n",
              "    <div>\n",
              "<style scoped>\n",
              "    .dataframe tbody tr th:only-of-type {\n",
              "        vertical-align: middle;\n",
              "    }\n",
              "\n",
              "    .dataframe tbody tr th {\n",
              "        vertical-align: top;\n",
              "    }\n",
              "\n",
              "    .dataframe thead th {\n",
              "        text-align: right;\n",
              "    }\n",
              "</style>\n",
              "<table border=\"1\" class=\"dataframe\">\n",
              "  <thead>\n",
              "    <tr style=\"text-align: right;\">\n",
              "      <th></th>\n",
              "      <th>labels</th>\n",
              "      <th>npd</th>\n",
              "      <th>cluster</th>\n",
              "    </tr>\n",
              "  </thead>\n",
              "  <tbody>\n",
              "    <tr>\n",
              "      <th>6784</th>\n",
              "      <td>(92, 115)</td>\n",
              "      <td>231.884232</td>\n",
              "      <td>0</td>\n",
              "    </tr>\n",
              "    <tr>\n",
              "      <th>6447</th>\n",
              "      <td>(82, 93)</td>\n",
              "      <td>60.701874</td>\n",
              "      <td>1</td>\n",
              "    </tr>\n",
              "    <tr>\n",
              "      <th>550</th>\n",
              "      <td>(4, 85)</td>\n",
              "      <td>133.356354</td>\n",
              "      <td>2</td>\n",
              "    </tr>\n",
              "    <tr>\n",
              "      <th>2097</th>\n",
              "      <td>(19, 27)</td>\n",
              "      <td>275.357788</td>\n",
              "      <td>3</td>\n",
              "    </tr>\n",
              "    <tr>\n",
              "      <th>42</th>\n",
              "      <td>(0, 43)</td>\n",
              "      <td>396.349762</td>\n",
              "      <td>4</td>\n",
              "    </tr>\n",
              "    <tr>\n",
              "      <th>3462</th>\n",
              "      <td>(33, 97)</td>\n",
              "      <td>83.971916</td>\n",
              "      <td>5</td>\n",
              "    </tr>\n",
              "    <tr>\n",
              "      <th>6008</th>\n",
              "      <td>(71, 116)</td>\n",
              "      <td>194.767380</td>\n",
              "      <td>6</td>\n",
              "    </tr>\n",
              "    <tr>\n",
              "      <th>4799</th>\n",
              "      <td>(51, 57)</td>\n",
              "      <td>5.856598</td>\n",
              "      <td>7</td>\n",
              "    </tr>\n",
              "    <tr>\n",
              "      <th>273</th>\n",
              "      <td>(2, 39)</td>\n",
              "      <td>330.127594</td>\n",
              "      <td>8</td>\n",
              "    </tr>\n",
              "    <tr>\n",
              "      <th>1098</th>\n",
              "      <td>(9, 73)</td>\n",
              "      <td>37.718597</td>\n",
              "      <td>9</td>\n",
              "    </tr>\n",
              "    <tr>\n",
              "      <th>6381</th>\n",
              "      <td>(80, 102)</td>\n",
              "      <td>490.738770</td>\n",
              "      <td>10</td>\n",
              "    </tr>\n",
              "    <tr>\n",
              "      <th>6044</th>\n",
              "      <td>(72, 105)</td>\n",
              "      <td>107.877403</td>\n",
              "      <td>11</td>\n",
              "    </tr>\n",
              "    <tr>\n",
              "      <th>2098</th>\n",
              "      <td>(19, 28)</td>\n",
              "      <td>162.143799</td>\n",
              "      <td>12</td>\n",
              "    </tr>\n",
              "  </tbody>\n",
              "</table>\n",
              "</div>\n",
              "    <div class=\"colab-df-buttons\">\n",
              "\n",
              "  <div class=\"colab-df-container\">\n",
              "    <button class=\"colab-df-convert\" onclick=\"convertToInteractive('df-e9790303-42f5-4ca2-9275-4932b0952633')\"\n",
              "            title=\"Convert this dataframe to an interactive table.\"\n",
              "            style=\"display:none;\">\n",
              "\n",
              "  <svg xmlns=\"http://www.w3.org/2000/svg\" height=\"24px\" viewBox=\"0 -960 960 960\">\n",
              "    <path d=\"M120-120v-720h720v720H120Zm60-500h600v-160H180v160Zm220 220h160v-160H400v160Zm0 220h160v-160H400v160ZM180-400h160v-160H180v160Zm440 0h160v-160H620v160ZM180-180h160v-160H180v160Zm440 0h160v-160H620v160Z\"/>\n",
              "  </svg>\n",
              "    </button>\n",
              "\n",
              "  <style>\n",
              "    .colab-df-container {\n",
              "      display:flex;\n",
              "      gap: 12px;\n",
              "    }\n",
              "\n",
              "    .colab-df-convert {\n",
              "      background-color: #E8F0FE;\n",
              "      border: none;\n",
              "      border-radius: 50%;\n",
              "      cursor: pointer;\n",
              "      display: none;\n",
              "      fill: #1967D2;\n",
              "      height: 32px;\n",
              "      padding: 0 0 0 0;\n",
              "      width: 32px;\n",
              "    }\n",
              "\n",
              "    .colab-df-convert:hover {\n",
              "      background-color: #E2EBFA;\n",
              "      box-shadow: 0px 1px 2px rgba(60, 64, 67, 0.3), 0px 1px 3px 1px rgba(60, 64, 67, 0.15);\n",
              "      fill: #174EA6;\n",
              "    }\n",
              "\n",
              "    .colab-df-buttons div {\n",
              "      margin-bottom: 4px;\n",
              "    }\n",
              "\n",
              "    [theme=dark] .colab-df-convert {\n",
              "      background-color: #3B4455;\n",
              "      fill: #D2E3FC;\n",
              "    }\n",
              "\n",
              "    [theme=dark] .colab-df-convert:hover {\n",
              "      background-color: #434B5C;\n",
              "      box-shadow: 0px 1px 3px 1px rgba(0, 0, 0, 0.15);\n",
              "      filter: drop-shadow(0px 1px 2px rgba(0, 0, 0, 0.3));\n",
              "      fill: #FFFFFF;\n",
              "    }\n",
              "  </style>\n",
              "\n",
              "    <script>\n",
              "      const buttonEl =\n",
              "        document.querySelector('#df-e9790303-42f5-4ca2-9275-4932b0952633 button.colab-df-convert');\n",
              "      buttonEl.style.display =\n",
              "        google.colab.kernel.accessAllowed ? 'block' : 'none';\n",
              "\n",
              "      async function convertToInteractive(key) {\n",
              "        const element = document.querySelector('#df-e9790303-42f5-4ca2-9275-4932b0952633');\n",
              "        const dataTable =\n",
              "          await google.colab.kernel.invokeFunction('convertToInteractive',\n",
              "                                                    [key], {});\n",
              "        if (!dataTable) return;\n",
              "\n",
              "        const docLinkHtml = 'Like what you see? Visit the ' +\n",
              "          '<a target=\"_blank\" href=https://colab.research.google.com/notebooks/data_table.ipynb>data table notebook</a>'\n",
              "          + ' to learn more about interactive tables.';\n",
              "        element.innerHTML = '';\n",
              "        dataTable['output_type'] = 'display_data';\n",
              "        await google.colab.output.renderOutput(dataTable, element);\n",
              "        const docLink = document.createElement('div');\n",
              "        docLink.innerHTML = docLinkHtml;\n",
              "        element.appendChild(docLink);\n",
              "      }\n",
              "    </script>\n",
              "  </div>\n",
              "\n",
              "\n",
              "    <div id=\"df-e13d79eb-eebe-4f42-a53e-f9a796124255\">\n",
              "      <button class=\"colab-df-quickchart\" onclick=\"quickchart('df-e13d79eb-eebe-4f42-a53e-f9a796124255')\"\n",
              "                title=\"Suggest charts\"\n",
              "                style=\"display:none;\">\n",
              "\n",
              "<svg xmlns=\"http://www.w3.org/2000/svg\" height=\"24px\"viewBox=\"0 0 24 24\"\n",
              "     width=\"24px\">\n",
              "    <g>\n",
              "        <path d=\"M19 3H5c-1.1 0-2 .9-2 2v14c0 1.1.9 2 2 2h14c1.1 0 2-.9 2-2V5c0-1.1-.9-2-2-2zM9 17H7v-7h2v7zm4 0h-2V7h2v10zm4 0h-2v-4h2v4z\"/>\n",
              "    </g>\n",
              "</svg>\n",
              "      </button>\n",
              "\n",
              "<style>\n",
              "  .colab-df-quickchart {\n",
              "      --bg-color: #E8F0FE;\n",
              "      --fill-color: #1967D2;\n",
              "      --hover-bg-color: #E2EBFA;\n",
              "      --hover-fill-color: #174EA6;\n",
              "      --disabled-fill-color: #AAA;\n",
              "      --disabled-bg-color: #DDD;\n",
              "  }\n",
              "\n",
              "  [theme=dark] .colab-df-quickchart {\n",
              "      --bg-color: #3B4455;\n",
              "      --fill-color: #D2E3FC;\n",
              "      --hover-bg-color: #434B5C;\n",
              "      --hover-fill-color: #FFFFFF;\n",
              "      --disabled-bg-color: #3B4455;\n",
              "      --disabled-fill-color: #666;\n",
              "  }\n",
              "\n",
              "  .colab-df-quickchart {\n",
              "    background-color: var(--bg-color);\n",
              "    border: none;\n",
              "    border-radius: 50%;\n",
              "    cursor: pointer;\n",
              "    display: none;\n",
              "    fill: var(--fill-color);\n",
              "    height: 32px;\n",
              "    padding: 0;\n",
              "    width: 32px;\n",
              "  }\n",
              "\n",
              "  .colab-df-quickchart:hover {\n",
              "    background-color: var(--hover-bg-color);\n",
              "    box-shadow: 0 1px 2px rgba(60, 64, 67, 0.3), 0 1px 3px 1px rgba(60, 64, 67, 0.15);\n",
              "    fill: var(--button-hover-fill-color);\n",
              "  }\n",
              "\n",
              "  .colab-df-quickchart-complete:disabled,\n",
              "  .colab-df-quickchart-complete:disabled:hover {\n",
              "    background-color: var(--disabled-bg-color);\n",
              "    fill: var(--disabled-fill-color);\n",
              "    box-shadow: none;\n",
              "  }\n",
              "\n",
              "  .colab-df-spinner {\n",
              "    border: 2px solid var(--fill-color);\n",
              "    border-color: transparent;\n",
              "    border-bottom-color: var(--fill-color);\n",
              "    animation:\n",
              "      spin 1s steps(1) infinite;\n",
              "  }\n",
              "\n",
              "  @keyframes spin {\n",
              "    0% {\n",
              "      border-color: transparent;\n",
              "      border-bottom-color: var(--fill-color);\n",
              "      border-left-color: var(--fill-color);\n",
              "    }\n",
              "    20% {\n",
              "      border-color: transparent;\n",
              "      border-left-color: var(--fill-color);\n",
              "      border-top-color: var(--fill-color);\n",
              "    }\n",
              "    30% {\n",
              "      border-color: transparent;\n",
              "      border-left-color: var(--fill-color);\n",
              "      border-top-color: var(--fill-color);\n",
              "      border-right-color: var(--fill-color);\n",
              "    }\n",
              "    40% {\n",
              "      border-color: transparent;\n",
              "      border-right-color: var(--fill-color);\n",
              "      border-top-color: var(--fill-color);\n",
              "    }\n",
              "    60% {\n",
              "      border-color: transparent;\n",
              "      border-right-color: var(--fill-color);\n",
              "    }\n",
              "    80% {\n",
              "      border-color: transparent;\n",
              "      border-right-color: var(--fill-color);\n",
              "      border-bottom-color: var(--fill-color);\n",
              "    }\n",
              "    90% {\n",
              "      border-color: transparent;\n",
              "      border-bottom-color: var(--fill-color);\n",
              "    }\n",
              "  }\n",
              "</style>\n",
              "\n",
              "      <script>\n",
              "        async function quickchart(key) {\n",
              "          const quickchartButtonEl =\n",
              "            document.querySelector('#' + key + ' button');\n",
              "          quickchartButtonEl.disabled = true;  // To prevent multiple clicks.\n",
              "          quickchartButtonEl.classList.add('colab-df-spinner');\n",
              "          try {\n",
              "            const charts = await google.colab.kernel.invokeFunction(\n",
              "                'suggestCharts', [key], {});\n",
              "          } catch (error) {\n",
              "            console.error('Error during call to suggestCharts:', error);\n",
              "          }\n",
              "          quickchartButtonEl.classList.remove('colab-df-spinner');\n",
              "          quickchartButtonEl.classList.add('colab-df-quickchart-complete');\n",
              "        }\n",
              "        (() => {\n",
              "          let quickchartButtonEl =\n",
              "            document.querySelector('#df-e13d79eb-eebe-4f42-a53e-f9a796124255 button');\n",
              "          quickchartButtonEl.style.display =\n",
              "            google.colab.kernel.accessAllowed ? 'block' : 'none';\n",
              "        })();\n",
              "      </script>\n",
              "    </div>\n",
              "    </div>\n",
              "  </div>\n"
            ],
            "application/vnd.google.colaboratory.intrinsic+json": {
              "type": "dataframe",
              "variable_name": "selected_pair",
              "summary": "{\n  \"name\": \"selected_pair\",\n  \"rows\": 13,\n  \"fields\": [\n    {\n      \"column\": \"labels\",\n      \"properties\": {\n        \"dtype\": \"string\",\n        \"num_unique_values\": 13,\n        \"samples\": [\n          [\n            72,\n            105\n          ],\n          [\n            9,\n            73\n          ],\n          [\n            92,\n            115\n          ]\n        ],\n        \"semantic_type\": \"\",\n        \"description\": \"\"\n      }\n    },\n    {\n      \"column\": \"npd\",\n      \"properties\": {\n        \"dtype\": \"float32\",\n        \"num_unique_values\": 13,\n        \"samples\": [\n          107.87740325927734,\n          37.718597412109375,\n          231.8842315673828\n        ],\n        \"semantic_type\": \"\",\n        \"description\": \"\"\n      }\n    },\n    {\n      \"column\": \"cluster\",\n      \"properties\": {\n        \"dtype\": \"int32\",\n        \"num_unique_values\": 13,\n        \"samples\": [\n          11,\n          9,\n          0\n        ],\n        \"semantic_type\": \"\",\n        \"description\": \"\"\n      }\n    }\n  ]\n}"
            }
          },
          "metadata": {},
          "execution_count": 38
        }
      ]
    },
    {
      "cell_type": "code",
      "source": [
        "import statsmodels.api as sm\n",
        "from sklearn.linear_model import LinearRegression\n",
        "from statsmodels.regression.rolling import RollingOLS\n",
        "\n"
      ],
      "metadata": {
        "id": "J4YeH8i4mDwU"
      },
      "execution_count": null,
      "outputs": []
    },
    {
      "cell_type": "code",
      "source": [
        "def test_cointegration(selected_df):\n",
        "  for index, row in selected_df.iterrows():\n",
        "    pairs= row[\"labels\"]\n",
        "    y1= normalized[:, pairs[0]].squeeze()\n",
        "    y2= normalized[:, pairs[1]].squeeze()\n",
        "    tmp = pd.DataFrame({\"stock1\":y1, \"stock2\":y2})\n",
        "    clean_array = tmp.dropna().to_numpy()\n",
        "    #print(clean_array.shape)\n",
        "    results= sm.tsa.stattools.coint(clean_array[:,0], clean_array[:,1], trend='c', method='aeg', maxlag=None, autolag='aic', return_results=None)\n",
        "    print(pairs)\n",
        "    print(results)\n",
        "\n",
        "test_cointegration(selected_pair)"
      ],
      "metadata": {
        "colab": {
          "base_uri": "https://localhost:8080/"
        },
        "id": "VWjpn4lBefds",
        "outputId": "4e68bcb6-6270-435f-b062-aebcdd15af34"
      },
      "execution_count": null,
      "outputs": [
        {
          "output_type": "stream",
          "name": "stdout",
          "text": [
            "(92, 115)\n",
            "(np.float64(-3.0526009232813225), np.float64(0.0982252355123654), array([-3.90160369, -3.33900821, -3.0464474 ]))\n",
            "(82, 93)\n",
            "(np.float64(-3.474768446431845), np.float64(0.03469862120840609), array([-3.90160369, -3.33900821, -3.0464474 ]))\n",
            "(4, 85)\n",
            "(np.float64(-3.0834822224689105), np.float64(0.09166879048503879), array([-3.90669509, -3.34184099, -3.04841241]))\n",
            "(19, 27)\n",
            "(np.float64(-2.7751734250544366), np.float64(0.17371190949279192), array([-3.90160369, -3.33900821, -3.0464474 ]))\n",
            "(0, 43)\n",
            "(np.float64(-1.9205553814931877), np.float64(0.5695461657707837), array([-3.90175918, -3.3390948 , -3.04650748]))\n",
            "(33, 97)\n",
            "(np.float64(-1.3232111014935144), np.float64(0.8226218892829934), array([-3.90463173, -3.34069358, -3.04761659]))\n",
            "(71, 116)\n",
            "(np.float64(1.251682494851904), 1.0, array([-3.9017386 , -3.33908333, -3.04649952]))\n",
            "(51, 57)\n",
            "(np.float64(-2.4886837568367444), np.float64(0.2840825152286612), array([-3.90839689, -3.34278672, -3.04906824]))\n",
            "(2, 39)\n",
            "(np.float64(-2.064829185766777), np.float64(0.49475792030475774), array([-3.90160369, -3.33900821, -3.0464474 ]))\n",
            "(9, 73)\n",
            "(np.float64(-5.140366534934905), np.float64(9.013443753158636e-05), array([-3.90614099, -3.34153294, -3.04819877]))\n",
            "(80, 102)\n",
            "(np.float64(4.658472223458523), 1.0, array([-3.90297087, -3.33976938, -3.04697549]))\n",
            "(72, 105)\n",
            "(np.float64(-1.0730279460097518), np.float64(0.8880984877529456), array([-3.90623644, -3.34158601, -3.04823557]))\n",
            "(19, 28)\n",
            "(np.float64(-2.594858993848035), np.float64(0.23890716900904635), array([-3.90280389, -3.33967644, -3.04691101]))\n"
          ]
        }
      ]
    },
    {
      "cell_type": "markdown",
      "source": [
        "Pipeline"
      ],
      "metadata": {
        "id": "XLq29LRUygeX"
      }
    },
    {
      "cell_type": "code",
      "source": [
        "def get_clean_data(stock1idx, stock2idx):\n",
        "  y1= normalized[:, stock1idx].squeeze()\n",
        "  y2= normalized[:, stock2idx].squeeze()\n",
        "  tmp = pd.DataFrame({\"stock1\":y1, \"stock2\":y2})\n",
        "  clean_array = tmp.dropna().to_numpy()\n",
        "  return clean_array[:,0], clean_array[:,1]\n",
        "\n",
        "# mr_spy_iwm.py\n",
        "\n",
        "def calculate_spread_zscore(pairs, symbols, lookback=100):\n",
        "    \"\"\"\n",
        "    Creates a hedge ratio between the two symbols by calculating\n",
        "    a rolling linear regression with a defined lookback period. This\n",
        "    is then used to create a z-score of the 'spread' between the two\n",
        "    symbols based on a linear combination of the two.\n",
        "\n",
        "    Parameters\n",
        "    ----------\n",
        "    pairs : `pd.DataFrame`\n",
        "        A DataFrame containing Close price for SPY and IWM. Index is a\n",
        "        Datetime object.\n",
        "    symbols : `tup`\n",
        "        Tuple containing ticker symbols as `str`.\n",
        "    lookback : `int`, optional (default: 100)\n",
        "        Lookback preiod for rolling linear regression.\n",
        "\n",
        "    Returns\n",
        "    -------\n",
        "    pairs : 'pd.DataFrame'\n",
        "        Updated DataFrame containing the spread and z score between\n",
        "        the two symbols based on the rolling linear regression.\n",
        "    \"\"\"\n",
        "\n",
        "    def adaptive_zscore(series, window):\n",
        "      zscores = []\n",
        "      for i in range(len(series)):\n",
        "          if i == 0:\n",
        "              zscores.append(0)  # First value is always 0\n",
        "          else:\n",
        "              start = max(0, i - window)\n",
        "              data_window = series[start:i]  # up to but not including i\n",
        "              mean = data_window.mean()\n",
        "              std = data_window.std(ddof=0)\n",
        "              z = (series[i] - mean) / std if std != 0 else 0\n",
        "              zscores.append(z)\n",
        "      return pd.Series(zscores, index=series.index)\n",
        "\n",
        "    # Use the statsmodels Rolling Ordinary Least Squares method to fit\n",
        "    # a rolling linear regression between the two closing price time series\n",
        "    print(\"Fitting the rolling Linear Regression...\")\n",
        "\n",
        "    model = RollingOLS(\n",
        "        endog=pairs[symbols[0]],\n",
        "        exog=sm.add_constant(pairs[symbols[1]]),\n",
        "        window=lookback,\n",
        "        expanding=True\n",
        "    )\n",
        "    rres = model.fit()\n",
        "    params = rres.params.copy()\n",
        "\n",
        "\n",
        "    # Construct the hedge ratio and eliminate the first\n",
        "    # lookback-length empty/NaN period\n",
        "    pairs['hedge_ratio'] = params[symbols[1]]\n",
        "    pairs.dropna(inplace=True)\n",
        "\n",
        "    # Create the spread and then a z-score of the spread\n",
        "    print(\"Creating the spread/zscore columns...\")\n",
        "    pairs['spread'] = (\n",
        "        pairs[symbols[0]] - pairs['hedge_ratio']*pairs[symbols[1]]\n",
        "    )\n",
        "    expanding_df = pairs.expanding()\n",
        "    pairs['zscore'] = adaptive_zscore(pairs[\"spread\"], lookback)\n",
        "    pairs.loc[pairs.index[0], \"zscore\"]=0\n",
        "    return pairs\n",
        "\n",
        "# mr_spy_iwm.py\n",
        "\n",
        "def create_long_short_market_signals(\n",
        "        pairs, z_entry_threshold=2.0, z_exit_threshold=1.0\n",
        "    ):\n",
        "    \"\"\"\n",
        "    Create the entry/exit signals based on the exceeding of z_entry_threshold\n",
        "    for entering a position and falling below z_exit_threshold for exiting\n",
        "    a position.\n",
        "\n",
        "    Parameters\n",
        "    ----------\n",
        "    pairs : `pd.DataFrame`\n",
        "        Updated DataFrame containing the close price, spread and z score\n",
        "        between the two symbols.\n",
        "    z_entry_threshold : `float`, optional (default:2.0)\n",
        "        Z Score threshold for market entry.\n",
        "    z_exit_threshold : `float`, optional (default:1.0)\n",
        "        Z Score threshold for market exit.\n",
        "\n",
        "    Returns\n",
        "    -------\n",
        "    pairs : `pd.DataFrame`\n",
        "        Updated DataFrame containing long, short and exit signals.\n",
        "    \"\"\"\n",
        "\n",
        "    # Calculate when to be long, short and when to exit\n",
        "    pairs['longs'] = (pairs['zscore'] <= -z_entry_threshold)*1.0\n",
        "    pairs['shorts'] = (pairs['zscore'] >= z_entry_threshold)*1.0\n",
        "    pairs['exits'] = (np.abs(pairs['zscore']) <= z_exit_threshold)*1.0\n",
        "\n",
        "    # These signals are needed because we need to propagate a\n",
        "    # position forward, i.e. we need to stay long if the zscore\n",
        "    # threshold is less than z_entry_threshold by still greater\n",
        "    # than z_exit_threshold, and vice versa for shorts.\n",
        "    pairs['long_market'] = 0.0\n",
        "    pairs['short_market'] = 0.0\n",
        "\n",
        "    # These variables track whether to be long or short while\n",
        "    # iterating through the bars\n",
        "    long_market = 0\n",
        "    short_market = 0\n",
        "\n",
        "    # Calculates when to actually be \"in\" the market, i.e. to have a\n",
        "    # long or short position, as well as when not to be.\n",
        "    # Since this is using iterrows to loop over a dataframe, it will\n",
        "    # be significantly less efficient than a vectorised operation,\n",
        "    # i.e. slow!\n",
        "    print(\"Calculating when to be in the market (long and short)...\")\n",
        "    for i, b in enumerate(pairs.iterrows()):\n",
        "        # Calculate longs\n",
        "        if b[1]['longs'] == 1.0:\n",
        "            long_market = 1\n",
        "        # Calculate shorts\n",
        "        if b[1]['shorts'] == 1.0:\n",
        "            short_market = 1\n",
        "        # Calculate exists\n",
        "        if b[1]['exits'] == 1.0:\n",
        "            long_market = 0\n",
        "            short_market = 0\n",
        "        # This directly assigns a 1 or 0 to the long_market/short_market\n",
        "        # columns, such that the strategy knows when to actually stay in!\n",
        "        pairs.at[pairs.index[i], 'long_market'] = long_market\n",
        "        pairs.at[pairs.index[i], 'short_market'] = short_market\n",
        "\n",
        "    return pairs\n",
        "\n",
        "# mr_spy_iwm.py\n",
        "\n",
        "def create_portfolio_returns(pairs, symbols):\n",
        "    \"\"\"\n",
        "    Creates a portfolio pandas DataFrame which keeps track of\n",
        "    the account equity and ultimately generates an equity curve.\n",
        "    This can be used to generate drawdown and risk/reward ratios.\n",
        "\n",
        "    Parameters\n",
        "    ----------\n",
        "    pairs : `pd.DataFrame`\n",
        "        Updated DataFrame containing the close price, spread and z score\n",
        "        between the two symbols and the long, short and exit signals.\n",
        "    symbols : `tup`\n",
        "        Tuple containing ticker symbols as `str`.\n",
        "\n",
        "    Returns\n",
        "    -------\n",
        "    portfolio : 'pd.DataFrame'\n",
        "        A DataFrame with datetime index from the pairs DataFrame, positions,\n",
        "        total market value and returns.\n",
        "    \"\"\"\n",
        "\n",
        "    # Convenience variables for symbols\n",
        "\n",
        "    # Construct the portfolio object with positions information\n",
        "    # Note the minuses to keep track of shorts!\n",
        "    print(\"Constructing a portfolio...\")\n",
        "    portfolio = pd.DataFrame(index=pairs.index)\n",
        "    portfolio['positions'] = pairs['long_market'] - pairs['short_market']\n",
        "    portfolio[symbols[0]] = portfolio['positions'] * 1.0 * pairs[symbols[0]]\n",
        "    portfolio[symbols[1]] = portfolio['positions'] * (-pairs['hedge_ratio']) * pairs[symbols[1]]\n",
        "\n",
        "    portfolio['total'] = portfolio[symbols[0]] + portfolio[symbols[1]]\n",
        "\n",
        "    # Construct a percentage returns stream and eliminate all\n",
        "    # of the NaN and -inf/+inf cells\n",
        "    entry_spread = None\n",
        "    position = 0  # 1 for long, -1 for short, 0 for no position\n",
        "    rewards = []\n",
        "\n",
        "    for i in range(len(pairs)):\n",
        "        current_spread = pairs['spread'].iloc[i]\n",
        "        long_signal = pairs['long_market'].iloc[i]\n",
        "        short_signal = pairs['short_market'].iloc[i]\n",
        "\n",
        "        # Entry\n",
        "        if position == 0:\n",
        "            if long_signal == 1:\n",
        "                position = 1\n",
        "                entry_spread = current_spread\n",
        "            elif short_signal == 1:\n",
        "                position = -1\n",
        "                entry_spread = current_spread\n",
        "            rewards.append(0.0)\n",
        "\n",
        "        # Exit\n",
        "        elif (long_signal == 0 and position == 1) or (short_signal == 0 and position == -1):\n",
        "            reward = (entry_spread - current_spread) * position\n",
        "            rewards.append(reward)\n",
        "            position = 0\n",
        "            entry_spread = None\n",
        "\n",
        "        # Hold\n",
        "        else:\n",
        "            rewards.append(0.0)\n",
        "\n",
        "    portfolio['reward'] = rewards\n",
        "\n",
        "    portfolio['cumulative_reward'] = pd.Series(rewards).cumsum().values\n",
        "\n",
        "    return portfolio\n",
        "\n",
        "\n"
      ],
      "metadata": {
        "id": "Ffv-XX2OylOV"
      },
      "execution_count": null,
      "outputs": []
    },
    {
      "cell_type": "code",
      "source": [
        "s9, s73= get_clean_data(9, 73)\n",
        "pair = pd.DataFrame({\"stock1\":s9 , \"stock2\":s73})\n",
        "pair= calculate_spread_zscore(pair, (\"stock1\", \"stock2\"), lookback=100)\n",
        "pair= create_long_short_market_signals(pair, z_entry_threshold=1.5, z_exit_threshold= 0.5).copy()\n",
        "port= create_portfolio_returns(pair, (\"stock1\", \"stock2\"))"
      ],
      "metadata": {
        "colab": {
          "base_uri": "https://localhost:8080/"
        },
        "id": "SSpJckOs2crt",
        "outputId": "d5f2ea2c-6184-4c8c-85f5-6ed813742ad5"
      },
      "execution_count": null,
      "outputs": [
        {
          "output_type": "stream",
          "name": "stdout",
          "text": [
            "Fitting the rolling Linear Regression...\n"
          ]
        },
        {
          "output_type": "stream",
          "name": "stderr",
          "text": [
            "/usr/local/lib/python3.11/dist-packages/statsmodels/regression/rolling.py:255: RuntimeWarning: divide by zero encountered in scalar divide\n",
            "  s2 = ssr / (nobs - tot_params)\n"
          ]
        },
        {
          "output_type": "stream",
          "name": "stdout",
          "text": [
            "Creating the spread/zscore columns...\n",
            "Calculating when to be in the market (long and short)...\n",
            "Constructing a portfolio...\n"
          ]
        }
      ]
    },
    {
      "cell_type": "code",
      "source": [
        "import pandas as pd\n",
        "\n",
        "# Define parameter grids\n",
        "lookbacks = [50, 100, 150]\n",
        "entry_thresholds = [1.0, 1.5, 2.0]\n",
        "exit_thresholds = [0.5, 1.0]\n",
        "\n",
        "results = []\n",
        "s9, s73 = get_clean_data(9, 73)\n",
        "\n",
        "for lookback in lookbacks:\n",
        "    for entry in entry_thresholds:\n",
        "        for exit in exit_thresholds:\n",
        "            # Prepare data\n",
        "            pair = pd.DataFrame({\"stock1\": s9, \"stock2\": s73})\n",
        "            pair = calculate_spread_zscore(pair, (\"stock1\", \"stock2\"), lookback=lookback)\n",
        "            pair = create_long_short_market_signals(pair, z_entry_threshold=entry, z_exit_threshold=exit).copy()\n",
        "            port = create_portfolio_returns(pair, (\"stock1\", \"stock2\"))\n",
        "\n",
        "            # Store result\n",
        "            final_reward = port['cumulative_reward'].iloc[-1]\n",
        "            results.append({\n",
        "                \"lookback\": lookback,\n",
        "                \"entry_threshold\": entry,\n",
        "                \"exit_threshold\": exit,\n",
        "                \"final_cumulative_reward\": final_reward\n",
        "            })\n",
        "\n",
        "# Convert to DataFrame for analysis\n",
        "grid_results = pd.DataFrame(results)\n",
        "print(grid_results.sort_values(by=\"final_cumulative_reward\", ascending=False))\n",
        "\n"
      ],
      "metadata": {
        "colab": {
          "base_uri": "https://localhost:8080/"
        },
        "id": "Wk8QicxiyrJa",
        "outputId": "2b282da9-4fa8-40e1-acea-315cb2f9cf6d"
      },
      "execution_count": null,
      "outputs": [
        {
          "output_type": "stream",
          "name": "stdout",
          "text": [
            "Fitting the rolling Linear Regression...\n",
            "Creating the spread/zscore columns...\n"
          ]
        },
        {
          "output_type": "stream",
          "name": "stderr",
          "text": [
            "/usr/local/lib/python3.11/dist-packages/statsmodels/regression/rolling.py:255: RuntimeWarning: divide by zero encountered in scalar divide\n",
            "  s2 = ssr / (nobs - tot_params)\n"
          ]
        },
        {
          "output_type": "stream",
          "name": "stdout",
          "text": [
            "Calculating when to be in the market (long and short)...\n",
            "Constructing a portfolio...\n",
            "Fitting the rolling Linear Regression...\n"
          ]
        },
        {
          "output_type": "stream",
          "name": "stderr",
          "text": [
            "/usr/local/lib/python3.11/dist-packages/statsmodels/regression/rolling.py:255: RuntimeWarning: divide by zero encountered in scalar divide\n",
            "  s2 = ssr / (nobs - tot_params)\n"
          ]
        },
        {
          "output_type": "stream",
          "name": "stdout",
          "text": [
            "Creating the spread/zscore columns...\n",
            "Calculating when to be in the market (long and short)...\n",
            "Constructing a portfolio...\n",
            "Fitting the rolling Linear Regression...\n",
            "Creating the spread/zscore columns...\n"
          ]
        },
        {
          "output_type": "stream",
          "name": "stderr",
          "text": [
            "/usr/local/lib/python3.11/dist-packages/statsmodels/regression/rolling.py:255: RuntimeWarning: divide by zero encountered in scalar divide\n",
            "  s2 = ssr / (nobs - tot_params)\n"
          ]
        },
        {
          "output_type": "stream",
          "name": "stdout",
          "text": [
            "Calculating when to be in the market (long and short)...\n",
            "Constructing a portfolio...\n",
            "Fitting the rolling Linear Regression...\n"
          ]
        },
        {
          "output_type": "stream",
          "name": "stderr",
          "text": [
            "/usr/local/lib/python3.11/dist-packages/statsmodels/regression/rolling.py:255: RuntimeWarning: divide by zero encountered in scalar divide\n",
            "  s2 = ssr / (nobs - tot_params)\n"
          ]
        },
        {
          "output_type": "stream",
          "name": "stdout",
          "text": [
            "Creating the spread/zscore columns...\n",
            "Calculating when to be in the market (long and short)...\n",
            "Constructing a portfolio...\n",
            "Fitting the rolling Linear Regression...\n",
            "Creating the spread/zscore columns...\n"
          ]
        },
        {
          "output_type": "stream",
          "name": "stderr",
          "text": [
            "/usr/local/lib/python3.11/dist-packages/statsmodels/regression/rolling.py:255: RuntimeWarning: divide by zero encountered in scalar divide\n",
            "  s2 = ssr / (nobs - tot_params)\n"
          ]
        },
        {
          "output_type": "stream",
          "name": "stdout",
          "text": [
            "Calculating when to be in the market (long and short)...\n",
            "Constructing a portfolio...\n",
            "Fitting the rolling Linear Regression...\n"
          ]
        },
        {
          "output_type": "stream",
          "name": "stderr",
          "text": [
            "/usr/local/lib/python3.11/dist-packages/statsmodels/regression/rolling.py:255: RuntimeWarning: divide by zero encountered in scalar divide\n",
            "  s2 = ssr / (nobs - tot_params)\n"
          ]
        },
        {
          "output_type": "stream",
          "name": "stdout",
          "text": [
            "Creating the spread/zscore columns...\n",
            "Calculating when to be in the market (long and short)...\n",
            "Constructing a portfolio...\n",
            "Fitting the rolling Linear Regression...\n"
          ]
        },
        {
          "output_type": "stream",
          "name": "stderr",
          "text": [
            "/usr/local/lib/python3.11/dist-packages/statsmodels/regression/rolling.py:255: RuntimeWarning: divide by zero encountered in scalar divide\n",
            "  s2 = ssr / (nobs - tot_params)\n"
          ]
        },
        {
          "output_type": "stream",
          "name": "stdout",
          "text": [
            "Creating the spread/zscore columns...\n",
            "Calculating when to be in the market (long and short)...\n",
            "Constructing a portfolio...\n",
            "Fitting the rolling Linear Regression...\n"
          ]
        },
        {
          "output_type": "stream",
          "name": "stderr",
          "text": [
            "/usr/local/lib/python3.11/dist-packages/statsmodels/regression/rolling.py:255: RuntimeWarning: divide by zero encountered in scalar divide\n",
            "  s2 = ssr / (nobs - tot_params)\n"
          ]
        },
        {
          "output_type": "stream",
          "name": "stdout",
          "text": [
            "Creating the spread/zscore columns...\n",
            "Calculating when to be in the market (long and short)...\n",
            "Constructing a portfolio...\n",
            "Fitting the rolling Linear Regression...\n"
          ]
        },
        {
          "output_type": "stream",
          "name": "stderr",
          "text": [
            "/usr/local/lib/python3.11/dist-packages/statsmodels/regression/rolling.py:255: RuntimeWarning: divide by zero encountered in scalar divide\n",
            "  s2 = ssr / (nobs - tot_params)\n"
          ]
        },
        {
          "output_type": "stream",
          "name": "stdout",
          "text": [
            "Creating the spread/zscore columns...\n",
            "Calculating when to be in the market (long and short)...\n",
            "Constructing a portfolio...\n",
            "Fitting the rolling Linear Regression...\n"
          ]
        },
        {
          "output_type": "stream",
          "name": "stderr",
          "text": [
            "/usr/local/lib/python3.11/dist-packages/statsmodels/regression/rolling.py:255: RuntimeWarning: divide by zero encountered in scalar divide\n",
            "  s2 = ssr / (nobs - tot_params)\n"
          ]
        },
        {
          "output_type": "stream",
          "name": "stdout",
          "text": [
            "Creating the spread/zscore columns...\n",
            "Calculating when to be in the market (long and short)...\n",
            "Constructing a portfolio...\n",
            "Fitting the rolling Linear Regression...\n"
          ]
        },
        {
          "output_type": "stream",
          "name": "stderr",
          "text": [
            "/usr/local/lib/python3.11/dist-packages/statsmodels/regression/rolling.py:255: RuntimeWarning: divide by zero encountered in scalar divide\n",
            "  s2 = ssr / (nobs - tot_params)\n"
          ]
        },
        {
          "output_type": "stream",
          "name": "stdout",
          "text": [
            "Creating the spread/zscore columns...\n",
            "Calculating when to be in the market (long and short)...\n",
            "Constructing a portfolio...\n",
            "Fitting the rolling Linear Regression...\n"
          ]
        },
        {
          "output_type": "stream",
          "name": "stderr",
          "text": [
            "/usr/local/lib/python3.11/dist-packages/statsmodels/regression/rolling.py:255: RuntimeWarning: divide by zero encountered in scalar divide\n",
            "  s2 = ssr / (nobs - tot_params)\n"
          ]
        },
        {
          "output_type": "stream",
          "name": "stdout",
          "text": [
            "Creating the spread/zscore columns...\n",
            "Calculating when to be in the market (long and short)...\n",
            "Constructing a portfolio...\n",
            "Fitting the rolling Linear Regression...\n"
          ]
        },
        {
          "output_type": "stream",
          "name": "stderr",
          "text": [
            "/usr/local/lib/python3.11/dist-packages/statsmodels/regression/rolling.py:255: RuntimeWarning: divide by zero encountered in scalar divide\n",
            "  s2 = ssr / (nobs - tot_params)\n"
          ]
        },
        {
          "output_type": "stream",
          "name": "stdout",
          "text": [
            "Creating the spread/zscore columns...\n",
            "Calculating when to be in the market (long and short)...\n",
            "Constructing a portfolio...\n",
            "Fitting the rolling Linear Regression...\n"
          ]
        },
        {
          "output_type": "stream",
          "name": "stderr",
          "text": [
            "/usr/local/lib/python3.11/dist-packages/statsmodels/regression/rolling.py:255: RuntimeWarning: divide by zero encountered in scalar divide\n",
            "  s2 = ssr / (nobs - tot_params)\n"
          ]
        },
        {
          "output_type": "stream",
          "name": "stdout",
          "text": [
            "Creating the spread/zscore columns...\n",
            "Calculating when to be in the market (long and short)...\n",
            "Constructing a portfolio...\n",
            "Fitting the rolling Linear Regression...\n",
            "Creating the spread/zscore columns...\n",
            "Calculating when to be in the market (long and short)...\n"
          ]
        },
        {
          "output_type": "stream",
          "name": "stderr",
          "text": [
            "/usr/local/lib/python3.11/dist-packages/statsmodels/regression/rolling.py:255: RuntimeWarning: divide by zero encountered in scalar divide\n",
            "  s2 = ssr / (nobs - tot_params)\n"
          ]
        },
        {
          "output_type": "stream",
          "name": "stdout",
          "text": [
            "Constructing a portfolio...\n",
            "Fitting the rolling Linear Regression...\n"
          ]
        },
        {
          "output_type": "stream",
          "name": "stderr",
          "text": [
            "/usr/local/lib/python3.11/dist-packages/statsmodels/regression/rolling.py:255: RuntimeWarning: divide by zero encountered in scalar divide\n",
            "  s2 = ssr / (nobs - tot_params)\n"
          ]
        },
        {
          "output_type": "stream",
          "name": "stdout",
          "text": [
            "Creating the spread/zscore columns...\n",
            "Calculating when to be in the market (long and short)...\n",
            "Constructing a portfolio...\n",
            "Fitting the rolling Linear Regression...\n"
          ]
        },
        {
          "output_type": "stream",
          "name": "stderr",
          "text": [
            "/usr/local/lib/python3.11/dist-packages/statsmodels/regression/rolling.py:255: RuntimeWarning: divide by zero encountered in scalar divide\n",
            "  s2 = ssr / (nobs - tot_params)\n"
          ]
        },
        {
          "output_type": "stream",
          "name": "stdout",
          "text": [
            "Creating the spread/zscore columns...\n",
            "Calculating when to be in the market (long and short)...\n",
            "Constructing a portfolio...\n",
            "Fitting the rolling Linear Regression...\n"
          ]
        },
        {
          "output_type": "stream",
          "name": "stderr",
          "text": [
            "/usr/local/lib/python3.11/dist-packages/statsmodels/regression/rolling.py:255: RuntimeWarning: divide by zero encountered in scalar divide\n",
            "  s2 = ssr / (nobs - tot_params)\n"
          ]
        },
        {
          "output_type": "stream",
          "name": "stdout",
          "text": [
            "Creating the spread/zscore columns...\n",
            "Calculating when to be in the market (long and short)...\n",
            "Constructing a portfolio...\n",
            "    lookback  entry_threshold  exit_threshold  final_cumulative_reward\n",
            "1         50              1.0             1.0                 2.541757\n",
            "3         50              1.5             1.0                 2.009374\n",
            "0         50              1.0             0.5                 1.763826\n",
            "5         50              2.0             1.0                 1.434635\n",
            "2         50              1.5             0.5                 1.339719\n",
            "13       150              1.0             1.0                 1.339005\n",
            "12       150              1.0             0.5                 1.311705\n",
            "7        100              1.0             1.0                 1.140622\n",
            "14       150              1.5             0.5                 1.109775\n",
            "15       150              1.5             1.0                 0.991574\n",
            "9        100              1.5             1.0                 0.908159\n",
            "4         50              2.0             0.5                 0.855382\n",
            "6        100              1.0             0.5                 0.760212\n",
            "17       150              2.0             1.0                 0.528952\n",
            "11       100              2.0             1.0                 0.502006\n",
            "8        100              1.5             0.5                 0.445367\n",
            "16       150              2.0             0.5                 0.430862\n",
            "10       100              2.0             0.5                 0.036367\n"
          ]
        }
      ]
    },
    {
      "cell_type": "code",
      "source": [
        "import pandas as pd\n",
        "\n",
        "# Define parameter grids\n",
        "lookbacks = [50, 100, 150]\n",
        "entry_thresholds = [1.0, 1.5, 2.0]\n",
        "exit_thresholds = [0.5, 1.0]\n",
        "results = []\n",
        "s9, s73 = get_clean_data(4, 85)\n",
        "\n",
        "for lookback in lookbacks:\n",
        "    for entry in entry_thresholds:\n",
        "        for exit in exit_thresholds:\n",
        "            # Prepare data\n",
        "            pair = pd.DataFrame({\"stock1\": s9, \"stock2\": s73})\n",
        "            pair = calculate_spread_zscore(pair, (\"stock1\", \"stock2\"), lookback=lookback)\n",
        "            pair = create_long_short_market_signals(pair, z_entry_threshold=entry, z_exit_threshold=exit).copy()\n",
        "            port = create_portfolio_returns(pair, (\"stock1\", \"stock2\"))\n",
        "\n",
        "            # Store result\n",
        "            final_reward = port['cumulative_reward'].iloc[-1]\n",
        "            results.append({\n",
        "                \"lookback\": lookback,\n",
        "                \"entry_threshold\": entry,\n",
        "                \"exit_threshold\": exit,\n",
        "                \"final_cumulative_reward\": final_reward\n",
        "            })\n",
        "\n",
        "# Convert to DataFrame for analysis\n",
        "grid_results = pd.DataFrame(results)\n",
        "print(grid_results.sort_values(by=\"final_cumulative_reward\", ascending=False))\n",
        "\n"
      ],
      "metadata": {
        "colab": {
          "base_uri": "https://localhost:8080/"
        },
        "id": "wAEooYi47Lch",
        "outputId": "58ffea43-98dd-4ec2-e845-756e5e910c3c"
      },
      "execution_count": null,
      "outputs": [
        {
          "output_type": "stream",
          "name": "stdout",
          "text": [
            "Fitting the rolling Linear Regression...\n"
          ]
        },
        {
          "output_type": "stream",
          "name": "stderr",
          "text": [
            "/usr/local/lib/python3.11/dist-packages/statsmodels/regression/rolling.py:255: RuntimeWarning: divide by zero encountered in scalar divide\n",
            "  s2 = ssr / (nobs - tot_params)\n"
          ]
        },
        {
          "output_type": "stream",
          "name": "stdout",
          "text": [
            "Creating the spread/zscore columns...\n",
            "Calculating when to be in the market (long and short)...\n",
            "Constructing a portfolio...\n",
            "Fitting the rolling Linear Regression...\n"
          ]
        },
        {
          "output_type": "stream",
          "name": "stderr",
          "text": [
            "/usr/local/lib/python3.11/dist-packages/statsmodels/regression/rolling.py:255: RuntimeWarning: divide by zero encountered in scalar divide\n",
            "  s2 = ssr / (nobs - tot_params)\n"
          ]
        },
        {
          "output_type": "stream",
          "name": "stdout",
          "text": [
            "Creating the spread/zscore columns...\n",
            "Calculating when to be in the market (long and short)...\n",
            "Constructing a portfolio...\n",
            "Fitting the rolling Linear Regression...\n"
          ]
        },
        {
          "output_type": "stream",
          "name": "stderr",
          "text": [
            "/usr/local/lib/python3.11/dist-packages/statsmodels/regression/rolling.py:255: RuntimeWarning: divide by zero encountered in scalar divide\n",
            "  s2 = ssr / (nobs - tot_params)\n"
          ]
        },
        {
          "output_type": "stream",
          "name": "stdout",
          "text": [
            "Creating the spread/zscore columns...\n",
            "Calculating when to be in the market (long and short)...\n",
            "Constructing a portfolio...\n",
            "Fitting the rolling Linear Regression...\n"
          ]
        },
        {
          "output_type": "stream",
          "name": "stderr",
          "text": [
            "/usr/local/lib/python3.11/dist-packages/statsmodels/regression/rolling.py:255: RuntimeWarning: divide by zero encountered in scalar divide\n",
            "  s2 = ssr / (nobs - tot_params)\n"
          ]
        },
        {
          "output_type": "stream",
          "name": "stdout",
          "text": [
            "Creating the spread/zscore columns...\n",
            "Calculating when to be in the market (long and short)...\n",
            "Constructing a portfolio...\n",
            "Fitting the rolling Linear Regression...\n"
          ]
        },
        {
          "output_type": "stream",
          "name": "stderr",
          "text": [
            "/usr/local/lib/python3.11/dist-packages/statsmodels/regression/rolling.py:255: RuntimeWarning: divide by zero encountered in scalar divide\n",
            "  s2 = ssr / (nobs - tot_params)\n"
          ]
        },
        {
          "output_type": "stream",
          "name": "stdout",
          "text": [
            "Creating the spread/zscore columns...\n",
            "Calculating when to be in the market (long and short)...\n",
            "Constructing a portfolio...\n",
            "Fitting the rolling Linear Regression...\n"
          ]
        },
        {
          "output_type": "stream",
          "name": "stderr",
          "text": [
            "/usr/local/lib/python3.11/dist-packages/statsmodels/regression/rolling.py:255: RuntimeWarning: divide by zero encountered in scalar divide\n",
            "  s2 = ssr / (nobs - tot_params)\n"
          ]
        },
        {
          "output_type": "stream",
          "name": "stdout",
          "text": [
            "Creating the spread/zscore columns...\n",
            "Calculating when to be in the market (long and short)...\n",
            "Constructing a portfolio...\n",
            "Fitting the rolling Linear Regression...\n"
          ]
        },
        {
          "output_type": "stream",
          "name": "stderr",
          "text": [
            "/usr/local/lib/python3.11/dist-packages/statsmodels/regression/rolling.py:255: RuntimeWarning: divide by zero encountered in scalar divide\n",
            "  s2 = ssr / (nobs - tot_params)\n"
          ]
        },
        {
          "output_type": "stream",
          "name": "stdout",
          "text": [
            "Creating the spread/zscore columns...\n",
            "Calculating when to be in the market (long and short)...\n",
            "Constructing a portfolio...\n",
            "Fitting the rolling Linear Regression...\n"
          ]
        },
        {
          "output_type": "stream",
          "name": "stderr",
          "text": [
            "/usr/local/lib/python3.11/dist-packages/statsmodels/regression/rolling.py:255: RuntimeWarning: divide by zero encountered in scalar divide\n",
            "  s2 = ssr / (nobs - tot_params)\n"
          ]
        },
        {
          "output_type": "stream",
          "name": "stdout",
          "text": [
            "Creating the spread/zscore columns...\n",
            "Calculating when to be in the market (long and short)...\n",
            "Constructing a portfolio...\n",
            "Fitting the rolling Linear Regression...\n"
          ]
        },
        {
          "output_type": "stream",
          "name": "stderr",
          "text": [
            "/usr/local/lib/python3.11/dist-packages/statsmodels/regression/rolling.py:255: RuntimeWarning: divide by zero encountered in scalar divide\n",
            "  s2 = ssr / (nobs - tot_params)\n"
          ]
        },
        {
          "output_type": "stream",
          "name": "stdout",
          "text": [
            "Creating the spread/zscore columns...\n",
            "Calculating when to be in the market (long and short)...\n",
            "Constructing a portfolio...\n",
            "Fitting the rolling Linear Regression...\n",
            "Creating the spread/zscore columns...\n",
            "Calculating when to be in the market (long and short)...\n"
          ]
        },
        {
          "output_type": "stream",
          "name": "stderr",
          "text": [
            "/usr/local/lib/python3.11/dist-packages/statsmodels/regression/rolling.py:255: RuntimeWarning: divide by zero encountered in scalar divide\n",
            "  s2 = ssr / (nobs - tot_params)\n"
          ]
        },
        {
          "output_type": "stream",
          "name": "stdout",
          "text": [
            "Constructing a portfolio...\n",
            "Fitting the rolling Linear Regression...\n",
            "Creating the spread/zscore columns...\n"
          ]
        },
        {
          "output_type": "stream",
          "name": "stderr",
          "text": [
            "/usr/local/lib/python3.11/dist-packages/statsmodels/regression/rolling.py:255: RuntimeWarning: divide by zero encountered in scalar divide\n",
            "  s2 = ssr / (nobs - tot_params)\n"
          ]
        },
        {
          "output_type": "stream",
          "name": "stdout",
          "text": [
            "Calculating when to be in the market (long and short)...\n",
            "Constructing a portfolio...\n",
            "Fitting the rolling Linear Regression...\n"
          ]
        },
        {
          "output_type": "stream",
          "name": "stderr",
          "text": [
            "/usr/local/lib/python3.11/dist-packages/statsmodels/regression/rolling.py:255: RuntimeWarning: divide by zero encountered in scalar divide\n",
            "  s2 = ssr / (nobs - tot_params)\n"
          ]
        },
        {
          "output_type": "stream",
          "name": "stdout",
          "text": [
            "Creating the spread/zscore columns...\n",
            "Calculating when to be in the market (long and short)...\n",
            "Constructing a portfolio...\n",
            "Fitting the rolling Linear Regression...\n"
          ]
        },
        {
          "output_type": "stream",
          "name": "stderr",
          "text": [
            "/usr/local/lib/python3.11/dist-packages/statsmodels/regression/rolling.py:255: RuntimeWarning: divide by zero encountered in scalar divide\n",
            "  s2 = ssr / (nobs - tot_params)\n"
          ]
        },
        {
          "output_type": "stream",
          "name": "stdout",
          "text": [
            "Creating the spread/zscore columns...\n",
            "Calculating when to be in the market (long and short)...\n",
            "Constructing a portfolio...\n",
            "Fitting the rolling Linear Regression...\n"
          ]
        },
        {
          "output_type": "stream",
          "name": "stderr",
          "text": [
            "/usr/local/lib/python3.11/dist-packages/statsmodels/regression/rolling.py:255: RuntimeWarning: divide by zero encountered in scalar divide\n",
            "  s2 = ssr / (nobs - tot_params)\n"
          ]
        },
        {
          "output_type": "stream",
          "name": "stdout",
          "text": [
            "Creating the spread/zscore columns...\n",
            "Calculating when to be in the market (long and short)...\n",
            "Constructing a portfolio...\n",
            "Fitting the rolling Linear Regression...\n",
            "Creating the spread/zscore columns...\n",
            "Calculating when to be in the market (long and short)...\n"
          ]
        },
        {
          "output_type": "stream",
          "name": "stderr",
          "text": [
            "/usr/local/lib/python3.11/dist-packages/statsmodels/regression/rolling.py:255: RuntimeWarning: divide by zero encountered in scalar divide\n",
            "  s2 = ssr / (nobs - tot_params)\n"
          ]
        },
        {
          "output_type": "stream",
          "name": "stdout",
          "text": [
            "Constructing a portfolio...\n",
            "Fitting the rolling Linear Regression...\n",
            "Creating the spread/zscore columns...\n"
          ]
        },
        {
          "output_type": "stream",
          "name": "stderr",
          "text": [
            "/usr/local/lib/python3.11/dist-packages/statsmodels/regression/rolling.py:255: RuntimeWarning: divide by zero encountered in scalar divide\n",
            "  s2 = ssr / (nobs - tot_params)\n"
          ]
        },
        {
          "output_type": "stream",
          "name": "stdout",
          "text": [
            "Calculating when to be in the market (long and short)...\n",
            "Constructing a portfolio...\n",
            "Fitting the rolling Linear Regression...\n"
          ]
        },
        {
          "output_type": "stream",
          "name": "stderr",
          "text": [
            "/usr/local/lib/python3.11/dist-packages/statsmodels/regression/rolling.py:255: RuntimeWarning: divide by zero encountered in scalar divide\n",
            "  s2 = ssr / (nobs - tot_params)\n"
          ]
        },
        {
          "output_type": "stream",
          "name": "stdout",
          "text": [
            "Creating the spread/zscore columns...\n",
            "Calculating when to be in the market (long and short)...\n",
            "Constructing a portfolio...\n",
            "Fitting the rolling Linear Regression...\n"
          ]
        },
        {
          "output_type": "stream",
          "name": "stderr",
          "text": [
            "/usr/local/lib/python3.11/dist-packages/statsmodels/regression/rolling.py:255: RuntimeWarning: divide by zero encountered in scalar divide\n",
            "  s2 = ssr / (nobs - tot_params)\n"
          ]
        },
        {
          "output_type": "stream",
          "name": "stdout",
          "text": [
            "Creating the spread/zscore columns...\n",
            "Calculating when to be in the market (long and short)...\n",
            "Constructing a portfolio...\n",
            "    lookback  entry_threshold  exit_threshold  final_cumulative_reward\n",
            "1         50              1.0             1.0                 0.021741\n",
            "9        100              1.5             1.0                -0.066278\n",
            "14       150              1.5             0.5                -0.213164\n",
            "8        100              1.5             0.5                -0.218897\n",
            "15       150              1.5             1.0                -0.267896\n",
            "7        100              1.0             1.0                -0.284032\n",
            "6        100              1.0             0.5                -0.335144\n",
            "12       150              1.0             0.5                -0.373516\n",
            "13       150              1.0             1.0                -0.384006\n",
            "5         50              2.0             1.0                -0.413979\n",
            "11       100              2.0             1.0                -0.442592\n",
            "3         50              1.5             1.0                -0.454801\n",
            "16       150              2.0             0.5                -0.563892\n",
            "0         50              1.0             0.5                -0.605725\n",
            "17       150              2.0             1.0                -0.633939\n",
            "10       100              2.0             0.5                -0.722148\n",
            "4         50              2.0             0.5                -0.933995\n",
            "2         50              1.5             0.5                -1.163585\n"
          ]
        }
      ]
    },
    {
      "cell_type": "code",
      "source": [
        "plt.plot(pair[\"zscore\"])"
      ],
      "metadata": {
        "colab": {
          "base_uri": "https://localhost:8080/",
          "height": 447
        },
        "id": "hrIcsuau7X2m",
        "outputId": "cb2b84bd-7858-4327-9b76-990722bbd3dc"
      },
      "execution_count": null,
      "outputs": [
        {
          "output_type": "execute_result",
          "data": {
            "text/plain": [
              "[<matplotlib.lines.Line2D at 0x7bc5c58bfd10>]"
            ]
          },
          "metadata": {},
          "execution_count": 13
        },
        {
          "output_type": "display_data",
          "data": {
            "text/plain": [
              "<Figure size 640x480 with 1 Axes>"
            ],
            "image/png": "[encoded data removed]"
          },
          "metadata": {}
        }
      ]
    },
    {
      "cell_type": "code",
      "source": [],
      "metadata": {
        "id": "Ogf6d9g0tPiO"
      },
      "execution_count": null,
      "outputs": []
    },
    {
      "cell_type": "code",
      "source": [
        "# Define parameter grids\n",
        "lookbacks = [50, 100, 150]\n",
        "entry_thresholds = [1.0, 1.5, 2.0]\n",
        "exit_thresholds = [0.5, 1.0]\n",
        "\n",
        "results = []\n",
        "s9, s73 = get_clean_data(82, 93)\n",
        "\n",
        "for lookback in lookbacks:\n",
        "    for entry in entry_thresholds:\n",
        "        for exit in exit_thresholds:\n",
        "            # Prepare data\n",
        "            pair = pd.DataFrame({\"stock1\": s9, \"stock2\": s73})\n",
        "            pair = calculate_spread_zscore(pair, (\"stock1\", \"stock2\"), lookback=lookback)\n",
        "            pair = create_long_short_market_signals(pair, z_entry_threshold=entry, z_exit_threshold=exit).copy()\n",
        "            port = create_portfolio_returns(pair, (\"stock1\", \"stock2\"))\n",
        "\n",
        "            # Store result\n",
        "            final_reward = port['cumulative_reward'].iloc[-1]\n",
        "            results.append({\n",
        "                \"lookback\": lookback,\n",
        "                \"entry_threshold\": entry,\n",
        "                \"exit_threshold\": exit,\n",
        "                \"final_cumulative_reward\": final_reward\n",
        "            })\n",
        "\n",
        "# Convert to DataFrame for analysis\n",
        "grid_results = pd.DataFrame(results)\n",
        "print(grid_results.sort_values(by=\"final_cumulative_reward\", ascending=False))"
      ],
      "metadata": {
        "colab": {
          "base_uri": "https://localhost:8080/"
        },
        "id": "3U6pzPCd6G5_",
        "outputId": "ce0e08c6-e4cd-4b85-d645-0761ba8af5e3"
      },
      "execution_count": null,
      "outputs": [
        {
          "output_type": "stream",
          "name": "stdout",
          "text": [
            "Fitting the rolling Linear Regression...\n"
          ]
        },
        {
          "output_type": "stream",
          "name": "stderr",
          "text": [
            "/usr/local/lib/python3.11/dist-packages/statsmodels/regression/rolling.py:255: RuntimeWarning: divide by zero encountered in scalar divide\n",
            "  s2 = ssr / (nobs - tot_params)\n"
          ]
        },
        {
          "output_type": "stream",
          "name": "stdout",
          "text": [
            "Creating the spread/zscore columns...\n",
            "Calculating when to be in the market (long and short)...\n",
            "Constructing a portfolio...\n",
            "Fitting the rolling Linear Regression...\n"
          ]
        },
        {
          "output_type": "stream",
          "name": "stderr",
          "text": [
            "/usr/local/lib/python3.11/dist-packages/statsmodels/regression/rolling.py:255: RuntimeWarning: divide by zero encountered in scalar divide\n",
            "  s2 = ssr / (nobs - tot_params)\n"
          ]
        },
        {
          "output_type": "stream",
          "name": "stdout",
          "text": [
            "Creating the spread/zscore columns...\n",
            "Calculating when to be in the market (long and short)...\n",
            "Constructing a portfolio...\n",
            "Fitting the rolling Linear Regression...\n"
          ]
        },
        {
          "output_type": "stream",
          "name": "stderr",
          "text": [
            "/usr/local/lib/python3.11/dist-packages/statsmodels/regression/rolling.py:255: RuntimeWarning: divide by zero encountered in scalar divide\n",
            "  s2 = ssr / (nobs - tot_params)\n"
          ]
        },
        {
          "output_type": "stream",
          "name": "stdout",
          "text": [
            "Creating the spread/zscore columns...\n",
            "Calculating when to be in the market (long and short)...\n",
            "Constructing a portfolio...\n",
            "Fitting the rolling Linear Regression...\n"
          ]
        },
        {
          "output_type": "stream",
          "name": "stderr",
          "text": [
            "/usr/local/lib/python3.11/dist-packages/statsmodels/regression/rolling.py:255: RuntimeWarning: divide by zero encountered in scalar divide\n",
            "  s2 = ssr / (nobs - tot_params)\n"
          ]
        },
        {
          "output_type": "stream",
          "name": "stdout",
          "text": [
            "Creating the spread/zscore columns...\n",
            "Calculating when to be in the market (long and short)...\n",
            "Constructing a portfolio...\n",
            "Fitting the rolling Linear Regression...\n"
          ]
        },
        {
          "output_type": "stream",
          "name": "stderr",
          "text": [
            "/usr/local/lib/python3.11/dist-packages/statsmodels/regression/rolling.py:255: RuntimeWarning: divide by zero encountered in scalar divide\n",
            "  s2 = ssr / (nobs - tot_params)\n"
          ]
        },
        {
          "output_type": "stream",
          "name": "stdout",
          "text": [
            "Creating the spread/zscore columns...\n",
            "Calculating when to be in the market (long and short)...\n",
            "Constructing a portfolio...\n",
            "Fitting the rolling Linear Regression...\n"
          ]
        },
        {
          "output_type": "stream",
          "name": "stderr",
          "text": [
            "/usr/local/lib/python3.11/dist-packages/statsmodels/regression/rolling.py:255: RuntimeWarning: divide by zero encountered in scalar divide\n",
            "  s2 = ssr / (nobs - tot_params)\n"
          ]
        },
        {
          "output_type": "stream",
          "name": "stdout",
          "text": [
            "Creating the spread/zscore columns...\n",
            "Calculating when to be in the market (long and short)...\n",
            "Constructing a portfolio...\n",
            "Fitting the rolling Linear Regression...\n"
          ]
        },
        {
          "output_type": "stream",
          "name": "stderr",
          "text": [
            "/usr/local/lib/python3.11/dist-packages/statsmodels/regression/rolling.py:255: RuntimeWarning: divide by zero encountered in scalar divide\n",
            "  s2 = ssr / (nobs - tot_params)\n"
          ]
        },
        {
          "output_type": "stream",
          "name": "stdout",
          "text": [
            "Creating the spread/zscore columns...\n",
            "Calculating when to be in the market (long and short)...\n",
            "Constructing a portfolio...\n",
            "Fitting the rolling Linear Regression...\n"
          ]
        },
        {
          "output_type": "stream",
          "name": "stderr",
          "text": [
            "/usr/local/lib/python3.11/dist-packages/statsmodels/regression/rolling.py:255: RuntimeWarning: divide by zero encountered in scalar divide\n",
            "  s2 = ssr / (nobs - tot_params)\n"
          ]
        },
        {
          "output_type": "stream",
          "name": "stdout",
          "text": [
            "Creating the spread/zscore columns...\n",
            "Calculating when to be in the market (long and short)...\n",
            "Constructing a portfolio...\n",
            "Fitting the rolling Linear Regression...\n"
          ]
        },
        {
          "output_type": "stream",
          "name": "stderr",
          "text": [
            "/usr/local/lib/python3.11/dist-packages/statsmodels/regression/rolling.py:255: RuntimeWarning: divide by zero encountered in scalar divide\n",
            "  s2 = ssr / (nobs - tot_params)\n"
          ]
        },
        {
          "output_type": "stream",
          "name": "stdout",
          "text": [
            "Creating the spread/zscore columns...\n",
            "Calculating when to be in the market (long and short)...\n",
            "Constructing a portfolio...\n",
            "Fitting the rolling Linear Regression...\n"
          ]
        },
        {
          "output_type": "stream",
          "name": "stderr",
          "text": [
            "/usr/local/lib/python3.11/dist-packages/statsmodels/regression/rolling.py:255: RuntimeWarning: divide by zero encountered in scalar divide\n",
            "  s2 = ssr / (nobs - tot_params)\n"
          ]
        },
        {
          "output_type": "stream",
          "name": "stdout",
          "text": [
            "Creating the spread/zscore columns...\n",
            "Calculating when to be in the market (long and short)...\n",
            "Constructing a portfolio...\n",
            "Fitting the rolling Linear Regression...\n"
          ]
        },
        {
          "output_type": "stream",
          "name": "stderr",
          "text": [
            "/usr/local/lib/python3.11/dist-packages/statsmodels/regression/rolling.py:255: RuntimeWarning: divide by zero encountered in scalar divide\n",
            "  s2 = ssr / (nobs - tot_params)\n"
          ]
        },
        {
          "output_type": "stream",
          "name": "stdout",
          "text": [
            "Creating the spread/zscore columns...\n",
            "Calculating when to be in the market (long and short)...\n",
            "Constructing a portfolio...\n",
            "Fitting the rolling Linear Regression...\n"
          ]
        },
        {
          "output_type": "stream",
          "name": "stderr",
          "text": [
            "/usr/local/lib/python3.11/dist-packages/statsmodels/regression/rolling.py:255: RuntimeWarning: divide by zero encountered in scalar divide\n",
            "  s2 = ssr / (nobs - tot_params)\n"
          ]
        },
        {
          "output_type": "stream",
          "name": "stdout",
          "text": [
            "Creating the spread/zscore columns...\n",
            "Calculating when to be in the market (long and short)...\n",
            "Constructing a portfolio...\n",
            "Fitting the rolling Linear Regression...\n",
            "Creating the spread/zscore columns...\n",
            "Calculating when to be in the market (long and short)...\n"
          ]
        },
        {
          "output_type": "stream",
          "name": "stderr",
          "text": [
            "/usr/local/lib/python3.11/dist-packages/statsmodels/regression/rolling.py:255: RuntimeWarning: divide by zero encountered in scalar divide\n",
            "  s2 = ssr / (nobs - tot_params)\n"
          ]
        },
        {
          "output_type": "stream",
          "name": "stdout",
          "text": [
            "Constructing a portfolio...\n",
            "Fitting the rolling Linear Regression...\n"
          ]
        },
        {
          "output_type": "stream",
          "name": "stderr",
          "text": [
            "/usr/local/lib/python3.11/dist-packages/statsmodels/regression/rolling.py:255: RuntimeWarning: divide by zero encountered in scalar divide\n",
            "  s2 = ssr / (nobs - tot_params)\n"
          ]
        },
        {
          "output_type": "stream",
          "name": "stdout",
          "text": [
            "Creating the spread/zscore columns...\n",
            "Calculating when to be in the market (long and short)...\n",
            "Constructing a portfolio...\n",
            "Fitting the rolling Linear Regression...\n"
          ]
        },
        {
          "output_type": "stream",
          "name": "stderr",
          "text": [
            "/usr/local/lib/python3.11/dist-packages/statsmodels/regression/rolling.py:255: RuntimeWarning: divide by zero encountered in scalar divide\n",
            "  s2 = ssr / (nobs - tot_params)\n"
          ]
        },
        {
          "output_type": "stream",
          "name": "stdout",
          "text": [
            "Creating the spread/zscore columns...\n",
            "Calculating when to be in the market (long and short)...\n",
            "Constructing a portfolio...\n",
            "Fitting the rolling Linear Regression...\n"
          ]
        },
        {
          "output_type": "stream",
          "name": "stderr",
          "text": [
            "/usr/local/lib/python3.11/dist-packages/statsmodels/regression/rolling.py:255: RuntimeWarning: divide by zero encountered in scalar divide\n",
            "  s2 = ssr / (nobs - tot_params)\n"
          ]
        },
        {
          "output_type": "stream",
          "name": "stdout",
          "text": [
            "Creating the spread/zscore columns...\n",
            "Calculating when to be in the market (long and short)...\n",
            "Constructing a portfolio...\n",
            "Fitting the rolling Linear Regression...\n",
            "Creating the spread/zscore columns...\n"
          ]
        },
        {
          "output_type": "stream",
          "name": "stderr",
          "text": [
            "/usr/local/lib/python3.11/dist-packages/statsmodels/regression/rolling.py:255: RuntimeWarning: divide by zero encountered in scalar divide\n",
            "  s2 = ssr / (nobs - tot_params)\n"
          ]
        },
        {
          "output_type": "stream",
          "name": "stdout",
          "text": [
            "Calculating when to be in the market (long and short)...\n",
            "Constructing a portfolio...\n",
            "Fitting the rolling Linear Regression...\n"
          ]
        },
        {
          "output_type": "stream",
          "name": "stderr",
          "text": [
            "/usr/local/lib/python3.11/dist-packages/statsmodels/regression/rolling.py:255: RuntimeWarning: divide by zero encountered in scalar divide\n",
            "  s2 = ssr / (nobs - tot_params)\n"
          ]
        },
        {
          "output_type": "stream",
          "name": "stdout",
          "text": [
            "Creating the spread/zscore columns...\n",
            "Calculating when to be in the market (long and short)...\n",
            "Constructing a portfolio...\n",
            "    lookback  entry_threshold  exit_threshold  final_cumulative_reward\n",
            "1         50              1.0             1.0                 3.390523\n",
            "3         50              1.5             1.0                 2.612333\n",
            "7        100              1.0             1.0                 2.445374\n",
            "9        100              1.5             1.0                 2.161968\n",
            "11       100              2.0             1.0                 1.537535\n",
            "13       150              1.0             1.0                 1.171895\n",
            "2         50              1.5             0.5                 0.995301\n",
            "5         50              2.0             1.0                 0.850431\n",
            "0         50              1.0             0.5                 0.740800\n",
            "12       150              1.0             0.5                 0.656885\n",
            "14       150              1.5             0.5                 0.455577\n",
            "15       150              1.5             1.0                 0.244779\n",
            "17       150              2.0             1.0                 0.007297\n",
            "4         50              2.0             0.5                -0.125666\n",
            "16       150              2.0             0.5                -0.281588\n",
            "8        100              1.5             0.5                -0.492937\n",
            "6        100              1.0             0.5                -0.819140\n",
            "10       100              2.0             0.5                -1.061315\n"
          ]
        }
      ]
    },
    {
      "cell_type": "markdown",
      "source": [
        "Draft below"
      ],
      "metadata": {
        "id": "H39DGW6cyiv8"
      }
    },
    {
      "cell_type": "markdown",
      "source": [
        "try with (9, 73)"
      ],
      "metadata": {
        "id": "gyHcBdTXpfzu"
      }
    },
    {
      "cell_type": "code",
      "source": [
        "def get_clean_data(stock1idx, stock2idx):\n",
        "  y1= normalized[:, stock1idx].squeeze()\n",
        "  y2= normalized[:, stock2idx].squeeze()\n",
        "  tmp = pd.DataFrame({\"stock1\":y1, \"stock2\":y2})\n",
        "  clean_array = tmp.dropna().to_numpy()\n",
        "  return clean_array[:,0], clean_array[:,1]\n",
        "\n",
        "s9, s73= get_clean_data(9, 73)\n",
        "model = LinearRegression()\n",
        "model.fit(s9.reshape(-1, 1), s73.reshape(-1, 1))"
      ],
      "metadata": {
        "colab": {
          "base_uri": "https://localhost:8080/",
          "height": 80
        },
        "id": "T5z1Ol9PpjVM",
        "outputId": "3a221498-20f9-4d34-d27c-5108f6d5ca79"
      },
      "execution_count": null,
      "outputs": [
        {
          "output_type": "execute_result",
          "data": {
            "text/plain": [
              "LinearRegression()"
            ],
            "text/html": [
              "<style>#sk-container-id-2 {\n",
              "  /* Definition of color scheme common for light and dark mode */\n",
              "  --sklearn-color-text: #000;\n",
              "  --sklearn-color-text-muted: #666;\n",
              "  --sklearn-color-line: gray;\n",
              "  /* Definition of color scheme for unfitted estimators */\n",
              "  --sklearn-color-unfitted-level-0: #fff5e6;\n",
              "  --sklearn-color-unfitted-level-1: #f6e4d2;\n",
              "  --sklearn-color-unfitted-level-2: #ffe0b3;\n",
              "  --sklearn-color-unfitted-level-3: chocolate;\n",
              "  /* Definition of color scheme for fitted estimators */\n",
              "  --sklearn-color-fitted-level-0: #f0f8ff;\n",
              "  --sklearn-color-fitted-level-1: #d4ebff;\n",
              "  --sklearn-color-fitted-level-2: #b3dbfd;\n",
              "  --sklearn-color-fitted-level-3: cornflowerblue;\n",
              "\n",
              "  /* Specific color for light theme */\n",
              "  --sklearn-color-text-on-default-background: var(--sg-text-color, var(--theme-code-foreground, var(--jp-content-font-color1, black)));\n",
              "  --sklearn-color-background: var(--sg-background-color, var(--theme-background, var(--jp-layout-color0, white)));\n",
              "  --sklearn-color-border-box: var(--sg-text-color, var(--theme-code-foreground, var(--jp-content-font-color1, black)));\n",
              "  --sklearn-color-icon: #696969;\n",
              "\n",
              "  @media (prefers-color-scheme: dark) {\n",
              "    /* Redefinition of color scheme for dark theme */\n",
              "    --sklearn-color-text-on-default-background: var(--sg-text-color, var(--theme-code-foreground, var(--jp-content-font-color1, white)));\n",
              "    --sklearn-color-background: var(--sg-background-color, var(--theme-background, var(--jp-layout-color0, #111)));\n",
              "    --sklearn-color-border-box: var(--sg-text-color, var(--theme-code-foreground, var(--jp-content-font-color1, white)));\n",
              "    --sklearn-color-icon: #878787;\n",
              "  }\n",
              "}\n",
              "\n",
              "#sk-container-id-2 {\n",
              "  color: var(--sklearn-color-text);\n",
              "}\n",
              "\n",
              "#sk-container-id-2 pre {\n",
              "  padding: 0;\n",
              "}\n",
              "\n",
              "#sk-container-id-2 input.sk-hidden--visually {\n",
              "  border: 0;\n",
              "  clip: rect(1px 1px 1px 1px);\n",
              "  clip: rect(1px, 1px, 1px, 1px);\n",
              "  height: 1px;\n",
              "  margin: -1px;\n",
              "  overflow: hidden;\n",
              "  padding: 0;\n",
              "  position: absolute;\n",
              "  width: 1px;\n",
              "}\n",
              "\n",
              "#sk-container-id-2 div.sk-dashed-wrapped {\n",
              "  border: 1px dashed var(--sklearn-color-line);\n",
              "  margin: 0 0.4em 0.5em 0.4em;\n",
              "  box-sizing: border-box;\n",
              "  padding-bottom: 0.4em;\n",
              "  background-color: var(--sklearn-color-background);\n",
              "}\n",
              "\n",
              "#sk-container-id-2 div.sk-container {\n",
              "  /* jupyter's `normalize.less` sets `[hidden] { display: none; }`\n",
              "     but bootstrap.min.css set `[hidden] { display: none !important; }`\n",
              "     so we also need the `!important` here to be able to override the\n",
              "     default hidden behavior on the sphinx rendered scikit-learn.org.\n",
              "     See: https://github.com/scikit-learn/scikit-learn/issues/21755 */\n",
              "  display: inline-block !important;\n",
              "  position: relative;\n",
              "}\n",
              "\n",
              "#sk-container-id-2 div.sk-text-repr-fallback {\n",
              "  display: none;\n",
              "}\n",
              "\n",
              "div.sk-parallel-item,\n",
              "div.sk-serial,\n",
              "div.sk-item {\n",
              "  /* draw centered vertical line to link estimators */\n",
              "  background-image: linear-gradient(var(--sklearn-color-text-on-default-background), var(--sklearn-color-text-on-default-background));\n",
              "  background-size: 2px 100%;\n",
              "  background-repeat: no-repeat;\n",
              "  background-position: center center;\n",
              "}\n",
              "\n",
              "/* Parallel-specific style estimator block */\n",
              "\n",
              "#sk-container-id-2 div.sk-parallel-item::after {\n",
              "  content: \"\";\n",
              "  width: 100%;\n",
              "  border-bottom: 2px solid var(--sklearn-color-text-on-default-background);\n",
              "  flex-grow: 1;\n",
              "}\n",
              "\n",
              "#sk-container-id-2 div.sk-parallel {\n",
              "  display: flex;\n",
              "  align-items: stretch;\n",
              "  justify-content: center;\n",
              "  background-color: var(--sklearn-color-background);\n",
              "  position: relative;\n",
              "}\n",
              "\n",
              "#sk-container-id-2 div.sk-parallel-item {\n",
              "  display: flex;\n",
              "  flex-direction: column;\n",
              "}\n",
              "\n",
              "#sk-container-id-2 div.sk-parallel-item:first-child::after {\n",
              "  align-self: flex-end;\n",
              "  width: 50%;\n",
              "}\n",
              "\n",
              "#sk-container-id-2 div.sk-parallel-item:last-child::after {\n",
              "  align-self: flex-start;\n",
              "  width: 50%;\n",
              "}\n",
              "\n",
              "#sk-container-id-2 div.sk-parallel-item:only-child::after {\n",
              "  width: 0;\n",
              "}\n",
              "\n",
              "/* Serial-specific style estimator block */\n",
              "\n",
              "#sk-container-id-2 div.sk-serial {\n",
              "  display: flex;\n",
              "  flex-direction: column;\n",
              "  align-items: center;\n",
              "  background-color: var(--sklearn-color-background);\n",
              "  padding-right: 1em;\n",
              "  padding-left: 1em;\n",
              "}\n",
              "\n",
              "\n",
              "/* Toggleable style: style used for estimator/Pipeline/ColumnTransformer box that is\n",
              "clickable and can be expanded/collapsed.\n",
              "- Pipeline and ColumnTransformer use this feature and define the default style\n",
              "- Estimators will overwrite some part of the style using the `sk-estimator` class\n",
              "*/\n",
              "\n",
              "/* Pipeline and ColumnTransformer style (default) */\n",
              "\n",
              "#sk-container-id-2 div.sk-toggleable {\n",
              "  /* Default theme specific background. It is overwritten whether we have a\n",
              "  specific estimator or a Pipeline/ColumnTransformer */\n",
              "  background-color: var(--sklearn-color-background);\n",
              "}\n",
              "\n",
              "/* Toggleable label */\n",
              "#sk-container-id-2 label.sk-toggleable__label {\n",
              "  cursor: pointer;\n",
              "  display: flex;\n",
              "  width: 100%;\n",
              "  margin-bottom: 0;\n",
              "  padding: 0.5em;\n",
              "  box-sizing: border-box;\n",
              "  text-align: center;\n",
              "  align-items: start;\n",
              "  justify-content: space-between;\n",
              "  gap: 0.5em;\n",
              "}\n",
              "\n",
              "#sk-container-id-2 label.sk-toggleable__label .caption {\n",
              "  font-size: 0.6rem;\n",
              "  font-weight: lighter;\n",
              "  color: var(--sklearn-color-text-muted);\n",
              "}\n",
              "\n",
              "#sk-container-id-2 label.sk-toggleable__label-arrow:before {\n",
              "  /* Arrow on the left of the label */\n",
              "  content: \"▸\";\n",
              "  float: left;\n",
              "  margin-right: 0.25em;\n",
              "  color: var(--sklearn-color-icon);\n",
              "}\n",
              "\n",
              "#sk-container-id-2 label.sk-toggleable__label-arrow:hover:before {\n",
              "  color: var(--sklearn-color-text);\n",
              "}\n",
              "\n",
              "/* Toggleable content - dropdown */\n",
              "\n",
              "#sk-container-id-2 div.sk-toggleable__content {\n",
              "  max-height: 0;\n",
              "  max-width: 0;\n",
              "  overflow: hidden;\n",
              "  text-align: left;\n",
              "  /* unfitted */\n",
              "  background-color: var(--sklearn-color-unfitted-level-0);\n",
              "}\n",
              "\n",
              "#sk-container-id-2 div.sk-toggleable__content.fitted {\n",
              "  /* fitted */\n",
              "  background-color: var(--sklearn-color-fitted-level-0);\n",
              "}\n",
              "\n",
              "#sk-container-id-2 div.sk-toggleable__content pre {\n",
              "  margin: 0.2em;\n",
              "  border-radius: 0.25em;\n",
              "  color: var(--sklearn-color-text);\n",
              "  /* unfitted */\n",
              "  background-color: var(--sklearn-color-unfitted-level-0);\n",
              "}\n",
              "\n",
              "#sk-container-id-2 div.sk-toggleable__content.fitted pre {\n",
              "  /* unfitted */\n",
              "  background-color: var(--sklearn-color-fitted-level-0);\n",
              "}\n",
              "\n",
              "#sk-container-id-2 input.sk-toggleable__control:checked~div.sk-toggleable__content {\n",
              "  /* Expand drop-down */\n",
              "  max-height: 200px;\n",
              "  max-width: 100%;\n",
              "  overflow: auto;\n",
              "}\n",
              "\n",
              "#sk-container-id-2 input.sk-toggleable__control:checked~label.sk-toggleable__label-arrow:before {\n",
              "  content: \"▾\";\n",
              "}\n",
              "\n",
              "/* Pipeline/ColumnTransformer-specific style */\n",
              "\n",
              "#sk-container-id-2 div.sk-label input.sk-toggleable__control:checked~label.sk-toggleable__label {\n",
              "  color: var(--sklearn-color-text);\n",
              "  background-color: var(--sklearn-color-unfitted-level-2);\n",
              "}\n",
              "\n",
              "#sk-container-id-2 div.sk-label.fitted input.sk-toggleable__control:checked~label.sk-toggleable__label {\n",
              "  background-color: var(--sklearn-color-fitted-level-2);\n",
              "}\n",
              "\n",
              "/* Estimator-specific style */\n",
              "\n",
              "/* Colorize estimator box */\n",
              "#sk-container-id-2 div.sk-estimator input.sk-toggleable__control:checked~label.sk-toggleable__label {\n",
              "  /* unfitted */\n",
              "  background-color: var(--sklearn-color-unfitted-level-2);\n",
              "}\n",
              "\n",
              "#sk-container-id-2 div.sk-estimator.fitted input.sk-toggleable__control:checked~label.sk-toggleable__label {\n",
              "  /* fitted */\n",
              "  background-color: var(--sklearn-color-fitted-level-2);\n",
              "}\n",
              "\n",
              "#sk-container-id-2 div.sk-label label.sk-toggleable__label,\n",
              "#sk-container-id-2 div.sk-label label {\n",
              "  /* The background is the default theme color */\n",
              "  color: var(--sklearn-color-text-on-default-background);\n",
              "}\n",
              "\n",
              "/* On hover, darken the color of the background */\n",
              "#sk-container-id-2 div.sk-label:hover label.sk-toggleable__label {\n",
              "  color: var(--sklearn-color-text);\n",
              "  background-color: var(--sklearn-color-unfitted-level-2);\n",
              "}\n",
              "\n",
              "/* Label box, darken color on hover, fitted */\n",
              "#sk-container-id-2 div.sk-label.fitted:hover label.sk-toggleable__label.fitted {\n",
              "  color: var(--sklearn-color-text);\n",
              "  background-color: var(--sklearn-color-fitted-level-2);\n",
              "}\n",
              "\n",
              "/* Estimator label */\n",
              "\n",
              "#sk-container-id-2 div.sk-label label {\n",
              "  font-family: monospace;\n",
              "  font-weight: bold;\n",
              "  display: inline-block;\n",
              "  line-height: 1.2em;\n",
              "}\n",
              "\n",
              "#sk-container-id-2 div.sk-label-container {\n",
              "  text-align: center;\n",
              "}\n",
              "\n",
              "/* Estimator-specific */\n",
              "#sk-container-id-2 div.sk-estimator {\n",
              "  font-family: monospace;\n",
              "  border: 1px dotted var(--sklearn-color-border-box);\n",
              "  border-radius: 0.25em;\n",
              "  box-sizing: border-box;\n",
              "  margin-bottom: 0.5em;\n",
              "  /* unfitted */\n",
              "  background-color: var(--sklearn-color-unfitted-level-0);\n",
              "}\n",
              "\n",
              "#sk-container-id-2 div.sk-estimator.fitted {\n",
              "  /* fitted */\n",
              "  background-color: var(--sklearn-color-fitted-level-0);\n",
              "}\n",
              "\n",
              "/* on hover */\n",
              "#sk-container-id-2 div.sk-estimator:hover {\n",
              "  /* unfitted */\n",
              "  background-color: var(--sklearn-color-unfitted-level-2);\n",
              "}\n",
              "\n",
              "#sk-container-id-2 div.sk-estimator.fitted:hover {\n",
              "  /* fitted */\n",
              "  background-color: var(--sklearn-color-fitted-level-2);\n",
              "}\n",
              "\n",
              "/* Specification for estimator info (e.g. \"i\" and \"?\") */\n",
              "\n",
              "/* Common style for \"i\" and \"?\" */\n",
              "\n",
              ".sk-estimator-doc-link,\n",
              "a:link.sk-estimator-doc-link,\n",
              "a:visited.sk-estimator-doc-link {\n",
              "  float: right;\n",
              "  font-size: smaller;\n",
              "  line-height: 1em;\n",
              "  font-family: monospace;\n",
              "  background-color: var(--sklearn-color-background);\n",
              "  border-radius: 1em;\n",
              "  height: 1em;\n",
              "  width: 1em;\n",
              "  text-decoration: none !important;\n",
              "  margin-left: 0.5em;\n",
              "  text-align: center;\n",
              "  /* unfitted */\n",
              "  border: var(--sklearn-color-unfitted-level-1) 1pt solid;\n",
              "  color: var(--sklearn-color-unfitted-level-1);\n",
              "}\n",
              "\n",
              ".sk-estimator-doc-link.fitted,\n",
              "a:link.sk-estimator-doc-link.fitted,\n",
              "a:visited.sk-estimator-doc-link.fitted {\n",
              "  /* fitted */\n",
              "  border: var(--sklearn-color-fitted-level-1) 1pt solid;\n",
              "  color: var(--sklearn-color-fitted-level-1);\n",
              "}\n",
              "\n",
              "/* On hover */\n",
              "div.sk-estimator:hover .sk-estimator-doc-link:hover,\n",
              ".sk-estimator-doc-link:hover,\n",
              "div.sk-label-container:hover .sk-estimator-doc-link:hover,\n",
              ".sk-estimator-doc-link:hover {\n",
              "  /* unfitted */\n",
              "  background-color: var(--sklearn-color-unfitted-level-3);\n",
              "  color: var(--sklearn-color-background);\n",
              "  text-decoration: none;\n",
              "}\n",
              "\n",
              "div.sk-estimator.fitted:hover .sk-estimator-doc-link.fitted:hover,\n",
              ".sk-estimator-doc-link.fitted:hover,\n",
              "div.sk-label-container:hover .sk-estimator-doc-link.fitted:hover,\n",
              ".sk-estimator-doc-link.fitted:hover {\n",
              "  /* fitted */\n",
              "  background-color: var(--sklearn-color-fitted-level-3);\n",
              "  color: var(--sklearn-color-background);\n",
              "  text-decoration: none;\n",
              "}\n",
              "\n",
              "/* Span, style for the box shown on hovering the info icon */\n",
              ".sk-estimator-doc-link span {\n",
              "  display: none;\n",
              "  z-index: 9999;\n",
              "  position: relative;\n",
              "  font-weight: normal;\n",
              "  right: .2ex;\n",
              "  padding: .5ex;\n",
              "  margin: .5ex;\n",
              "  width: min-content;\n",
              "  min-width: 20ex;\n",
              "  max-width: 50ex;\n",
              "  color: var(--sklearn-color-text);\n",
              "  box-shadow: 2pt 2pt 4pt #999;\n",
              "  /* unfitted */\n",
              "  background: var(--sklearn-color-unfitted-level-0);\n",
              "  border: .5pt solid var(--sklearn-color-unfitted-level-3);\n",
              "}\n",
              "\n",
              ".sk-estimator-doc-link.fitted span {\n",
              "  /* fitted */\n",
              "  background: var(--sklearn-color-fitted-level-0);\n",
              "  border: var(--sklearn-color-fitted-level-3);\n",
              "}\n",
              "\n",
              ".sk-estimator-doc-link:hover span {\n",
              "  display: block;\n",
              "}\n",
              "\n",
              "/* \"?\"-specific style due to the `<a>` HTML tag */\n",
              "\n",
              "#sk-container-id-2 a.estimator_doc_link {\n",
              "  float: right;\n",
              "  font-size: 1rem;\n",
              "  line-height: 1em;\n",
              "  font-family: monospace;\n",
              "  background-color: var(--sklearn-color-background);\n",
              "  border-radius: 1rem;\n",
              "  height: 1rem;\n",
              "  width: 1rem;\n",
              "  text-decoration: none;\n",
              "  /* unfitted */\n",
              "  color: var(--sklearn-color-unfitted-level-1);\n",
              "  border: var(--sklearn-color-unfitted-level-1) 1pt solid;\n",
              "}\n",
              "\n",
              "#sk-container-id-2 a.estimator_doc_link.fitted {\n",
              "  /* fitted */\n",
              "  border: var(--sklearn-color-fitted-level-1) 1pt solid;\n",
              "  color: var(--sklearn-color-fitted-level-1);\n",
              "}\n",
              "\n",
              "/* On hover */\n",
              "#sk-container-id-2 a.estimator_doc_link:hover {\n",
              "  /* unfitted */\n",
              "  background-color: var(--sklearn-color-unfitted-level-3);\n",
              "  color: var(--sklearn-color-background);\n",
              "  text-decoration: none;\n",
              "}\n",
              "\n",
              "#sk-container-id-2 a.estimator_doc_link.fitted:hover {\n",
              "  /* fitted */\n",
              "  background-color: var(--sklearn-color-fitted-level-3);\n",
              "}\n",
              "</style><div id=\"sk-container-id-2\" class=\"sk-top-container\"><div class=\"sk-text-repr-fallback\"><pre>LinearRegression()</pre><b>In a Jupyter environment, please rerun this cell to show the HTML representation or trust the notebook. <br />On GitHub, the HTML representation is unable to render, please try loading this page with nbviewer.org.</b></div><div class=\"sk-container\" hidden><div class=\"sk-item\"><div class=\"sk-estimator fitted sk-toggleable\"><input class=\"sk-toggleable__control sk-hidden--visually\" id=\"sk-estimator-id-2\" type=\"checkbox\" checked><label for=\"sk-estimator-id-2\" class=\"sk-toggleable__label fitted sk-toggleable__label-arrow\"><div><div>LinearRegression</div></div><div><a class=\"sk-estimator-doc-link fitted\" rel=\"noreferrer\" target=\"_blank\" href=\"https://scikit-learn.org/1.6/modules/generated/sklearn.linear_model.LinearRegression.html\">?<span>Documentation for LinearRegression</span></a><span class=\"sk-estimator-doc-link fitted\">i<span>Fitted</span></span></div></label><div class=\"sk-toggleable__content fitted\"><pre>LinearRegression()</pre></div> </div></div></div></div>"
            ]
          },
          "metadata": {},
          "execution_count": 15
        }
      ]
    },
    {
      "cell_type": "code",
      "source": [
        "spread= (s73 - (model.coef_* s9 + model.intercept_)).squeeze()\n",
        "plt.plot(spread)"
      ],
      "metadata": {
        "colab": {
          "base_uri": "https://localhost:8080/",
          "height": 450
        },
        "collapsed": true,
        "id": "7gE6HG8vrDSV",
        "outputId": "2e92c8c1-f350-4af6-a214-6ae3850625df"
      },
      "execution_count": null,
      "outputs": [
        {
          "output_type": "execute_result",
          "data": {
            "text/plain": [
              "[<matplotlib.lines.Line2D at 0x7d55f195f050>]"
            ]
          },
          "metadata": {},
          "execution_count": 59
        },
        {
          "output_type": "display_data",
          "data": {
            "text/plain": [
              "<Figure size 640x480 with 1 Axes>"
            ],
            "image/png": "[encoded data removed]"
          },
          "metadata": {}
        }
      ]
    },
    {
      "cell_type": "code",
      "source": [
        "plt.plot(s9)\n",
        "plt.plot(s73)\n",
        "plt.show()"
      ],
      "metadata": {
        "colab": {
          "base_uri": "https://localhost:8080/",
          "height": 430
        },
        "id": "g_7exFrVr-i9",
        "outputId": "a8c94a9b-0b9f-4829-d5ab-1626acc8d325"
      },
      "execution_count": null,
      "outputs": [
        {
          "output_type": "display_data",
          "data": {
            "text/plain": [
              "<Figure size 640x480 with 1 Axes>"
            ],
            "image/png": "[encoded data removed]"
          },
          "metadata": {}
        }
      ]
    },
    {
      "cell_type": "code",
      "source": [
        "# mr_spy_iwm.py\n",
        "\n",
        "def calculate_spread_zscore(pairs, symbols, lookback=100):\n",
        "    \"\"\"\n",
        "    Creates a hedge ratio between the two symbols by calculating\n",
        "    a rolling linear regression with a defined lookback period. This\n",
        "    is then used to create a z-score of the 'spread' between the two\n",
        "    symbols based on a linear combination of the two.\n",
        "\n",
        "    Parameters\n",
        "    ----------\n",
        "    pairs : `pd.DataFrame`\n",
        "        A DataFrame containing Close price for SPY and IWM. Index is a\n",
        "        Datetime object.\n",
        "    symbols : `tup`\n",
        "        Tuple containing ticker symbols as `str`.\n",
        "    lookback : `int`, optional (default: 100)\n",
        "        Lookback preiod for rolling linear regression.\n",
        "\n",
        "    Returns\n",
        "    -------\n",
        "    pairs : 'pd.DataFrame'\n",
        "        Updated DataFrame containing the spread and z score between\n",
        "        the two symbols based on the rolling linear regression.\n",
        "    \"\"\"\n",
        "\n",
        "    def adaptive_zscore(series, window):\n",
        "      zscores = []\n",
        "      for i in range(len(series)):\n",
        "          if i == 0:\n",
        "              zscores.append(0)  # First value is always 0\n",
        "          else:\n",
        "              start = max(0, i - window)\n",
        "              data_window = series[start:i]  # up to but not including i\n",
        "              mean = data_window.mean()\n",
        "              std = data_window.std(ddof=0)\n",
        "              z = (series[i] - mean) / std if std != 0 else 0\n",
        "              zscores.append(z)\n",
        "      return pd.Series(zscores, index=series.index)\n",
        "\n",
        "    # Use the statsmodels Rolling Ordinary Least Squares method to fit\n",
        "    # a rolling linear regression between the two closing price time series\n",
        "    print(\"Fitting the rolling Linear Regression...\")\n",
        "\n",
        "    model = RollingOLS(\n",
        "        endog=pairs[symbols[0]],\n",
        "        exog=sm.add_constant(pairs[symbols[1]]),\n",
        "        window=lookback,\n",
        "        expanding=True\n",
        "    )\n",
        "    rres = model.fit()\n",
        "    params = rres.params.copy()\n",
        "\n",
        "\n",
        "    # Construct the hedge ratio and eliminate the first\n",
        "    # lookback-length empty/NaN period\n",
        "    pairs['hedge_ratio'] = params[symbols[1]]\n",
        "    pairs.dropna(inplace=True)\n",
        "\n",
        "    # Create the spread and then a z-score of the spread\n",
        "    print(\"Creating the spread/zscore columns...\")\n",
        "    pairs['spread'] = (\n",
        "        pairs[symbols[0]] - pairs['hedge_ratio']*pairs[symbols[1]]\n",
        "    )\n",
        "    expanding_df = pairs.expanding()\n",
        "    pairs['zscore'] = adaptive_zscore(pairs[\"spread\"], lookback)\n",
        "    pairs.loc[pairs.index[0], \"zscore\"]=0\n",
        "    return pairs\n",
        "\n",
        "pair = pd.DataFrame({\"stock1\":s9 , \"stock2\":s73})\n",
        "pair= calculate_spread_zscore(pair, (\"stock1\", \"stock2\"))"
      ],
      "metadata": {
        "colab": {
          "base_uri": "https://localhost:8080/"
        },
        "id": "VMc6OciP86rV",
        "outputId": "9d737f9d-8336-4155-c11c-c12c5ec9206a"
      },
      "execution_count": null,
      "outputs": [
        {
          "output_type": "stream",
          "name": "stdout",
          "text": [
            "Fitting the rolling Linear Regression...\n",
            "Creating the spread/zscore columns...\n"
          ]
        },
        {
          "output_type": "stream",
          "name": "stderr",
          "text": [
            "/usr/local/lib/python3.11/dist-packages/statsmodels/regression/rolling.py:255: RuntimeWarning: divide by zero encountered in scalar divide\n",
            "  s2 = ssr / (nobs - tot_params)\n"
          ]
        }
      ]
    },
    {
      "cell_type": "code",
      "source": [
        "plt.plot(pair[\"zscore\"])"
      ],
      "metadata": {
        "colab": {
          "base_uri": "https://localhost:8080/",
          "height": 447
        },
        "id": "xSNwyq4wodQj",
        "outputId": "ec8daa58-d741-4e44-8431-c59b1092ddae"
      },
      "execution_count": null,
      "outputs": [
        {
          "output_type": "execute_result",
          "data": {
            "text/plain": [
              "[<matplotlib.lines.Line2D at 0x7c15deebf550>]"
            ]
          },
          "metadata": {},
          "execution_count": 34
        },
        {
          "output_type": "display_data",
          "data": {
            "text/plain": [
              "<Figure size 640x480 with 1 Axes>"
            ],
            "image/png": "[encoded data removed]"
          },
          "metadata": {}
        }
      ]
    },
    {
      "cell_type": "code",
      "source": [
        "# mr_spy_iwm.py\n",
        "\n",
        "def create_long_short_market_signals(\n",
        "        pairs, z_entry_threshold=2.0, z_exit_threshold=1.0\n",
        "    ):\n",
        "    \"\"\"\n",
        "    Create the entry/exit signals based on the exceeding of z_entry_threshold\n",
        "    for entering a position and falling below z_exit_threshold for exiting\n",
        "    a position.\n",
        "\n",
        "    Parameters\n",
        "    ----------\n",
        "    pairs : `pd.DataFrame`\n",
        "        Updated DataFrame containing the close price, spread and z score\n",
        "        between the two symbols.\n",
        "    z_entry_threshold : `float`, optional (default:2.0)\n",
        "        Z Score threshold for market entry.\n",
        "    z_exit_threshold : `float`, optional (default:1.0)\n",
        "        Z Score threshold for market exit.\n",
        "\n",
        "    Returns\n",
        "    -------\n",
        "    pairs : `pd.DataFrame`\n",
        "        Updated DataFrame containing long, short and exit signals.\n",
        "    \"\"\"\n",
        "\n",
        "    # Calculate when to be long, short and when to exit\n",
        "    pairs['longs'] = (pairs['zscore'] <= -z_entry_threshold)*1.0\n",
        "    pairs['shorts'] = (pairs['zscore'] >= z_entry_threshold)*1.0\n",
        "    pairs['exits'] = (np.abs(pairs['zscore']) <= z_exit_threshold)*1.0\n",
        "\n",
        "    # These signals are needed because we need to propagate a\n",
        "    # position forward, i.e. we need to stay long if the zscore\n",
        "    # threshold is less than z_entry_threshold by still greater\n",
        "    # than z_exit_threshold, and vice versa for shorts.\n",
        "    pairs['long_market'] = 0.0\n",
        "    pairs['short_market'] = 0.0\n",
        "\n",
        "    # These variables track whether to be long or short while\n",
        "    # iterating through the bars\n",
        "    long_market = 0\n",
        "    short_market = 0\n",
        "\n",
        "    # Calculates when to actually be \"in\" the market, i.e. to have a\n",
        "    # long or short position, as well as when not to be.\n",
        "    # Since this is using iterrows to loop over a dataframe, it will\n",
        "    # be significantly less efficient than a vectorised operation,\n",
        "    # i.e. slow!\n",
        "    print(\"Calculating when to be in the market (long and short)...\")\n",
        "    for i, b in enumerate(pairs.iterrows()):\n",
        "        # Calculate longs\n",
        "        if b[1]['longs'] == 1.0:\n",
        "            long_market = 1\n",
        "        # Calculate shorts\n",
        "        if b[1]['shorts'] == 1.0:\n",
        "            short_market = 1\n",
        "        # Calculate exists\n",
        "        if b[1]['exits'] == 1.0:\n",
        "            long_market = 0\n",
        "            short_market = 0\n",
        "        # This directly assigns a 1 or 0 to the long_market/short_market\n",
        "        # columns, such that the strategy knows when to actually stay in!\n",
        "        pairs.at[pairs.index[i], 'long_market'] = long_market\n",
        "        pairs.at[pairs.index[i], 'short_market'] = short_market\n",
        "\n",
        "    return pairs\n",
        "pair= create_long_short_market_signals(pair, z_entry_threshold=1.5, z_exit_threshold= 0.5).copy()"
      ],
      "metadata": {
        "colab": {
          "base_uri": "https://localhost:8080/"
        },
        "id": "h9iU1y5zjTsd",
        "outputId": "a6b2337a-439d-41f1-f86b-4dfeb421aec5"
      },
      "execution_count": null,
      "outputs": [
        {
          "output_type": "stream",
          "name": "stdout",
          "text": [
            "Calculating when to be in the market (long and short)...\n"
          ]
        }
      ]
    },
    {
      "cell_type": "code",
      "source": [
        "pair.describe()"
      ],
      "metadata": {
        "colab": {
          "base_uri": "https://localhost:8080/",
          "height": 320
        },
        "id": "x2O1VupcwPGE",
        "outputId": "a9af73ce-6759-4ac4-d388-cab7cdb4aefa"
      },
      "execution_count": null,
      "outputs": [
        {
          "output_type": "execute_result",
          "data": {
            "text/plain": [
              "            stock1       stock2  hedge_ratio       spread       zscore  \\\n",
              "count  1132.000000  1132.000000  1132.000000  1132.000000  1132.000000   \n",
              "mean      0.194879     0.319555     0.089451     0.210498    -0.264372   \n",
              "std       0.171759     0.168795     1.129295     0.488205     1.332035   \n",
              "min       0.000000     0.099347    -9.593436    -6.767815    -3.747792   \n",
              "25%       0.070837     0.176189    -0.247093    -0.032017    -1.227341   \n",
              "50%       0.120515     0.281250     0.228478     0.046175    -0.266366   \n",
              "75%       0.311177     0.395756     0.511582     0.262533     0.796460   \n",
              "max       0.879485     1.000000    23.489698     3.991016     2.626889   \n",
              "\n",
              "             longs       shorts        exits  long_market  short_market  \n",
              "count  1132.000000  1132.000000  1132.000000  1132.000000   1132.000000  \n",
              "mean      0.195230     0.100707     0.257067     0.318021      0.176678  \n",
              "std       0.396553     0.301073     0.437210     0.465914      0.381565  \n",
              "min       0.000000     0.000000     0.000000     0.000000      0.000000  \n",
              "25%       0.000000     0.000000     0.000000     0.000000      0.000000  \n",
              "50%       0.000000     0.000000     0.000000     0.000000      0.000000  \n",
              "75%       0.000000     0.000000     1.000000     1.000000      0.000000  \n",
              "max       1.000000     1.000000     1.000000     1.000000      1.000000  "
            ],
            "text/html": [
              "\n",
              "  <div id=\"df-f08b8356-73b1-4707-8b27-0ddb21b5b447\" class=\"colab-df-container\">\n",
              "    <div>\n",
              "<style scoped>\n",
              "    .dataframe tbody tr th:only-of-type {\n",
              "        vertical-align: middle;\n",
              "    }\n",
              "\n",
              "    .dataframe tbody tr th {\n",
              "        vertical-align: top;\n",
              "    }\n",
              "\n",
              "    .dataframe thead th {\n",
              "        text-align: right;\n",
              "    }\n",
              "</style>\n",
              "<table border=\"1\" class=\"dataframe\">\n",
              "  <thead>\n",
              "    <tr style=\"text-align: right;\">\n",
              "      <th></th>\n",
              "      <th>stock1</th>\n",
              "      <th>stock2</th>\n",
              "      <th>hedge_ratio</th>\n",
              "      <th>spread</th>\n",
              "      <th>zscore</th>\n",
              "      <th>longs</th>\n",
              "      <th>shorts</th>\n",
              "      <th>exits</th>\n",
              "      <th>long_market</th>\n",
              "      <th>short_market</th>\n",
              "    </tr>\n",
              "  </thead>\n",
              "  <tbody>\n",
              "    <tr>\n",
              "      <th>count</th>\n",
              "      <td>1132.000000</td>\n",
              "      <td>1132.000000</td>\n",
              "      <td>1132.000000</td>\n",
              "      <td>1132.000000</td>\n",
              "      <td>1132.000000</td>\n",
              "      <td>1132.000000</td>\n",
              "      <td>1132.000000</td>\n",
              "      <td>1132.000000</td>\n",
              "      <td>1132.000000</td>\n",
              "      <td>1132.000000</td>\n",
              "    </tr>\n",
              "    <tr>\n",
              "      <th>mean</th>\n",
              "      <td>0.194879</td>\n",
              "      <td>0.319555</td>\n",
              "      <td>0.089451</td>\n",
              "      <td>0.210498</td>\n",
              "      <td>-0.264372</td>\n",
              "      <td>0.195230</td>\n",
              "      <td>0.100707</td>\n",
              "      <td>0.257067</td>\n",
              "      <td>0.318021</td>\n",
              "      <td>0.176678</td>\n",
              "    </tr>\n",
              "    <tr>\n",
              "      <th>std</th>\n",
              "      <td>0.171759</td>\n",
              "      <td>0.168795</td>\n",
              "      <td>1.129295</td>\n",
              "      <td>0.488205</td>\n",
              "      <td>1.332035</td>\n",
              "      <td>0.396553</td>\n",
              "      <td>0.301073</td>\n",
              "      <td>0.437210</td>\n",
              "      <td>0.465914</td>\n",
              "      <td>0.381565</td>\n",
              "    </tr>\n",
              "    <tr>\n",
              "      <th>min</th>\n",
              "      <td>0.000000</td>\n",
              "      <td>0.099347</td>\n",
              "      <td>-9.593436</td>\n",
              "      <td>-6.767815</td>\n",
              "      <td>-3.747792</td>\n",
              "      <td>0.000000</td>\n",
              "      <td>0.000000</td>\n",
              "      <td>0.000000</td>\n",
              "      <td>0.000000</td>\n",
              "      <td>0.000000</td>\n",
              "    </tr>\n",
              "    <tr>\n",
              "      <th>25%</th>\n",
              "      <td>0.070837</td>\n",
              "      <td>0.176189</td>\n",
              "      <td>-0.247093</td>\n",
              "      <td>-0.032017</td>\n",
              "      <td>-1.227341</td>\n",
              "      <td>0.000000</td>\n",
              "      <td>0.000000</td>\n",
              "      <td>0.000000</td>\n",
              "      <td>0.000000</td>\n",
              "      <td>0.000000</td>\n",
              "    </tr>\n",
              "    <tr>\n",
              "      <th>50%</th>\n",
              "      <td>0.120515</td>\n",
              "      <td>0.281250</td>\n",
              "      <td>0.228478</td>\n",
              "      <td>0.046175</td>\n",
              "      <td>-0.266366</td>\n",
              "      <td>0.000000</td>\n",
              "      <td>0.000000</td>\n",
              "      <td>0.000000</td>\n",
              "      <td>0.000000</td>\n",
              "      <td>0.000000</td>\n",
              "    </tr>\n",
              "    <tr>\n",
              "      <th>75%</th>\n",
              "      <td>0.311177</td>\n",
              "      <td>0.395756</td>\n",
              "      <td>0.511582</td>\n",
              "      <td>0.262533</td>\n",
              "      <td>0.796460</td>\n",
              "      <td>0.000000</td>\n",
              "      <td>0.000000</td>\n",
              "      <td>1.000000</td>\n",
              "      <td>1.000000</td>\n",
              "      <td>0.000000</td>\n",
              "    </tr>\n",
              "    <tr>\n",
              "      <th>max</th>\n",
              "      <td>0.879485</td>\n",
              "      <td>1.000000</td>\n",
              "      <td>23.489698</td>\n",
              "      <td>3.991016</td>\n",
              "      <td>2.626889</td>\n",
              "      <td>1.000000</td>\n",
              "      <td>1.000000</td>\n",
              "      <td>1.000000</td>\n",
              "      <td>1.000000</td>\n",
              "      <td>1.000000</td>\n",
              "    </tr>\n",
              "  </tbody>\n",
              "</table>\n",
              "</div>\n",
              "    <div class=\"colab-df-buttons\">\n",
              "\n",
              "  <div class=\"colab-df-container\">\n",
              "    <button class=\"colab-df-convert\" onclick=\"convertToInteractive('df-f08b8356-73b1-4707-8b27-0ddb21b5b447')\"\n",
              "            title=\"Convert this dataframe to an interactive table.\"\n",
              "            style=\"display:none;\">\n",
              "\n",
              "  <svg xmlns=\"http://www.w3.org/2000/svg\" height=\"24px\" viewBox=\"0 -960 960 960\">\n",
              "    <path d=\"M120-120v-720h720v720H120Zm60-500h600v-160H180v160Zm220 220h160v-160H400v160Zm0 220h160v-160H400v160ZM180-400h160v-160H180v160Zm440 0h160v-160H620v160ZM180-180h160v-160H180v160Zm440 0h160v-160H620v160Z\"/>\n",
              "  </svg>\n",
              "    </button>\n",
              "\n",
              "  <style>\n",
              "    .colab-df-container {\n",
              "      display:flex;\n",
              "      gap: 12px;\n",
              "    }\n",
              "\n",
              "    .colab-df-convert {\n",
              "      background-color: #E8F0FE;\n",
              "      border: none;\n",
              "      border-radius: 50%;\n",
              "      cursor: pointer;\n",
              "      display: none;\n",
              "      fill: #1967D2;\n",
              "      height: 32px;\n",
              "      padding: 0 0 0 0;\n",
              "      width: 32px;\n",
              "    }\n",
              "\n",
              "    .colab-df-convert:hover {\n",
              "      background-color: #E2EBFA;\n",
              "      box-shadow: 0px 1px 2px rgba(60, 64, 67, 0.3), 0px 1px 3px 1px rgba(60, 64, 67, 0.15);\n",
              "      fill: #174EA6;\n",
              "    }\n",
              "\n",
              "    .colab-df-buttons div {\n",
              "      margin-bottom: 4px;\n",
              "    }\n",
              "\n",
              "    [theme=dark] .colab-df-convert {\n",
              "      background-color: #3B4455;\n",
              "      fill: #D2E3FC;\n",
              "    }\n",
              "\n",
              "    [theme=dark] .colab-df-convert:hover {\n",
              "      background-color: #434B5C;\n",
              "      box-shadow: 0px 1px 3px 1px rgba(0, 0, 0, 0.15);\n",
              "      filter: drop-shadow(0px 1px 2px rgba(0, 0, 0, 0.3));\n",
              "      fill: #FFFFFF;\n",
              "    }\n",
              "  </style>\n",
              "\n",
              "    <script>\n",
              "      const buttonEl =\n",
              "        document.querySelector('#df-f08b8356-73b1-4707-8b27-0ddb21b5b447 button.colab-df-convert');\n",
              "      buttonEl.style.display =\n",
              "        google.colab.kernel.accessAllowed ? 'block' : 'none';\n",
              "\n",
              "      async function convertToInteractive(key) {\n",
              "        const element = document.querySelector('#df-f08b8356-73b1-4707-8b27-0ddb21b5b447');\n",
              "        const dataTable =\n",
              "          await google.colab.kernel.invokeFunction('convertToInteractive',\n",
              "                                                    [key], {});\n",
              "        if (!dataTable) return;\n",
              "\n",
              "        const docLinkHtml = 'Like what you see? Visit the ' +\n",
              "          '<a target=\"_blank\" href=https://colab.research.google.com/notebooks/data_table.ipynb>data table notebook</a>'\n",
              "          + ' to learn more about interactive tables.';\n",
              "        element.innerHTML = '';\n",
              "        dataTable['output_type'] = 'display_data';\n",
              "        await google.colab.output.renderOutput(dataTable, element);\n",
              "        const docLink = document.createElement('div');\n",
              "        docLink.innerHTML = docLinkHtml;\n",
              "        element.appendChild(docLink);\n",
              "      }\n",
              "    </script>\n",
              "  </div>\n",
              "\n",
              "\n",
              "    <div id=\"df-53fc4624-b141-4b06-bf8e-8e282834cf36\">\n",
              "      <button class=\"colab-df-quickchart\" onclick=\"quickchart('df-53fc4624-b141-4b06-bf8e-8e282834cf36')\"\n",
              "                title=\"Suggest charts\"\n",
              "                style=\"display:none;\">\n",
              "\n",
              "<svg xmlns=\"http://www.w3.org/2000/svg\" height=\"24px\"viewBox=\"0 0 24 24\"\n",
              "     width=\"24px\">\n",
              "    <g>\n",
              "        <path d=\"M19 3H5c-1.1 0-2 .9-2 2v14c0 1.1.9 2 2 2h14c1.1 0 2-.9 2-2V5c0-1.1-.9-2-2-2zM9 17H7v-7h2v7zm4 0h-2V7h2v10zm4 0h-2v-4h2v4z\"/>\n",
              "    </g>\n",
              "</svg>\n",
              "      </button>\n",
              "\n",
              "<style>\n",
              "  .colab-df-quickchart {\n",
              "      --bg-color: #E8F0FE;\n",
              "      --fill-color: #1967D2;\n",
              "      --hover-bg-color: #E2EBFA;\n",
              "      --hover-fill-color: #174EA6;\n",
              "      --disabled-fill-color: #AAA;\n",
              "      --disabled-bg-color: #DDD;\n",
              "  }\n",
              "\n",
              "  [theme=dark] .colab-df-quickchart {\n",
              "      --bg-color: #3B4455;\n",
              "      --fill-color: #D2E3FC;\n",
              "      --hover-bg-color: #434B5C;\n",
              "      --hover-fill-color: #FFFFFF;\n",
              "      --disabled-bg-color: #3B4455;\n",
              "      --disabled-fill-color: #666;\n",
              "  }\n",
              "\n",
              "  .colab-df-quickchart {\n",
              "    background-color: var(--bg-color);\n",
              "    border: none;\n",
              "    border-radius: 50%;\n",
              "    cursor: pointer;\n",
              "    display: none;\n",
              "    fill: var(--fill-color);\n",
              "    height: 32px;\n",
              "    padding: 0;\n",
              "    width: 32px;\n",
              "  }\n",
              "\n",
              "  .colab-df-quickchart:hover {\n",
              "    background-color: var(--hover-bg-color);\n",
              "    box-shadow: 0 1px 2px rgba(60, 64, 67, 0.3), 0 1px 3px 1px rgba(60, 64, 67, 0.15);\n",
              "    fill: var(--button-hover-fill-color);\n",
              "  }\n",
              "\n",
              "  .colab-df-quickchart-complete:disabled,\n",
              "  .colab-df-quickchart-complete:disabled:hover {\n",
              "    background-color: var(--disabled-bg-color);\n",
              "    fill: var(--disabled-fill-color);\n",
              "    box-shadow: none;\n",
              "  }\n",
              "\n",
              "  .colab-df-spinner {\n",
              "    border: 2px solid var(--fill-color);\n",
              "    border-color: transparent;\n",
              "    border-bottom-color: var(--fill-color);\n",
              "    animation:\n",
              "      spin 1s steps(1) infinite;\n",
              "  }\n",
              "\n",
              "  @keyframes spin {\n",
              "    0% {\n",
              "      border-color: transparent;\n",
              "      border-bottom-color: var(--fill-color);\n",
              "      border-left-color: var(--fill-color);\n",
              "    }\n",
              "    20% {\n",
              "      border-color: transparent;\n",
              "      border-left-color: var(--fill-color);\n",
              "      border-top-color: var(--fill-color);\n",
              "    }\n",
              "    30% {\n",
              "      border-color: transparent;\n",
              "      border-left-color: var(--fill-color);\n",
              "      border-top-color: var(--fill-color);\n",
              "      border-right-color: var(--fill-color);\n",
              "    }\n",
              "    40% {\n",
              "      border-color: transparent;\n",
              "      border-right-color: var(--fill-color);\n",
              "      border-top-color: var(--fill-color);\n",
              "    }\n",
              "    60% {\n",
              "      border-color: transparent;\n",
              "      border-right-color: var(--fill-color);\n",
              "    }\n",
              "    80% {\n",
              "      border-color: transparent;\n",
              "      border-right-color: var(--fill-color);\n",
              "      border-bottom-color: var(--fill-color);\n",
              "    }\n",
              "    90% {\n",
              "      border-color: transparent;\n",
              "      border-bottom-color: var(--fill-color);\n",
              "    }\n",
              "  }\n",
              "</style>\n",
              "\n",
              "      <script>\n",
              "        async function quickchart(key) {\n",
              "          const quickchartButtonEl =\n",
              "            document.querySelector('#' + key + ' button');\n",
              "          quickchartButtonEl.disabled = true;  // To prevent multiple clicks.\n",
              "          quickchartButtonEl.classList.add('colab-df-spinner');\n",
              "          try {\n",
              "            const charts = await google.colab.kernel.invokeFunction(\n",
              "                'suggestCharts', [key], {});\n",
              "          } catch (error) {\n",
              "            console.error('Error during call to suggestCharts:', error);\n",
              "          }\n",
              "          quickchartButtonEl.classList.remove('colab-df-spinner');\n",
              "          quickchartButtonEl.classList.add('colab-df-quickchart-complete');\n",
              "        }\n",
              "        (() => {\n",
              "          let quickchartButtonEl =\n",
              "            document.querySelector('#df-53fc4624-b141-4b06-bf8e-8e282834cf36 button');\n",
              "          quickchartButtonEl.style.display =\n",
              "            google.colab.kernel.accessAllowed ? 'block' : 'none';\n",
              "        })();\n",
              "      </script>\n",
              "    </div>\n",
              "    </div>\n",
              "  </div>\n"
            ],
            "application/vnd.google.colaboratory.intrinsic+json": {
              "type": "dataframe",
              "summary": "{\n  \"name\": \"pair\",\n  \"rows\": 8,\n  \"fields\": [\n    {\n      \"column\": \"stock1\",\n      \"properties\": {\n        \"dtype\": \"number\",\n        \"std\": 400.1342107491079,\n        \"min\": 0.0,\n        \"max\": 1132.0,\n        \"num_unique_values\": 8,\n        \"samples\": [\n          0.19487938284873962,\n          0.12051516771316528,\n          1132.0\n        ],\n        \"semantic_type\": \"\",\n        \"description\": \"\"\n      }\n    },\n    {\n      \"column\": \"stock2\",\n      \"properties\": {\n        \"dtype\": \"number\",\n        \"std\": 400.0992537609118,\n        \"min\": 0.09934702515602112,\n        \"max\": 1132.0,\n        \"num_unique_values\": 8,\n        \"samples\": [\n          0.31955480575561523,\n          0.2812500298023224,\n          1132.0\n        ],\n        \"semantic_type\": \"\",\n        \"description\": \"\"\n      }\n    },\n    {\n      \"column\": \"hedge_ratio\",\n      \"properties\": {\n        \"dtype\": \"number\",\n        \"std\": 399.54330178413375,\n        \"min\": -9.593435826805253,\n        \"max\": 1132.0,\n        \"num_unique_values\": 8,\n        \"samples\": [\n          0.08945139212877692,\n          0.228478269087329,\n          1132.0\n        ],\n        \"semantic_type\": \"\",\n        \"description\": \"\"\n      }\n    },\n    {\n      \"column\": \"spread\",\n      \"properties\": {\n        \"dtype\": \"number\",\n        \"std\": 400.32441811256916,\n        \"min\": -6.7678151882487745,\n        \"max\": 1132.0,\n        \"num_unique_values\": 8,\n        \"samples\": [\n          0.21049766529211997,\n          0.04617510076732596,\n          1132.0\n        ],\n        \"semantic_type\": \"\",\n        \"description\": \"\"\n      }\n    },\n    {\n      \"column\": \"zscore\",\n      \"properties\": {\n        \"dtype\": \"number\",\n        \"std\": 400.26479084861035,\n        \"min\": -3.7477918521693523,\n        \"max\": 1132.0,\n        \"num_unique_values\": 8,\n        \"samples\": [\n          -0.26437184368820804,\n          -0.2663664047615192,\n          1132.0\n        ],\n        \"semantic_type\": \"\",\n        \"description\": \"\"\n      }\n    },\n    {\n      \"column\": \"longs\",\n      \"properties\": {\n        \"dtype\": \"number\",\n        \"std\": 400.1421897739132,\n        \"min\": 0.0,\n        \"max\": 1132.0,\n        \"num_unique_values\": 5,\n        \"samples\": [\n          0.19522968197879859,\n          1.0,\n          0.39655260708769474\n        ],\n        \"semantic_type\": \"\",\n        \"description\": \"\"\n      }\n    },\n    {\n      \"column\": \"shorts\",\n      \"properties\": {\n        \"dtype\": \"number\",\n        \"std\": 400.1517839710877,\n        \"min\": 0.0,\n        \"max\": 1132.0,\n        \"num_unique_values\": 5,\n        \"samples\": [\n          0.10070671378091872,\n          1.0,\n          0.3010729921822155\n        ],\n        \"semantic_type\": \"\",\n        \"description\": \"\"\n      }\n    },\n    {\n      \"column\": \"exits\",\n      \"properties\": {\n        \"dtype\": \"number\",\n        \"std\": 400.08657446077666,\n        \"min\": 0.0,\n        \"max\": 1132.0,\n        \"num_unique_values\": 5,\n        \"samples\": [\n          0.2570671378091873,\n          1.0,\n          0.4372098890565958\n        ],\n        \"semantic_type\": \"\",\n        \"description\": \"\"\n      }\n    },\n    {\n      \"column\": \"long_market\",\n      \"properties\": {\n        \"dtype\": \"number\",\n        \"std\": 400.08204442133007,\n        \"min\": 0.0,\n        \"max\": 1132.0,\n        \"num_unique_values\": 5,\n        \"samples\": [\n          0.31802120141342755,\n          1.0,\n          0.4659135967711254\n        ],\n        \"semantic_type\": \"\",\n        \"description\": \"\"\n      }\n    },\n    {\n      \"column\": \"short_market\",\n      \"properties\": {\n        \"dtype\": \"number\",\n        \"std\": 400.14388312560857,\n        \"min\": 0.0,\n        \"max\": 1132.0,\n        \"num_unique_values\": 5,\n        \"samples\": [\n          0.17667844522968199,\n          1.0,\n          0.3815649182951959\n        ],\n        \"semantic_type\": \"\",\n        \"description\": \"\"\n      }\n    }\n  ]\n}"
            }
          },
          "metadata": {},
          "execution_count": 58
        }
      ]
    },
    {
      "cell_type": "code",
      "source": [
        "# mr_spy_iwm.py\n",
        "\n",
        "def create_portfolio_returns(pairs, symbols):\n",
        "    \"\"\"\n",
        "    Creates a portfolio pandas DataFrame which keeps track of\n",
        "    the account equity and ultimately generates an equity curve.\n",
        "    This can be used to generate drawdown and risk/reward ratios.\n",
        "\n",
        "    Parameters\n",
        "    ----------\n",
        "    pairs : `pd.DataFrame`\n",
        "        Updated DataFrame containing the close price, spread and z score\n",
        "        between the two symbols and the long, short and exit signals.\n",
        "    symbols : `tup`\n",
        "        Tuple containing ticker symbols as `str`.\n",
        "\n",
        "    Returns\n",
        "    -------\n",
        "    portfolio : 'pd.DataFrame'\n",
        "        A DataFrame with datetime index from the pairs DataFrame, positions,\n",
        "        total market value and returns.\n",
        "    \"\"\"\n",
        "\n",
        "    # Convenience variables for symbols\n",
        "\n",
        "    # Construct the portfolio object with positions information\n",
        "    # Note the minuses to keep track of shorts!\n",
        "    print(\"Constructing a portfolio...\")\n",
        "    portfolio = pd.DataFrame(index=pairs.index)\n",
        "    portfolio['positions'] = pairs['long_market'] - pairs['short_market']\n",
        "    portfolio[symbols[0]] = portfolio['positions'] * 1.0 * pairs[symbols[0]]\n",
        "    portfolio[symbols[1]] = portfolio['positions'] * (-pairs['hedge_ratio']) * pairs[symbols[1]]\n",
        "\n",
        "    portfolio['total'] = portfolio[symbols[0]] + portfolio[symbols[1]]\n",
        "\n",
        "    # Construct a percentage returns stream and eliminate all\n",
        "    # of the NaN and -inf/+inf cells\n",
        "    entry_spread = None\n",
        "    position = 0  # 1 for long, -1 for short, 0 for no position\n",
        "    rewards = []\n",
        "\n",
        "    for i in range(len(pairs)):\n",
        "        current_spread = pairs['spread'].iloc[i]\n",
        "        long_signal = pairs['long_market'].iloc[i]\n",
        "        short_signal = pairs['short_market'].iloc[i]\n",
        "\n",
        "        # Entry\n",
        "        if position == 0:\n",
        "            if long_signal == 1:\n",
        "                position = 1\n",
        "                entry_spread = current_spread\n",
        "            elif short_signal == 1:\n",
        "                position = -1\n",
        "                entry_spread = current_spread\n",
        "            rewards.append(0.0)\n",
        "\n",
        "        # Exit\n",
        "        elif (long_signal == 0 and position == 1) or (short_signal == 0 and position == -1):\n",
        "            reward = (entry_spread - current_spread) * position\n",
        "            rewards.append(reward)\n",
        "            position = 0\n",
        "            entry_spread = None\n",
        "\n",
        "        # Hold\n",
        "        else:\n",
        "            rewards.append(0.0)\n",
        "\n",
        "    portfolio['reward'] = rewards\n",
        "\n",
        "    portfolio['cumulative_reward'] = pd.Series(rewards).cumsum().values\n",
        "\n",
        "    return portfolio\n",
        "\n",
        "port= create_portfolio_returns(pair, (\"stock1\", \"stock2\"))"
      ],
      "metadata": {
        "colab": {
          "base_uri": "https://localhost:8080/"
        },
        "id": "u3oV4RYJp54T",
        "outputId": "61ad16cf-16b0-4b1b-fb01-576228eb390a"
      },
      "execution_count": null,
      "outputs": [
        {
          "output_type": "stream",
          "name": "stdout",
          "text": [
            "Constructing a portfolio...\n"
          ]
        }
      ]
    },
    {
      "cell_type": "code",
      "source": [
        "plt.plot(pair[\"hedge_ratio\"])"
      ],
      "metadata": {
        "colab": {
          "base_uri": "https://localhost:8080/",
          "height": 451
        },
        "id": "R1I8GA4xy2mW",
        "outputId": "a58cbc76-3d2b-464c-84e8-c053b0ac61bc"
      },
      "execution_count": null,
      "outputs": [
        {
          "output_type": "execute_result",
          "data": {
            "text/plain": [
              "[<matplotlib.lines.Line2D at 0x7c15de911750>]"
            ]
          },
          "metadata": {},
          "execution_count": 72
        },
        {
          "output_type": "display_data",
          "data": {
            "text/plain": [
              "<Figure size 640x480 with 1 Axes>"
            ],
            "image/png": "[encoded data removed]"
          },
          "metadata": {}
        }
      ]
    },
    {
      "cell_type": "code",
      "source": [
        "plt.plot(port[\"positions\"])"
      ],
      "metadata": {
        "colab": {
          "base_uri": "https://localhost:8080/",
          "height": 447
        },
        "id": "dJGJY4uvUmt5",
        "outputId": "c5975050-3694-4600-9a88-a96d86ee4cb9"
      },
      "execution_count": null,
      "outputs": [
        {
          "output_type": "execute_result",
          "data": {
            "text/plain": [
              "[<matplotlib.lines.Line2D at 0x7c15ddfc1190>]"
            ]
          },
          "metadata": {},
          "execution_count": 73
        },
        {
          "output_type": "display_data",
          "data": {
            "text/plain": [
              "<Figure size 640x480 with 1 Axes>"
            ],
            "image/png": "[encoded data removed]"
          },
          "metadata": {}
        }
      ]
    },
    {
      "cell_type": "code",
      "source": [
        "plt.plot(port[\"reward\"])"
      ],
      "metadata": {
        "colab": {
          "base_uri": "https://localhost:8080/",
          "height": 447
        },
        "id": "k2qM2AFb1hnc",
        "outputId": "b03d9eb2-b40f-4b5f-9e15-2ddaec2d2635"
      },
      "execution_count": null,
      "outputs": [
        {
          "output_type": "execute_result",
          "data": {
            "text/plain": [
              "[<matplotlib.lines.Line2D at 0x7c15de20a690>]"
            ]
          },
          "metadata": {},
          "execution_count": 78
        },
        {
          "output_type": "display_data",
          "data": {
            "text/plain": [
              "<Figure size 640x480 with 1 Axes>"
            ],
            "image/png": "[encoded data removed]"
          },
          "metadata": {}
        }
      ]
    },
    {
      "cell_type": "code",
      "source": [
        "plt.plot(port[\"cumulative_reward\"])"
      ],
      "metadata": {
        "colab": {
          "base_uri": "https://localhost:8080/",
          "height": 447
        },
        "id": "68FkmHFWvxmd",
        "outputId": "852c7da0-90b0-43dc-896d-590a18f90df0"
      },
      "execution_count": null,
      "outputs": [
        {
          "output_type": "execute_result",
          "data": {
            "text/plain": [
              "[<matplotlib.lines.Line2D at 0x7c15de608710>]"
            ]
          },
          "metadata": {},
          "execution_count": 77
        },
        {
          "output_type": "display_data",
          "data": {
            "text/plain": [
              "<Figure size 640x480 with 1 Axes>"
            ],
            "image/png": "[encoded data removed]"
          },
          "metadata": {}
        }
      ]
    },
    {
      "cell_type": "code",
      "source": [
        "def backtest(thres, stock1, stock2, spread):\n",
        "  profit=[]"
      ],
      "metadata": {
        "id": "4uYBHAtTujPt"
      },
      "execution_count": null,
      "outputs": []
    },
    {
      "cell_type": "code",
      "source": [
        "plt.imshow(normalized[5000:], cmap='viridis', interpolation='nearest')\n",
        "plt.colorbar()"
      ],
      "metadata": {
        "colab": {
          "base_uri": "https://localhost:8080/",
          "height": 452
        },
        "id": "SJ7gQQapJFXs",
        "outputId": "42c662ea-e75d-455f-913f-d463b34e7c8a"
      },
      "execution_count": null,
      "outputs": [
        {
          "output_type": "execute_result",
          "data": {
            "text/plain": [
              "<matplotlib.colorbar.Colorbar at 0x79b48a2a7ad0>"
            ]
          },
          "metadata": {},
          "execution_count": 86
        },
        {
          "output_type": "display_data",
          "data": {
            "text/plain": [
              "<Figure size 640x480 with 2 Axes>"
            ],
            "image/png": "[encoded data removed]"
          },
          "metadata": {}
        }
      ]
    },
    {
      "cell_type": "code",
      "source": [],
      "metadata": {
        "id": "EiXlkAgIJJT6"
      },
      "execution_count": null,
      "outputs": []
    }
  ]
}