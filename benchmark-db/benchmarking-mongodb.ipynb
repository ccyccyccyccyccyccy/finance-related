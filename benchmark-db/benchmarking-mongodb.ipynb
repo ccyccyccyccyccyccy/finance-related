{
 "cells": [
  {
   "cell_type": "code",
   "execution_count": 1,
   "id": "d870e854",
   "metadata": {},
   "outputs": [],
   "source": [
    "from pymongo.mongo_client import MongoClient\n",
    "from pymongo.server_api import ServerApi\n",
    "import dotenv\n",
    "import os\n",
    "from pydantic import BaseModel, Json\n",
    "from datetime import datetime\n",
    "\n",
    "class StockTimeSeries(BaseModel):\n",
    "    #TODO: decide which fields to keep\n",
    "    timestamp: datetime\n",
    "    ticker: str\n",
    "    open: float\n",
    "    high: float\n",
    "    low: float\n",
    "    close: float\n",
    "    volume: int\n",
    "    # dividendYield: float\n",
    "    # splits: int\n",
    "\n",
    "def connect_to_mongodb():\n",
    "    # Load environment variables from .env file\n",
    "    dotenv.load_dotenv()\n",
    "    uri = \"mongodb://127.0.0.1:27017\"\n",
    "    client = MongoClient(uri, server_api=ServerApi('1'))\n",
    "    db = client['stock_data']\n",
    "    collection = db['stocks']\n",
    "    return client, collection"
   ]
  },
  {
   "cell_type": "code",
   "execution_count": 2,
   "id": "39f45c07",
   "metadata": {},
   "outputs": [
    {
     "data": {
      "text/plain": [
       "(MongoClient(host=['127.0.0.1:27017'], document_class=dict, tz_aware=False, connect=True, server_api=<pymongo.server_api.ServerApi object at 0x000001D9EE8C30E0>),\n",
       " Collection(Database(MongoClient(host=['127.0.0.1:27017'], document_class=dict, tz_aware=False, connect=True, server_api=<pymongo.server_api.ServerApi object at 0x000001D9EE8C30E0>), 'stock_data'), 'stocks'))"
      ]
     },
     "execution_count": 2,
     "metadata": {},
     "output_type": "execute_result"
    }
   ],
   "source": [
    "connect_to_mongodb()"
   ]
  },
  {
   "cell_type": "code",
   "execution_count": 15,
   "id": "de938441",
   "metadata": {},
   "outputs": [],
   "source": [
    "import pandas as pd\n",
    "import glob \n",
    "import os"
   ]
  },
  {
   "cell_type": "code",
   "execution_count": 5,
   "id": "a6174bbe",
   "metadata": {},
   "outputs": [],
   "source": [
    "client, collection = connect_to_mongodb()"
   ]
  },
  {
   "cell_type": "code",
   "execution_count": 12,
   "id": "b965ee6e",
   "metadata": {},
   "outputs": [],
   "source": [
    "def insert_into_mongodb(csv_path:str, ticker:str, collection):\n",
    "    df = pd.read_csv(csv_path)\n",
    "    df['ticker'] = ticker\n",
    "    df.sort_values(by='date', inplace=True, ascending=True)\n",
    "    df['time'] = pd.to_datetime(df['date'])\n",
    "    df = df[[\"time\", \"ticker\", \"open\", \"high\", \"low\", \"close\", \"volume\"]]\n",
    "\n",
    "    result = collection.insert_many(df.to_dict(orient=\"records\"))\n",
    "    return "
   ]
  },
  {
   "cell_type": "markdown",
   "id": "246ebebc",
   "metadata": {},
   "source": [
    "test"
   ]
  },
  {
   "cell_type": "code",
   "execution_count": 10,
   "id": "0ae02e99",
   "metadata": {},
   "outputs": [],
   "source": [
    "dataset_path= r\"C:\\Users\\USER\\Desktop\\AQA_data\\data base\\dataset\\ACC.csv\"\n",
    "ticker = \"ACC\"\n",
    "insert_into_mongodb(dataset_path, ticker)"
   ]
  },
  {
   "cell_type": "code",
   "execution_count": 13,
   "id": "7ba1833f",
   "metadata": {},
   "outputs": [
    {
     "name": "stdout",
     "output_type": "stream",
     "text": [
      "Document found: {'_id': ObjectId('68ac219a572a4b2eb1bd51ca'), 'time': datetime.datetime(2015, 2, 2, 9, 15), 'ticker': 'ACC', 'open': 1554.9, 'high': 1556.7, 'low': 1544.8, 'close': 1549.6, 'volume': 1441}\n"
     ]
    }
   ],
   "source": [
    "\n",
    "doc = collection.find_one({\"ticker\": \"ACC\"})\n",
    "if doc:\n",
    "    print(\"Document found:\", doc)\n",
    "else:\n",
    "    print(\"Document not found.\")\n"
   ]
  },
  {
   "cell_type": "code",
   "execution_count": 18,
   "id": "98b3fae6",
   "metadata": {},
   "outputs": [],
   "source": [
    "base_dir = r\"C:\\Users\\USER\\Desktop\\AQA_data\\data base\\dataset\"\n",
    "csv_list = glob.glob(os.path.join(base_dir, \"*.csv\"))\n",
    "csv_list.sort()\n",
    "write_record = pd.read_csv(r\"C:\\Users\\USER\\write_record.csv\")"
   ]
  },
  {
   "cell_type": "code",
   "execution_count": 16,
   "id": "884c448b",
   "metadata": {},
   "outputs": [],
   "source": [
    "def seed_database(dataframe):\n",
    "        for idx, row in dataframe.iterrows():\n",
    "            if row['written'] == 1:\n",
    "                ticker = os.path.splitext(os.path.basename(row['stocks']))[0]\n",
    "                if ticker == 'ACC':\n",
    "                    continue #already written\n",
    "                insert_into_mongodb(row[\"stocks\"], ticker, collection)\n",
    "                dataframe.at[idx, 'mongo_written'] = 1\n",
    "                dataframe.to_csv(\"write_record.csv\", index=False)\n",
    "                print(f\"Inserted data for {ticker}\")"
   ]
  },
  {
   "cell_type": "code",
   "execution_count": 19,
   "id": "7eb114a9",
   "metadata": {},
   "outputs": [
    {
     "name": "stdout",
     "output_type": "stream",
     "text": [
      "Inserted data for ADANIENT\n",
      "Inserted data for ADANIGREEN\n",
      "Inserted data for ADANIPORTS\n",
      "Inserted data for AMBUJACEM\n",
      "Inserted data for APOLLOHOSP\n",
      "Inserted data for ASIANPAINT\n",
      "Inserted data for AUROPHARMA\n",
      "Inserted data for AXISBANK\n",
      "Inserted data for BAJAJ-AUTO\n",
      "Inserted data for BAJAJHLDNG\n",
      "Inserted data for BAJFINANCE\n",
      "Inserted data for BANDHANBNK\n",
      "Inserted data for BANKBARODA\n",
      "Inserted data for BERGEPAINT\n",
      "Inserted data for BHARTIARTL\n",
      "Inserted data for BIOCON\n"
     ]
    }
   ],
   "source": [
    "seed_database(write_record)"
   ]
  },
  {
   "cell_type": "code",
   "execution_count": 3,
   "id": "4a62c70f",
   "metadata": {},
   "outputs": [],
   "source": [
    "import time\n",
    "from concurrent.futures import ThreadPoolExecutor\n",
    "\n",
    "def run_query(start_time: str, end_time: str):\n",
    "    start = time.time()\n",
    "    result = collection.find(\n",
    "        {\n",
    "            \"time\": {\"$gt\": start_time, \"$lt\": end_time},\n",
    "            \"ticker\": \"ACC\"\n",
    "        },\n",
    "        {\"_id\": 0, \"close\": 1}\n",
    "    )\n",
    "    latency = time.time() - start\n",
    "    return latency\n",
    "\n",
    "\n",
    "def run_query_concurrent(start_time: str, end_time: str, concurrency: int):\n",
    "    with ThreadPoolExecutor(max_workers=concurrency) as executor:\n",
    "        latencies = list(executor.map(\n",
    "            lambda _: run_query(start_time, end_time),\n",
    "            range(concurrency)\n",
    "        ))\n",
    "    return sum(latencies) / len(latencies)\n",
    "\n",
    "def benchmark_performance_by_returned_rows(start_time: str, end_time: str, concurrency: int = 1):\n",
    "    row_count = collection.count_documents({\n",
    "        \"time\": {\"$gt\": start_time, \"$lt\": end_time},\n",
    "        \"ticker\": \"ADANIENT\"\n",
    "    })\n",
    "    print(f\"Row count for the query: {row_count}\")\n",
    "    return run_query_concurrent(start_time, end_time, concurrency)"
   ]
  },
  {
   "cell_type": "code",
   "execution_count": 6,
   "id": "c3e1b728",
   "metadata": {},
   "outputs": [
    {
     "name": "stdout",
     "output_type": "stream",
     "text": [
      "Row count for the query: 374\n"
     ]
    },
    {
     "data": {
      "text/plain": [
       "0.00011658668518066406"
      ]
     },
     "execution_count": 6,
     "metadata": {},
     "output_type": "execute_result"
    }
   ],
   "source": [
    "start_time= datetime.strptime(\"2015-02-02 09:15:00\", \"%Y-%m-%d %H:%M:%S\")\n",
    "end_time= datetime.strptime(\"2015-02-03 09:15:00\", \"%Y-%m-%d %H:%M:%S\")\n",
    "benchmark_performance_by_returned_rows(start_time, end_time)"
   ]
  },
  {
   "cell_type": "code",
   "execution_count": 7,
   "id": "35d37aea",
   "metadata": {},
   "outputs": [
    {
     "name": "stdout",
     "output_type": "stream",
     "text": [
      "Row count for the query: 7499\n"
     ]
    },
    {
     "data": {
      "text/plain": [
       "0.00021791458129882812"
      ]
     },
     "execution_count": 7,
     "metadata": {},
     "output_type": "execute_result"
    }
   ],
   "source": [
    "start_time= datetime.strptime(\"2015-02-02 09:15:00\", \"%Y-%m-%d %H:%M:%S\")\n",
    "end_time= datetime.strptime(\"2015-03-02 09:15:00\", \"%Y-%m-%d %H:%M:%S\")\n",
    "benchmark_performance_by_returned_rows(start_time, end_time)"
   ]
  },
  {
   "cell_type": "code",
   "execution_count": 8,
   "id": "eeb3818f",
   "metadata": {},
   "outputs": [
    {
     "name": "stdout",
     "output_type": "stream",
     "text": [
      "Row count for the query: 92232\n"
     ]
    },
    {
     "data": {
      "text/plain": [
       "5.0067901611328125e-05"
      ]
     },
     "execution_count": 8,
     "metadata": {},
     "output_type": "execute_result"
    }
   ],
   "source": [
    "start_time= datetime.strptime(\"2015-02-02 09:15:00\", \"%Y-%m-%d %H:%M:%S\")\n",
    "end_time= datetime.strptime(\"2016-02-02 09:15:00\", \"%Y-%m-%d %H:%M:%S\")\n",
    "benchmark_performance_by_returned_rows(start_time, end_time)"
   ]
  },
  {
   "cell_type": "code",
   "execution_count": 10,
   "id": "5311c946",
   "metadata": {},
   "outputs": [
    {
     "name": "stdout",
     "output_type": "stream",
     "text": [
      "Row count for the query: 461577\n"
     ]
    },
    {
     "data": {
      "text/plain": [
       "2.7418136596679688e-05"
      ]
     },
     "execution_count": 10,
     "metadata": {},
     "output_type": "execute_result"
    }
   ],
   "source": [
    "start_time= datetime.strptime(\"2015-02-02 09:15:00\", \"%Y-%m-%d %H:%M:%S\")\n",
    "end_time= datetime.strptime(\"2020-02-02 09:15:00\", \"%Y-%m-%d %H:%M:%S\")\n",
    "benchmark_performance_by_returned_rows(start_time, end_time)"
   ]
  },
  {
   "cell_type": "code",
   "execution_count": 9,
   "id": "56506db0",
   "metadata": {},
   "outputs": [
    {
     "name": "stdout",
     "output_type": "stream",
     "text": [
      "Row count for the query: 830903\n"
     ]
    },
    {
     "data": {
      "text/plain": [
       "4.2438507080078125e-05"
      ]
     },
     "execution_count": 9,
     "metadata": {},
     "output_type": "execute_result"
    }
   ],
   "source": [
    "start_time= datetime.strptime(\"2015-02-02 09:15:00\", \"%Y-%m-%d %H:%M:%S\")\n",
    "end_time= datetime.strptime(\"2025-02-02 09:15:00\", \"%Y-%m-%d %H:%M:%S\")\n",
    "benchmark_performance_by_returned_rows(start_time, end_time)"
   ]
  },
  {
   "cell_type": "code",
   "execution_count": 40,
   "id": "79f8427d",
   "metadata": {},
   "outputs": [],
   "source": [
    "\n",
    "\n",
    "def run_agg_query(start_time: str, end_time: str):\n",
    "    start = time.time()\n",
    "    pipeline = [\n",
    "        {\"$match\": {\n",
    "            \"time\": {\"$gt\": start_time, \"$lt\": end_time},\n",
    "            \"ticker\": \"ACC\"\n",
    "        }},\n",
    "        {\"$group\": {\n",
    "            \"_id\": None,\n",
    "            \"maxClose\": {\"$max\": \"$close\"}\n",
    "        }}\n",
    "    ]\n",
    "    result = list(collection.aggregate(pipeline))\n",
    "    latency = time.time() - start\n",
    "    return latency\n",
    "\n",
    "def run_agg_query_concurrent(start_time: str, end_time: str, concurrency: int):\n",
    "    with ThreadPoolExecutor(max_workers=concurrency) as executor:\n",
    "        latencies = list(executor.map(\n",
    "            lambda _: run_agg_query(start_time, end_time),\n",
    "            range(concurrency)\n",
    "        ))\n",
    "    return sum(latencies) / len(latencies)\n",
    "\n",
    "def benchmark_agg_by_involved_rows(start_time: str, end_time: str, concurrency: int = 1):\n",
    "    row_count = collection.count_documents({\n",
    "        \"time\": {\"$gt\": start_time, \"$lt\": end_time},\n",
    "        \"ticker\": \"ACC\"\n",
    "    })\n",
    "    print(f\"Row count for the query: {row_count}\")\n",
    "    return run_agg_query_concurrent(start_time, end_time, concurrency)\n"
   ]
  },
  {
   "cell_type": "code",
   "execution_count": 41,
   "id": "034c4c5c",
   "metadata": {},
   "outputs": [
    {
     "name": "stdout",
     "output_type": "stream",
     "text": [
      "Row count for the query: 374\n"
     ]
    },
    {
     "data": {
      "text/plain": [
       "4.769644021987915"
      ]
     },
     "execution_count": 41,
     "metadata": {},
     "output_type": "execute_result"
    }
   ],
   "source": [
    "start_time= datetime.strptime(\"2015-02-02 09:15:00\", \"%Y-%m-%d %H:%M:%S\")\n",
    "end_time= datetime.strptime(\"2015-02-03 09:15:00\", \"%Y-%m-%d %H:%M:%S\")\n",
    "benchmark_agg_by_involved_rows(start_time, end_time)"
   ]
  },
  {
   "cell_type": "code",
   "execution_count": 42,
   "id": "e3dee472",
   "metadata": {},
   "outputs": [
    {
     "name": "stdout",
     "output_type": "stream",
     "text": [
      "Row count for the query: 7499\n"
     ]
    },
    {
     "data": {
      "text/plain": [
       "4.693589448928833"
      ]
     },
     "execution_count": 42,
     "metadata": {},
     "output_type": "execute_result"
    }
   ],
   "source": [
    "start_time = datetime.strptime(\"2015-02-02 09:15:00\", \"%Y-%m-%d %H:%M:%S\")\n",
    "end_time = datetime.strptime(\"2015-03-02 09:15:00\", \"%Y-%m-%d %H:%M:%S\")\n",
    "benchmark_agg_by_involved_rows(start_time, end_time)"
   ]
  },
  {
   "cell_type": "code",
   "execution_count": 43,
   "id": "438bc5b1",
   "metadata": {},
   "outputs": [
    {
     "name": "stdout",
     "output_type": "stream",
     "text": [
      "Row count for the query: 92232\n"
     ]
    },
    {
     "data": {
      "text/plain": [
       "4.239988088607788"
      ]
     },
     "execution_count": 43,
     "metadata": {},
     "output_type": "execute_result"
    }
   ],
   "source": [
    "start_time= datetime.strptime(\"2015-02-02 09:15:00\", \"%Y-%m-%d %H:%M:%S\")\n",
    "end_time= datetime.strptime(\"2016-02-02 09:15:00\", \"%Y-%m-%d %H:%M:%S\")\n",
    "benchmark_agg_by_involved_rows(start_time, end_time)"
   ]
  },
  {
   "cell_type": "code",
   "execution_count": 45,
   "id": "d1d3738c",
   "metadata": {},
   "outputs": [
    {
     "name": "stdout",
     "output_type": "stream",
     "text": [
      "Row count for the query: 461635\n"
     ]
    },
    {
     "data": {
      "text/plain": [
       "4.384538650512695"
      ]
     },
     "execution_count": 45,
     "metadata": {},
     "output_type": "execute_result"
    }
   ],
   "source": [
    "start_time= datetime.strptime(\"2015-02-02 09:15:00\", \"%Y-%m-%d %H:%M:%S\")\n",
    "end_time= datetime.strptime(\"2020-02-02 09:15:00\", \"%Y-%m-%d %H:%M:%S\")\n",
    "benchmark_agg_by_involved_rows(start_time, end_time)"
   ]
  },
  {
   "cell_type": "code",
   "execution_count": 46,
   "id": "3d2a86ab",
   "metadata": {},
   "outputs": [
    {
     "name": "stdout",
     "output_type": "stream",
     "text": [
      "Row count for the query: 830959\n"
     ]
    },
    {
     "data": {
      "text/plain": [
       "4.3456196784973145"
      ]
     },
     "execution_count": 46,
     "metadata": {},
     "output_type": "execute_result"
    }
   ],
   "source": [
    "start_time= datetime.strptime(\"2015-02-02 09:15:00\", \"%Y-%m-%d %H:%M:%S\")\n",
    "end_time= datetime.strptime(\"2025-02-02 09:15:00\", \"%Y-%m-%d %H:%M:%S\")\n",
    "benchmark_agg_by_involved_rows(start_time, end_time)"
   ]
  },
  {
   "cell_type": "code",
   "execution_count": 47,
   "id": "2f09bd52",
   "metadata": {},
   "outputs": [
    {
     "name": "stdout",
     "output_type": "stream",
     "text": [
      "Row count for the query: 374\n",
      "Row count for the query: 374\n",
      "Row count for the query: 374\n",
      "Row count for the query: 374\n",
      "Row count for the query: 374\n",
      "Row count for the query: 374\n",
      "Row count for the query: 374\n",
      "Row count for the query: 374\n",
      "Row count for the query: 374\n",
      "Row count for the query: 374\n",
      "Row count for the query: 374\n",
      "Row count for the query: 374\n",
      "Row count for the query: 374\n",
      "Row count for the query: 374\n",
      "Row count for the query: 374\n",
      "Row count for the query: 374\n",
      "Row count for the query: 374\n",
      "Row count for the query: 374\n",
      "Row count for the query: 374\n",
      "Row count for the query: 374\n",
      "Row count for the query: 374\n",
      "Row count for the query: 374\n",
      "Row count for the query: 374\n",
      "Row count for the query: 374\n",
      "Row count for the query: 374\n",
      "Row count for the query: 374\n",
      "Row count for the query: 374\n",
      "Row count for the query: 374\n",
      "Row count for the query: 374\n",
      "Row count for the query: 374\n"
     ]
    }
   ],
   "source": [
    "results =[]\n",
    "for i in range(1, 31):\n",
    "    start_time = datetime.strptime(\"2015-02-02 09:15:00\", \"%Y-%m-%d %H:%M:%S\")\n",
    "    end_time = datetime.strptime(\"2015-02-03 09:15:00\", \"%Y-%m-%d %H:%M:%S\")\n",
    "    results.append(benchmark_agg_by_involved_rows(start_time, end_time, concurrency=i))\n"
   ]
  },
  {
   "cell_type": "code",
   "execution_count": 48,
   "id": "29641291",
   "metadata": {},
   "outputs": [
    {
     "data": {
      "text/plain": [
       "[4.695425510406494,\n",
       " 5.158757448196411,\n",
       " 6.089565674463908,\n",
       " 8.579655885696411,\n",
       " 8.480598068237304,\n",
       " 10.93638265132904,\n",
       " 14.856348139899117,\n",
       " 15.964705139398575,\n",
       " 18.362651083204483,\n",
       " 21.230886220932007,\n",
       " 32.837878400629215,\n",
       " 24.860192239284515,\n",
       " 31.72158059707055,\n",
       " 30.787520340510778,\n",
       " 33.800696563720706,\n",
       " 33.1061297506094,\n",
       " 32.41942273869234,\n",
       " 34.80714086691538,\n",
       " 38.807517164631896,\n",
       " 39.65705789327622,\n",
       " 40.36796188354492,\n",
       " 49.88952309435064,\n",
       " 63.595354992410414,\n",
       " 59.29600534836451,\n",
       " 55.13662085533142,\n",
       " 49.53926875958076,\n",
       " 52.474648775877775,\n",
       " 54.7389977148601,\n",
       " 57.47686035879727,\n",
       " 61.67925324440002]"
      ]
     },
     "execution_count": 48,
     "metadata": {},
     "output_type": "execute_result"
    }
   ],
   "source": [
    "results"
   ]
  },
  {
   "cell_type": "code",
   "execution_count": null,
   "id": "32807872",
   "metadata": {},
   "outputs": [
    {
     "name": "stdout",
     "output_type": "stream",
     "text": [
      "Row count for the query: 374\n",
      "Row count for the query: 374\n",
      "Row count for the query: 374\n",
      "Row count for the query: 374\n",
      "Row count for the query: 374\n",
      "Row count for the query: 374\n",
      "Row count for the query: 374\n",
      "Row count for the query: 374\n",
      "Row count for the query: 374\n",
      "Row count for the query: 374\n",
      "Row count for the query: 374\n",
      "Row count for the query: 374\n",
      "Row count for the query: 374\n",
      "Row count for the query: 374\n",
      "Row count for the query: 374\n",
      "Row count for the query: 374\n",
      "Row count for the query: 374\n",
      "Row count for the query: 374\n",
      "Row count for the query: 374\n",
      "Row count for the query: 374\n",
      "Row count for the query: 374\n",
      "Row count for the query: 374\n",
      "Row count for the query: 374\n",
      "Row count for the query: 374\n",
      "Row count for the query: 374\n"
     ]
    }
   ],
   "source": [
    "results =[]\n",
    "for i in range(1, 31):\n",
    "    start_time = datetime.strptime(\"2015-02-02 09:15:00\", \"%Y-%m-%d %H:%M:%S\")\n",
    "    end_time = datetime.strptime(\"2015-02-03 09:15:00\", \"%Y-%m-%d %H:%M:%S\")\n",
    "    results.append(benchmark_performance_by_returned_rows(start_time, end_time, concurrency=i))\n"
   ]
  },
  {
   "cell_type": "markdown",
   "id": "2b7b4294",
   "metadata": {},
   "source": [
    "dataset_path= r\"C:\\Users\\USER\\Desktop\\AQA_data\\data base\\dataset\\ACC.csv\"\n"
   ]
  }
 ],
 "metadata": {
  "kernelspec": {
   "display_name": "aqa2",
   "language": "python",
   "name": "python3"
  },
  "language_info": {
   "codemirror_mode": {
    "name": "ipython",
    "version": 3
   },
   "file_extension": ".py",
   "mimetype": "text/x-python",
   "name": "python",
   "nbconvert_exporter": "python",
   "pygments_lexer": "ipython3",
   "version": "3.13.5"
  }
 },
 "nbformat": 4,
 "nbformat_minor": 5
}
